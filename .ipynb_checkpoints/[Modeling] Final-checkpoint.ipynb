{
 "cells": [
  {
   "cell_type": "markdown",
   "id": "d66cf60d",
   "metadata": {},
   "source": [
    "# 전력 사용량 예측 경진대회"
   ]
  },
  {
   "cell_type": "markdown",
   "id": "787b7b0f",
   "metadata": {},
   "source": [
    "# 모델링 파트 정리"
   ]
  },
  {
   "cell_type": "code",
   "execution_count": 3,
   "id": "d4dcaf58",
   "metadata": {},
   "outputs": [],
   "source": [
    "import pandas as pd\n",
    "import numpy as np\n",
    "import matplotlib.pyplot as plt\n",
    "import seaborn as sns\n",
    "\n",
    "import sklearn as sk\n",
    "from sklearn.cluster import KMeans\n",
    "\n",
    "from tqdm import tqdm\n",
    "from sklearn.ensemble import RandomForestRegressor, ExtraTreesRegressor\n",
    "from lightgbm import LGBMRegressor\n",
    "from xgboost import XGBRegressor\n",
    "from catboost import CatBoostRegressor\n",
    "\n",
    "from sklearn.model_selection import KFold\n",
    "\n",
    "from bayes_opt import BayesianOptimization\n",
    "\n",
    "import datetime\n",
    "import warnings\n",
    "warnings.filterwarnings(\"ignore\")"
   ]
  },
  {
   "cell_type": "code",
   "execution_count": 4,
   "id": "4b29d41b",
   "metadata": {},
   "outputs": [
    {
     "name": "stdout",
     "output_type": "stream",
     "text": [
      "1.2.4\n",
      "1.19.5\n",
      "0.11.1\n",
      "0.23.2\n"
     ]
    }
   ],
   "source": [
    "print(pd.__version__)\n",
    "print(np.__version__)\n",
    "print(sns.__version__)\n",
    "print(sk.__version__)"
   ]
  },
  {
   "cell_type": "markdown",
   "id": "2518c6ee",
   "metadata": {},
   "source": [
    "## Cluster Model: 6.19229"
   ]
  },
  {
   "cell_type": "code",
   "execution_count": 5,
   "id": "5fc6211e",
   "metadata": {},
   "outputs": [],
   "source": [
    "PATH = r'C:\\Users\\Wyatt\\wyatt37\\data\\energy'"
   ]
  },
  {
   "cell_type": "code",
   "execution_count": 6,
   "id": "8fa3c8aa",
   "metadata": {},
   "outputs": [],
   "source": [
    "train_col = ['num', 'date_time', 'target', 'temp', 'wind', 'humid', 'rain', 'sunny', 'cooler', 'solar']\n",
    "test_col = ['num', 'date_time', 'temp', 'wind', 'humid', 'rain', 'sunny', 'cooler', 'solar']"
   ]
  },
  {
   "cell_type": "code",
   "execution_count": 7,
   "id": "902ad894",
   "metadata": {},
   "outputs": [],
   "source": [
    "train = pd.read_csv(PATH + '\\\\train.csv', encoding='cp949', names=train_col, header=0)\n",
    "test = pd.read_csv(PATH + '\\\\test.csv', encoding='cp949', names=test_col, header=0)\n",
    "sub = pd.read_csv(PATH + '\\\\sample_submission.csv', encoding='cp949')"
   ]
  },
  {
   "cell_type": "code",
   "execution_count": 8,
   "id": "ae83d332",
   "metadata": {},
   "outputs": [],
   "source": [
    "def make_time(train):\n",
    "    train['datetime'] = pd.to_datetime(train.date_time)\n",
    "    \n",
    "    # 1차 time / 지지\n",
    "    train['month'] = train.datetime.dt.month                    # 월(숫자)\n",
    "    train['day'] = train.datetime.dt.day                        # 일(숫자)\n",
    "    train['hour'] = train.datetime.dt.hour                      # 시(숫자)\n",
    "    train['weekday'] = train.datetime.dt.weekday                # 시(숫자)\n",
    "    train['dayofyear'] = train.datetime.dt.dayofyear            # 연 기준 몇일째(숫자)\n",
    "    train['weekofyear'] = train.datetime.dt.isocalendar().week  # 연 기준 몇주째(숫자) (=week)\n",
    "    \n",
    "    # 2차 time / 지지\n",
    "    train['month_start'] = train.datetime.dt.is_month_start\n",
    "    train['month_end'] = train.datetime.dt.is_month_end\n",
    "    \n",
    "    # 여기까지\n",
    "    \n",
    "    train.drop(['date_time', 'datetime'], axis=1, inplace=True)\n",
    "    \n",
    "    train.weekofyear = train.weekofyear.astype(int)\n",
    "    \n",
    "    return train"
   ]
  },
  {
   "cell_type": "code",
   "execution_count": 9,
   "id": "e40be59f",
   "metadata": {},
   "outputs": [],
   "source": [
    "train = make_time(train)\n",
    "test = make_time(test)"
   ]
  },
  {
   "cell_type": "code",
   "execution_count": 10,
   "id": "2cd23b41",
   "metadata": {},
   "outputs": [],
   "source": [
    "# cooler와 solar를 넣어주겠습니다.\n",
    "for i in range(1, 61):\n",
    "    test.loc[test.num == i, 'cooler'] = train.loc[train.num == i, 'cooler'].mean()\n",
    "    test.loc[test.num == i, 'solar'] = train.loc[train.num == i, 'solar'].mean()"
   ]
  },
  {
   "cell_type": "code",
   "execution_count": 11,
   "id": "85295a82",
   "metadata": {},
   "outputs": [],
   "source": [
    "test[['temp', 'wind', 'humid', 'rain', 'sunny']] = test[['temp', 'wind', 'humid', 'rain', 'sunny']].interpolate(method='values').round(1)"
   ]
  },
  {
   "cell_type": "code",
   "execution_count": 12,
   "id": "a4629aa0",
   "metadata": {},
   "outputs": [],
   "source": [
    "# 6월 6일은 현충일\n",
    "# 8월 15일은 광복절\n",
    "# 8월 17일은 임시공휴일\n",
    "\n",
    "# 휴일이 많지 않으니, 주말에 포함시키자.\n",
    "\n",
    "train.loc[train.weekday >= 5, 'holiday'] = True\n",
    "train.loc[train.weekday < 5, 'holiday'] = False\n",
    "train.loc[(train.month == 8) & (train.day == 17), 'holiday'] = True\n",
    "\n",
    "test.loc[test.weekday >= 5, 'holiday'] = True\n",
    "test.loc[test.weekday < 5, 'holiday'] = False\n",
    "\n",
    "train.holiday = train.holiday.astype('bool')\n",
    "test.holiday = test.holiday.astype('bool')"
   ]
  },
  {
   "cell_type": "markdown",
   "id": "b557fa86",
   "metadata": {},
   "source": [
    "### Clustering"
   ]
  },
  {
   "cell_type": "code",
   "execution_count": 13,
   "id": "190ff534",
   "metadata": {},
   "outputs": [],
   "source": [
    "train_origin = train.copy()"
   ]
  },
  {
   "cell_type": "code",
   "execution_count": 14,
   "id": "e4c2213b",
   "metadata": {
    "tags": []
   },
   "outputs": [],
   "source": [
    "# 정확한 군집화를 위한 스케일링\n",
    "for i in range(1, 61):\n",
    "    mean_ = train.loc[train.num == i].target.mean()\n",
    "    std_ = train.loc[train.num == i].target.std()\n",
    "    train.loc[train.num == i, 'target'] = ((train.loc[train.num == i, 'target']) - mean_) / std_"
   ]
  },
  {
   "cell_type": "code",
   "execution_count": 15,
   "id": "8b430154",
   "metadata": {},
   "outputs": [],
   "source": [
    "# 요일에 따른 평균 값 산출\n",
    "weekday_mean = (\n",
    "    train.groupby(['num', 'weekday'])['target'].mean()\n",
    "    .reset_index()\n",
    "    .pivot('num', 'weekday', 'target')\n",
    "    .reset_index()\n",
    ")"
   ]
  },
  {
   "cell_type": "code",
   "execution_count": 16,
   "id": "1c0f2df3",
   "metadata": {},
   "outputs": [],
   "source": [
    "# 시간에 따른 평균 값 산출\n",
    "hour_mean = (\n",
    "    train.groupby(['num', 'hour'])['target'].mean()\n",
    "    .reset_index()\n",
    "    .pivot('num', 'hour', 'target')\n",
    "    .reset_index()\n",
    "    .drop('num', axis=1)\n",
    ")"
   ]
  },
  {
   "cell_type": "code",
   "execution_count": 17,
   "id": "f980ef3c",
   "metadata": {},
   "outputs": [],
   "source": [
    "# 요일별, 시간별 평균 전력 사용량 테이블 구축\n",
    "cl_df = pd.concat([weekday_mean, hour_mean], axis=1)"
   ]
  },
  {
   "cell_type": "code",
   "execution_count": 18,
   "id": "2d9ff539",
   "metadata": {},
   "outputs": [],
   "source": [
    "# 보기 편하게 컬럼 이름 지정\n",
    "columns = (\n",
    "    ['num']\n",
    "    + ['day_mean_' + str(i) for i in range(7)]\n",
    "    + ['hour_mean_' + str(i) for i in range(24)]\n",
    ")\n",
    "\n",
    "cl_df.columns = columns"
   ]
  },
  {
   "cell_type": "code",
   "execution_count": 19,
   "id": "e0128ba9",
   "metadata": {},
   "outputs": [],
   "source": [
    "# 엘보우 포인트를 통해 kmeans 클러스터링\n",
    "model = KMeans(n_clusters = 4, random_state = 42)\n",
    "pred = model.fit_predict(cl_df.iloc[:, 1:])"
   ]
  },
  {
   "cell_type": "code",
   "execution_count": 20,
   "id": "12bc25c5",
   "metadata": {},
   "outputs": [],
   "source": [
    "# 값 할당\n",
    "cl_df['km_cluster'] = pred"
   ]
  },
  {
   "cell_type": "code",
   "execution_count": 21,
   "id": "10c8ce56",
   "metadata": {},
   "outputs": [],
   "source": [
    "# 기존 train set과 merge\n",
    "train_cl = pd.merge(train, cl_df[['num', 'km_cluster']], how='left', on='num')"
   ]
  },
  {
   "cell_type": "code",
   "execution_count": 22,
   "id": "5fa6843e",
   "metadata": {},
   "outputs": [],
   "source": [
    "test_cl = test.copy()"
   ]
  },
  {
   "cell_type": "code",
   "execution_count": 23,
   "id": "9943a3fc",
   "metadata": {},
   "outputs": [],
   "source": [
    "# test set에도 클러스터 값 할당\n",
    "for i in range(1, 61):\n",
    "    test_cl.loc[test_cl.num == i, 'km_cluster'] = (\n",
    "        train_cl.loc[train_cl.num == i, 'km_cluster'].max()\n",
    "    )"
   ]
  },
  {
   "cell_type": "markdown",
   "id": "17ed753b",
   "metadata": {},
   "source": [
    "### Modeling"
   ]
  },
  {
   "cell_type": "code",
   "execution_count": 24,
   "id": "8b5aea15",
   "metadata": {},
   "outputs": [],
   "source": [
    "X = pd.concat([train_origin, train_cl['km_cluster']], axis=1)\n",
    "y = pd.concat([test, test_cl['km_cluster']], axis=1)"
   ]
  },
  {
   "cell_type": "code",
   "execution_count": 25,
   "id": "eafd1331",
   "metadata": {},
   "outputs": [],
   "source": [
    "others = [31, 32, 33, 34, 39, 59, 1, 3, 5, 9, 15]\n",
    "for other, km_num in zip(others, range(4, len(others) + 4)):\n",
    "    X.loc[X.num == other, 'km_cluster'] = km_num\n",
    "    y.loc[y.num == other, 'km_cluster'] = km_num"
   ]
  },
  {
   "cell_type": "code",
   "execution_count": 26,
   "id": "3befa098",
   "metadata": {},
   "outputs": [
    {
     "data": {
      "text/plain": [
       "0     63240\n",
       "2     24480\n",
       "3     12240\n",
       "4      2040\n",
       "5      2040\n",
       "6      2040\n",
       "7      2040\n",
       "8      2040\n",
       "9      2040\n",
       "10     2040\n",
       "11     2040\n",
       "12     2040\n",
       "13     2040\n",
       "14     2040\n",
       "Name: km_cluster, dtype: int64"
      ]
     },
     "execution_count": 26,
     "metadata": {},
     "output_type": "execute_result"
    }
   ],
   "source": [
    "X.km_cluster.value_counts()"
   ]
  },
  {
   "cell_type": "code",
   "execution_count": 27,
   "id": "e02abcf2",
   "metadata": {},
   "outputs": [],
   "source": [
    "train_cl_0 = X.loc[X.km_cluster == 0,\n",
    "                          ~X.columns.isin(['target', 'km_cluster', 'date_time'])].reset_index(drop=True)\n",
    "train_cl_1 = X.loc[X.km_cluster == 1,\n",
    "                          ~X.columns.isin(['target', 'km_cluster', 'date_time'])].reset_index(drop=True)\n",
    "train_cl_2 = X.loc[X.km_cluster == 2,\n",
    "                          ~X.columns.isin(['target', 'km_cluster', 'date_time'])].reset_index(drop=True)\n",
    "train_cl_3 = X.loc[X.km_cluster == 3,\n",
    "                          ~X.columns.isin(['target', 'km_cluster', 'date_time'])].reset_index(drop=True)\n",
    "\n",
    "# 별도 모델링\n",
    "# 건물별로 모델링을 할 때는 단일 값인 cooler, solar, num을 제거합니다.\n",
    "for i in range(4, len(others) + 4):\n",
    "    globals()['train_cl_{}'.format(i)] = X.loc[X.km_cluster == i,\n",
    "                                               ~X.columns.isin(['target', 'km_cluster', 'date_time', 'cooler', 'solar', 'num'])].reset_index(drop=True)"
   ]
  },
  {
   "cell_type": "code",
   "execution_count": 28,
   "id": "df14e74d",
   "metadata": {},
   "outputs": [],
   "source": [
    "train_cl_0_y = X.loc[X.km_cluster == 0, 'target'].reset_index(drop=True)\n",
    "train_cl_1_y = X.loc[X.km_cluster == 1, 'target'].reset_index(drop=True)\n",
    "train_cl_2_y = X.loc[X.km_cluster == 2, 'target'].reset_index(drop=True)\n",
    "train_cl_3_y = X.loc[X.km_cluster == 3, 'target'].reset_index(drop=True)\n",
    "\n",
    "# 별도 모델링\n",
    "for i in range(4, len(others) + 4):\n",
    "    globals()['train_cl_{}_y'.format(i)] = X.loc[X.km_cluster == i, 'target'].reset_index(drop=True)"
   ]
  },
  {
   "cell_type": "code",
   "execution_count": 29,
   "id": "2e84e7bc",
   "metadata": {},
   "outputs": [],
   "source": [
    "test_cl_0 = y.loc[y.km_cluster == 0, ~y.columns.isin(['km_cluster', 'date_time'])]\n",
    "test_cl_1 = y.loc[y.km_cluster == 1, ~y.columns.isin(['km_cluster', 'date_time'])]\n",
    "test_cl_2 = y.loc[y.km_cluster == 2, ~y.columns.isin(['km_cluster', 'date_time'])]\n",
    "test_cl_3 = y.loc[y.km_cluster == 3, ~y.columns.isin(['km_cluster', 'date_time'])]\n",
    "\n",
    "# 별도 모델링\n",
    "# 건물별로 모델링을 할 때는 단일 값인 cooler, solar, num을 제거합니다.\n",
    "for i in range(4, len(others) + 4):\n",
    "    globals()['test_cl_{}'.format(i)] = y.loc[y.km_cluster == i, ~y.columns.isin(['km_cluster', 'date_time', 'cooler', 'solar', 'num'])]"
   ]
  },
  {
   "cell_type": "code",
   "execution_count": 30,
   "id": "bdd6bcb9",
   "metadata": {},
   "outputs": [],
   "source": [
    "train_x_sets = [train_cl_0, train_cl_2, train_cl_3,\n",
    "               train_cl_4, train_cl_5, train_cl_6, train_cl_7,\n",
    "               train_cl_8, train_cl_9, train_cl_10, train_cl_11,\n",
    "               train_cl_12, train_cl_13, train_cl_14]\n",
    "train_y_sets = [train_cl_0_y, train_cl_2_y, train_cl_3_y,\n",
    "               train_cl_4_y, train_cl_5_y, train_cl_6_y, train_cl_7_y,\n",
    "               train_cl_8_y, train_cl_9_y, train_cl_10_y, train_cl_11_y,\n",
    "               train_cl_12_y, train_cl_13_y, train_cl_14_y]\n",
    "test_x_sets = [test_cl_0, test_cl_2, test_cl_3,\n",
    "              test_cl_4, test_cl_5, test_cl_6, test_cl_7,\n",
    "              test_cl_8, test_cl_9, test_cl_10, test_cl_11,\n",
    "              test_cl_12, test_cl_13, test_cl_14]"
   ]
  },
  {
   "cell_type": "code",
   "execution_count": 31,
   "id": "5aed05f2",
   "metadata": {},
   "outputs": [],
   "source": [
    "preds = []\n",
    "fe = []\n",
    "oob = []\n",
    "for x, y, t in zip(train_x_sets, train_y_sets, test_x_sets):\n",
    "    rf = RandomForestRegressor(random_state=42,\n",
    "                               oob_score=True,\n",
    "                               n_estimators=200,\n",
    "                               n_jobs = -1)\n",
    "    rf.fit(x, y)\n",
    "    pred = rf.predict(t)\n",
    "    preds.append(pred)\n",
    "    fe.append(rf.feature_importances_)\n",
    "    oob.append(rf.oob_score_)"
   ]
  },
  {
   "cell_type": "code",
   "execution_count": 32,
   "id": "8a1c4d17",
   "metadata": {},
   "outputs": [],
   "source": [
    "pred_set = []\n",
    "for te, p in zip(test_x_sets, preds):\n",
    "    te['pred'] = p\n",
    "    pred_set.append(te)"
   ]
  },
  {
   "cell_type": "code",
   "execution_count": 33,
   "id": "9734d1b9",
   "metadata": {},
   "outputs": [],
   "source": [
    "pred_set = pd.concat(pred_set).sort_index()"
   ]
  },
  {
   "cell_type": "code",
   "execution_count": 34,
   "id": "4f14d4e8",
   "metadata": {},
   "outputs": [],
   "source": [
    "sub.answer = pred_set.pred"
   ]
  },
  {
   "cell_type": "code",
   "execution_count": 35,
   "id": "8a7cdf56",
   "metadata": {},
   "outputs": [],
   "source": [
    "cluster_pred = pred_set.pred"
   ]
  },
  {
   "cell_type": "markdown",
   "id": "7e642cec",
   "metadata": {},
   "source": [
    "## XGB: 6.39996"
   ]
  },
  {
   "cell_type": "code",
   "execution_count": 38,
   "id": "4c572a9b",
   "metadata": {
    "tags": []
   },
   "outputs": [],
   "source": [
    "preds = []\n",
    "fe = []\n",
    "for i in range(1, 61):\n",
    "    # 건물별로 데이터 할당\n",
    "    x_train_building = train.loc[train.num == i, ~train.columns.isin(['target', 'num', 'cooler', 'solar'])]\n",
    "    y_train_building = train.loc[train.num == i, 'target']\n",
    "    x_test_building = test.loc[test.num == i, ~test.columns.isin(['num', 'cooler', 'solar'])]\n",
    "\n",
    "    # kfold\n",
    "    cross = KFold(n_splits=5, shuffle=True, random_state=42)\n",
    "    folds = []\n",
    "    for train_idx, valid_idx in cross.split(x_train_building, y_train_building):\n",
    "        folds.append((train_idx, valid_idx))\n",
    "        \n",
    "    models={}\n",
    "    for fold in range(5):\n",
    "        train_idx, valid_idx = folds[fold]\n",
    "        X_tra = x_train_building.iloc[train_idx, :]\n",
    "        y_tra = y_train_building.iloc[train_idx]\n",
    "        X_val = x_train_building.iloc[valid_idx, :]\n",
    "        y_val = y_train_building.iloc[valid_idx]\n",
    "\n",
    "        model=XGBRegressor(learning_rate=0.027, random_state=42, n_estimators=10000)\n",
    "        model.fit(X_tra, y_tra, eval_set=[(X_tra, y_tra), (X_val, y_val)],\n",
    "                  eval_metric='rmse',\n",
    "                  early_stopping_rounds=30, verbose=0)\n",
    "        models[fold]=model\n",
    "    \n",
    "    pred = models[0].predict(x_test_building) / 5\n",
    "    for k in range(1, 5):\n",
    "        pred += models[k].predict(x_test_building) / 5\n",
    "    \n",
    "    preds.append(pred.tolist())\n",
    "    fe.append(model.feature_importances_)"
   ]
  },
  {
   "cell_type": "code",
   "execution_count": 39,
   "id": "c592559f",
   "metadata": {},
   "outputs": [],
   "source": [
    "xgb_preds = sum(preds, [])"
   ]
  },
  {
   "cell_type": "markdown",
   "id": "5ff5b18c",
   "metadata": {},
   "source": [
    "## LGBM: 6.34797"
   ]
  },
  {
   "cell_type": "code",
   "execution_count": null,
   "id": "c2d43233",
   "metadata": {
    "tags": []
   },
   "outputs": [],
   "source": [
    "preds = []\n",
    "fes = []\n",
    "\n",
    "for i in range(1, 61): \n",
    "    # 건물별로 데이터 할당\n",
    "    x_train_building = train.loc[train.num == i, ~train.columns.isin(['target', 'num', 'cooler', 'solar'])]\n",
    "    y_train_building = train.loc[train.num == i, 'target']\n",
    "    x_test_building = test.loc[test.num == i, ~test.columns.isin(['num', 'cooler', 'solar'])]\n",
    "    \n",
    "    cross = KFold(n_splits=5, shuffle=True, random_state=42)\n",
    "    folds = []\n",
    "    for train_idx, valid_idx in cross.split(x_train_building, y_train_building):\n",
    "        folds.append((train_idx, valid_idx))\n",
    "        \n",
    "    models={}\n",
    "    for fold in range(5):\n",
    "        train_idx, valid_idx = folds[fold]\n",
    "        X_tra = x_train_building.iloc[train_idx, :]\n",
    "        y_tra = y_train_building.iloc[train_idx]\n",
    "        X_val = x_train_building.iloc[valid_idx, :]\n",
    "        y_val = y_train_building.iloc[valid_idx]\n",
    "\n",
    "        model=LGBMRegressor(learning_rate=0.027, random_state=42, n_estimators=10000)\n",
    "        model.fit(X_tra, y_tra, eval_set=[(X_tra, y_tra), (X_val, y_val)],\n",
    "                  eval_metric='smape',\n",
    "                  early_stopping_rounds=30, verbose=0)\n",
    "        models[fold]=model\n",
    "    \n",
    "    pred = models[0].predict(x_test_building) / 5\n",
    "    fe = models[0].feature_importances_ / 5\n",
    "    for k in range(1, 5):\n",
    "        pred += models[k].predict(x_test_building) / 5\n",
    "        fe += models[k].feature_importances_ / 5\n",
    "    \n",
    "    preds.append(pred.tolist())\n",
    "    fes.append(fe)"
   ]
  },
  {
   "cell_type": "code",
   "execution_count": null,
   "id": "d0932cf9",
   "metadata": {},
   "outputs": [],
   "source": [
    "lgbm_preds = sum(preds, [])"
   ]
  },
  {
   "cell_type": "markdown",
   "id": "051f298d",
   "metadata": {},
   "source": [
    "## 앙상블 Best3: 6.11069"
   ]
  },
  {
   "cell_type": "code",
   "execution_count": null,
   "id": "e200ed84",
   "metadata": {},
   "outputs": [],
   "source": [
    "best_3_ens_preds = (np.array(cluster_pred) + np.array(xgb_preds) + np.array(lgbm_preds)) / 3"
   ]
  },
  {
   "cell_type": "code",
   "execution_count": null,
   "id": "84f3fd12",
   "metadata": {},
   "outputs": [],
   "source": [
    "sub.answer = best_3_ens_preds"
   ]
  },
  {
   "cell_type": "code",
   "execution_count": null,
   "id": "ffcc03c5",
   "metadata": {},
   "outputs": [],
   "source": [
    "#sub.to_csv('submission/210625_final_newbest3-ens.csv', index=False)\n",
    "sub"
   ]
  },
  {
   "cell_type": "markdown",
   "id": "77dcc895",
   "metadata": {},
   "source": [
    "- **PUBLIC SCORE / RANK:**\n",
    "- **PRIVATE SCORE / RANK:**"
   ]
  },
  {
   "cell_type": "code",
   "execution_count": null,
   "id": "244b1906",
   "metadata": {},
   "outputs": [],
   "source": []
  }
 ],
 "metadata": {
  "kernelspec": {
   "display_name": "wyatt38",
   "language": "python",
   "name": "wyatt38"
  },
  "language_info": {
   "codemirror_mode": {
    "name": "ipython",
    "version": 3
   },
   "file_extension": ".py",
   "mimetype": "text/x-python",
   "name": "python",
   "nbconvert_exporter": "python",
   "pygments_lexer": "ipython3",
   "version": "3.8.0"
  }
 },
 "nbformat": 4,
 "nbformat_minor": 5
}

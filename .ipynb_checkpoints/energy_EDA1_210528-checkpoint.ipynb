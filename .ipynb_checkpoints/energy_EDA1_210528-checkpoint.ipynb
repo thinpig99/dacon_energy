{
 "cells": [
  {
   "cell_type": "markdown",
   "id": "499a43ef",
   "metadata": {},
   "source": [
    "전력사용량 예측 경진대회"
   ]
  },
  {
   "cell_type": "code",
   "execution_count": 3,
   "id": "48e35170",
   "metadata": {},
   "outputs": [],
   "source": [
    "import pandas as pd\n",
    "import numpy as np\n",
    "import matplotlib.pyplot as plt\n",
    "import seaborn as sns"
   ]
  },
  {
   "cell_type": "markdown",
   "id": "b09f7b61",
   "metadata": {},
   "source": [
    "# Business Understand"
   ]
  },
  {
   "cell_type": "markdown",
   "id": "fa332c4b",
   "metadata": {},
   "source": [
    "**평가 기준**\n",
    "\n",
    "|항목|심사기준|점수|\n",
    "|---|---|---|\n",
    "|데이터|타당한 데이터 분석 기법 및 기준을 통해 분석했는가?|10|\n",
    "|시각화|의도를 직관적으로 전달하는 시각화인가? |10|\n",
    "|코드 품질|코드의 오류 없이 간결한 코드를 작성하였는가? |5|\n",
    "|분석 방법|문제 해결을 위한 논리적인 구조가 명확한가? |10|\n",
    "|성능|코드를 통해 전력산출량을 정확히 예측할 수 있는가? |30|\n",
    "|관점|다른 사람이 생각하지 못한 새로운 관점을 제시하였는가? |10|\n",
    "|인사이트|전력 융합신서비스 발굴 및 비즈니스 모델 개발 활용에 도움이 될 인사이트를 발굴하였는가? |25|\n",
    "\n",
    "**논리성의 성능은 참가자가 게재한 코드의 구현 성능을 기준으로 함**"
   ]
  },
  {
   "cell_type": "markdown",
   "id": "6a6168bb",
   "metadata": {},
   "source": [
    "**평가 산식: SMAPE**\n",
    "- Symmetric Mean Absolute Percentage Error\n",
    "- MAPE의 경우  Actual 값이 0이거나 작은 경우 MAPE값이 지나치게 커지는 문제 발생\n",
    "- SMAPE는 이를 개선"
   ]
  },
  {
   "cell_type": "code",
   "execution_count": 48,
   "id": "88d75249",
   "metadata": {},
   "outputs": [
    {
     "data": {
      "text/html": [
       "<img src=\"https://wikimedia.org/api/rest_v1/media/math/render/svg/d1bfa1853da325fa525c67f48939e9131aad5700\" width=\"300\"/>"
      ],
      "text/plain": [
       "<IPython.core.display.Image object>"
      ]
     },
     "execution_count": 48,
     "metadata": {},
     "output_type": "execute_result"
    }
   ],
   "source": [
    "from IPython.display import Image\n",
    "Image(url='https://wikimedia.org/api/rest_v1/media/math/render/svg/d1bfa1853da325fa525c67f48939e9131aad5700',\n",
    "      width=300,\n",
    "     )"
   ]
  },
  {
   "cell_type": "code",
   "execution_count": 50,
   "id": "b6f4d5a1",
   "metadata": {},
   "outputs": [
    {
     "data": {
      "text/html": [
       "<img src=\"https://wikimedia.org/api/rest_v1/media/math/render/svg/9d7003eba8a7ffe2379cd5c232adf78daa3d1edf\" width=\"300\"/>"
      ],
      "text/plain": [
       "<IPython.core.display.Image object>"
      ]
     },
     "execution_count": 50,
     "metadata": {},
     "output_type": "execute_result"
    }
   ],
   "source": [
    "Image(url='https://wikimedia.org/api/rest_v1/media/math/render/svg/9d7003eba8a7ffe2379cd5c232adf78daa3d1edf',\n",
    "      width=300,\n",
    "     )"
   ]
  },
  {
   "cell_type": "code",
   "execution_count": 4,
   "id": "8e5646dd",
   "metadata": {},
   "outputs": [
    {
     "name": "stdout",
     "output_type": "stream",
     "text": [
      "평균 오차가 20일 때 실제값과 예측값의 대소 관계에 따른 MAE, MAPE 비교 \n",
      "\n",
      "실제값이 예측값 보다 작을 때 (예측값이 과대추정)\n",
      "MAE: 20.0\n",
      "MAPE: 0.9133333333333333\n",
      "SMAPE: 0.29\n",
      "\n",
      "실제값이 예측값 보다 클 때 (예측값이 과소추정)\n",
      "MAE: 20.0\n",
      "MAPE: 0.4371428571428571\n",
      "SMAPE: 0.29\n"
     ]
    }
   ],
   "source": [
    "def MAE(true, pred): # Mean Absolute Error\n",
    "    '''\n",
    "    true: np.array \n",
    "    pred: np.array\n",
    "    '''\n",
    "    return np.mean(np.abs(true-pred))\n",
    "\n",
    "def MAPE(true, pred): # Mean Absolute Percentage Error\n",
    "    '''\n",
    "    true: np.array \n",
    "    pred: np.array\n",
    "    '''\n",
    "    return np.mean(np.abs((true-pred)/true))\n",
    "\n",
    "def SMAPE(true, pred): # Symmetric Mean Absolute Percentage Error\n",
    "    '''\n",
    "    true: np.array \n",
    "    pred: np.array\n",
    "    '''\n",
    "    return np.mean((np.abs(true-pred))/(np.abs(true) + np.abs(pred))) #100은 상수이므로 이번 코드에서는 제외\n",
    "\n",
    "TRUE_UNDER = np.array([10, 20, 30, 40, 50])\n",
    "PRED_OVER = np.array([30, 40, 50, 60, 70])\n",
    "TRUE_OVER = np.array([30, 40, 50, 60, 70])\n",
    "PRED_UNDER = np.array([10, 20, 30, 40, 50])\n",
    "\n",
    "\n",
    "print('평균 오차가 20일 때 실제값과 예측값의 대소 관계에 따른 MAE, MAPE 비교 \\n')\n",
    "\n",
    "print('실제값이 예측값 보다 작을 때 (예측값이 과대추정)')\n",
    "print('MAE:', MAE(TRUE_UNDER, PRED_OVER))\n",
    "print('MAPE:', MAPE(TRUE_UNDER, PRED_OVER))\n",
    "print('SMAPE:', SMAPE(TRUE_UNDER, PRED_OVER))\n",
    "\n",
    "\n",
    "print('\\n실제값이 예측값 보다 클 때 (예측값이 과소추정)')\n",
    "print('MAE:', MAE(TRUE_OVER, PRED_UNDER))\n",
    "print('MAPE:', MAPE(TRUE_OVER, PRED_UNDER))\n",
    "print('SMAPE:', SMAPE(TRUE_OVER, PRED_UNDER))"
   ]
  },
  {
   "cell_type": "markdown",
   "id": "80ad8dc5",
   "metadata": {},
   "source": [
    "하지만 **SMAPE는 분모에 예측값 y^i이 들어가서 y^i에 의존적인 특성**을 지니고 있습니다. 예측값이 과소추정할 때 분모가 더 작아지므로 계산되는 오차가 커지는 현상이 발생합니다. 아래 코드를 통해 확인해보겠습니다."
   ]
  },
  {
   "cell_type": "code",
   "execution_count": 5,
   "id": "d3b4835f",
   "metadata": {},
   "outputs": [
    {
     "name": "stdout",
     "output_type": "stream",
     "text": [
      "평균 오차가 20일 때 과소추정, 과대추정에 따른 MAE, SMAPE 비교 \n",
      "\n",
      "과대추정 시\n",
      "MAE: 20.0\n",
      "MAPE: 0.3538095238095238\n",
      "SMAPE: 0.14912698412698414\n",
      "\n",
      "과소추정 시\n",
      "MAE: 20.0\n",
      "MAPE: 0.3538095238095238\n",
      "SMAPE: 0.21857142857142856\n"
     ]
    }
   ],
   "source": [
    "TRUE2 = np.array([40, 50, 60, 70, 80])\n",
    "PRED2_UNDER = np.array([20, 30, 40, 50, 60])\n",
    "PRED2_OVER = np.array([60, 70, 80, 90, 100])\n",
    "\n",
    "print('평균 오차가 20일 때 과소추정, 과대추정에 따른 MAE, SMAPE 비교 \\n')\n",
    "\n",
    "print('과대추정 시')\n",
    "print('MAE:', MAE(TRUE2, PRED2_OVER))\n",
    "print('MAPE:', MAPE(TRUE2, PRED2_OVER))\n",
    "print('SMAPE:', SMAPE(TRUE2, PRED2_OVER))\n",
    "\n",
    "print('\\n과소추정 시')\n",
    "print('MAE:', MAE(TRUE2, PRED2_UNDER))\n",
    "print('MAPE:', MAPE(TRUE2, PRED2_UNDER))\n",
    "print('SMAPE:', SMAPE(TRUE2, PRED2_UNDER))"
   ]
  },
  {
   "cell_type": "markdown",
   "id": "79b6c520",
   "metadata": {},
   "source": [
    "**외부 데이터 및 사전 학습 모델**\n",
    "- 평가 데이터 셋 이전 기간 **(2020년 8월 25일 전)** 의 외부 데이터 사용 가능\n",
    "- 공공 데이터 및 법적 제약이 없는 외부 데이터 허용\n",
    "- 사전학습 모델의 경우 사전학습에 사용된 데이터를 명시"
   ]
  },
  {
   "cell_type": "markdown",
   "id": "01ba7d7d",
   "metadata": {},
   "source": [
    "# Data Understanding"
   ]
  },
  {
   "cell_type": "markdown",
   "id": "edab5875",
   "metadata": {},
   "source": [
    "**train.csv:**\n",
    "- 60개 건물들의 2020년 6월 1일부터 2020년 8월 24일까지의 데이터\n",
    "- 1시간 단위로 제공\n",
    "- 전력사용량(kWh) 포함\n",
    "- shape: (122400, 10)"
   ]
  },
  {
   "cell_type": "markdown",
   "id": "fb4262f4",
   "metadata": {},
   "source": [
    "**test.csv:**\n",
    "- 60개 건물들의 2020년 8월 25일부터 2020년 8월 31일까지의 데이터\n",
    "- 3시간 단위로 제공(강수량의 경우 6시간 단위로 제공, 예보데이터)\n",
    "- 전력사용량(kWh) 미포함\n",
    "- shape: (10080, 9)"
   ]
  },
  {
   "cell_type": "code",
   "execution_count": 6,
   "id": "59509e83",
   "metadata": {},
   "outputs": [],
   "source": [
    "PATH = r'C:\\Users\\Wyatt\\wyatt37\\data\\energy'"
   ]
  },
  {
   "cell_type": "code",
   "execution_count": 7,
   "id": "388fe13b",
   "metadata": {},
   "outputs": [],
   "source": [
    "train_col = ['num', 'date_time', 'target', 'temp', 'wind', 'humid', 'rain', 'sunny', 'cooler', 'solar']\n",
    "test_col = ['num', 'date_time', 'temp', 'wind', 'humid', 'rain', 'sunny', 'cooler', 'solar']"
   ]
  },
  {
   "cell_type": "code",
   "execution_count": 8,
   "id": "5ecdca4a",
   "metadata": {},
   "outputs": [
    {
     "data": {
      "text/html": [
       "<div>\n",
       "<style scoped>\n",
       "    .dataframe tbody tr th:only-of-type {\n",
       "        vertical-align: middle;\n",
       "    }\n",
       "\n",
       "    .dataframe tbody tr th {\n",
       "        vertical-align: top;\n",
       "    }\n",
       "\n",
       "    .dataframe thead th {\n",
       "        text-align: right;\n",
       "    }\n",
       "</style>\n",
       "<table border=\"1\" class=\"dataframe\">\n",
       "  <thead>\n",
       "    <tr style=\"text-align: right;\">\n",
       "      <th></th>\n",
       "      <th>num</th>\n",
       "      <th>date_time</th>\n",
       "      <th>target</th>\n",
       "      <th>temp</th>\n",
       "      <th>wind</th>\n",
       "      <th>humid</th>\n",
       "      <th>rain</th>\n",
       "      <th>sunny</th>\n",
       "      <th>cooler</th>\n",
       "      <th>solar</th>\n",
       "    </tr>\n",
       "  </thead>\n",
       "  <tbody>\n",
       "    <tr>\n",
       "      <th>0</th>\n",
       "      <td>1</td>\n",
       "      <td>2020-06-01 00</td>\n",
       "      <td>8179.056</td>\n",
       "      <td>17.6</td>\n",
       "      <td>2.5</td>\n",
       "      <td>92.0</td>\n",
       "      <td>0.8</td>\n",
       "      <td>0.0</td>\n",
       "      <td>0.0</td>\n",
       "      <td>0.0</td>\n",
       "    </tr>\n",
       "    <tr>\n",
       "      <th>1</th>\n",
       "      <td>1</td>\n",
       "      <td>2020-06-01 01</td>\n",
       "      <td>8135.640</td>\n",
       "      <td>17.7</td>\n",
       "      <td>2.9</td>\n",
       "      <td>91.0</td>\n",
       "      <td>0.3</td>\n",
       "      <td>0.0</td>\n",
       "      <td>0.0</td>\n",
       "      <td>0.0</td>\n",
       "    </tr>\n",
       "    <tr>\n",
       "      <th>2</th>\n",
       "      <td>1</td>\n",
       "      <td>2020-06-01 02</td>\n",
       "      <td>8107.128</td>\n",
       "      <td>17.5</td>\n",
       "      <td>3.2</td>\n",
       "      <td>91.0</td>\n",
       "      <td>0.0</td>\n",
       "      <td>0.0</td>\n",
       "      <td>0.0</td>\n",
       "      <td>0.0</td>\n",
       "    </tr>\n",
       "    <tr>\n",
       "      <th>3</th>\n",
       "      <td>1</td>\n",
       "      <td>2020-06-01 03</td>\n",
       "      <td>8048.808</td>\n",
       "      <td>17.1</td>\n",
       "      <td>3.2</td>\n",
       "      <td>91.0</td>\n",
       "      <td>0.0</td>\n",
       "      <td>0.0</td>\n",
       "      <td>0.0</td>\n",
       "      <td>0.0</td>\n",
       "    </tr>\n",
       "    <tr>\n",
       "      <th>4</th>\n",
       "      <td>1</td>\n",
       "      <td>2020-06-01 04</td>\n",
       "      <td>8043.624</td>\n",
       "      <td>17.0</td>\n",
       "      <td>3.3</td>\n",
       "      <td>92.0</td>\n",
       "      <td>0.0</td>\n",
       "      <td>0.0</td>\n",
       "      <td>0.0</td>\n",
       "      <td>0.0</td>\n",
       "    </tr>\n",
       "    <tr>\n",
       "      <th>...</th>\n",
       "      <td>...</td>\n",
       "      <td>...</td>\n",
       "      <td>...</td>\n",
       "      <td>...</td>\n",
       "      <td>...</td>\n",
       "      <td>...</td>\n",
       "      <td>...</td>\n",
       "      <td>...</td>\n",
       "      <td>...</td>\n",
       "      <td>...</td>\n",
       "    </tr>\n",
       "    <tr>\n",
       "      <th>122395</th>\n",
       "      <td>60</td>\n",
       "      <td>2020-08-24 19</td>\n",
       "      <td>4114.368</td>\n",
       "      <td>27.8</td>\n",
       "      <td>2.3</td>\n",
       "      <td>68.0</td>\n",
       "      <td>0.0</td>\n",
       "      <td>0.7</td>\n",
       "      <td>1.0</td>\n",
       "      <td>1.0</td>\n",
       "    </tr>\n",
       "    <tr>\n",
       "      <th>122396</th>\n",
       "      <td>60</td>\n",
       "      <td>2020-08-24 20</td>\n",
       "      <td>3975.696</td>\n",
       "      <td>27.3</td>\n",
       "      <td>1.2</td>\n",
       "      <td>71.0</td>\n",
       "      <td>0.0</td>\n",
       "      <td>0.0</td>\n",
       "      <td>1.0</td>\n",
       "      <td>1.0</td>\n",
       "    </tr>\n",
       "    <tr>\n",
       "      <th>122397</th>\n",
       "      <td>60</td>\n",
       "      <td>2020-08-24 21</td>\n",
       "      <td>3572.208</td>\n",
       "      <td>27.3</td>\n",
       "      <td>1.8</td>\n",
       "      <td>71.0</td>\n",
       "      <td>0.0</td>\n",
       "      <td>0.0</td>\n",
       "      <td>1.0</td>\n",
       "      <td>1.0</td>\n",
       "    </tr>\n",
       "    <tr>\n",
       "      <th>122398</th>\n",
       "      <td>60</td>\n",
       "      <td>2020-08-24 22</td>\n",
       "      <td>3299.184</td>\n",
       "      <td>27.1</td>\n",
       "      <td>1.8</td>\n",
       "      <td>74.0</td>\n",
       "      <td>0.0</td>\n",
       "      <td>0.0</td>\n",
       "      <td>1.0</td>\n",
       "      <td>1.0</td>\n",
       "    </tr>\n",
       "    <tr>\n",
       "      <th>122399</th>\n",
       "      <td>60</td>\n",
       "      <td>2020-08-24 23</td>\n",
       "      <td>3204.576</td>\n",
       "      <td>27.1</td>\n",
       "      <td>2.6</td>\n",
       "      <td>75.0</td>\n",
       "      <td>0.0</td>\n",
       "      <td>0.0</td>\n",
       "      <td>1.0</td>\n",
       "      <td>1.0</td>\n",
       "    </tr>\n",
       "  </tbody>\n",
       "</table>\n",
       "<p>122400 rows × 10 columns</p>\n",
       "</div>"
      ],
      "text/plain": [
       "        num      date_time    target  temp  wind  humid  rain  sunny  cooler  \\\n",
       "0         1  2020-06-01 00  8179.056  17.6   2.5   92.0   0.8    0.0     0.0   \n",
       "1         1  2020-06-01 01  8135.640  17.7   2.9   91.0   0.3    0.0     0.0   \n",
       "2         1  2020-06-01 02  8107.128  17.5   3.2   91.0   0.0    0.0     0.0   \n",
       "3         1  2020-06-01 03  8048.808  17.1   3.2   91.0   0.0    0.0     0.0   \n",
       "4         1  2020-06-01 04  8043.624  17.0   3.3   92.0   0.0    0.0     0.0   \n",
       "...     ...            ...       ...   ...   ...    ...   ...    ...     ...   \n",
       "122395   60  2020-08-24 19  4114.368  27.8   2.3   68.0   0.0    0.7     1.0   \n",
       "122396   60  2020-08-24 20  3975.696  27.3   1.2   71.0   0.0    0.0     1.0   \n",
       "122397   60  2020-08-24 21  3572.208  27.3   1.8   71.0   0.0    0.0     1.0   \n",
       "122398   60  2020-08-24 22  3299.184  27.1   1.8   74.0   0.0    0.0     1.0   \n",
       "122399   60  2020-08-24 23  3204.576  27.1   2.6   75.0   0.0    0.0     1.0   \n",
       "\n",
       "        solar  \n",
       "0         0.0  \n",
       "1         0.0  \n",
       "2         0.0  \n",
       "3         0.0  \n",
       "4         0.0  \n",
       "...       ...  \n",
       "122395    1.0  \n",
       "122396    1.0  \n",
       "122397    1.0  \n",
       "122398    1.0  \n",
       "122399    1.0  \n",
       "\n",
       "[122400 rows x 10 columns]"
      ]
     },
     "execution_count": 8,
     "metadata": {},
     "output_type": "execute_result"
    }
   ],
   "source": [
    "train = pd.read_csv(PATH + '\\\\train.csv', encoding='cp949', names=train_col, header=0)\n",
    "train"
   ]
  },
  {
   "cell_type": "code",
   "execution_count": 9,
   "id": "3d4f02b6",
   "metadata": {},
   "outputs": [
    {
     "data": {
      "text/html": [
       "<div>\n",
       "<style scoped>\n",
       "    .dataframe tbody tr th:only-of-type {\n",
       "        vertical-align: middle;\n",
       "    }\n",
       "\n",
       "    .dataframe tbody tr th {\n",
       "        vertical-align: top;\n",
       "    }\n",
       "\n",
       "    .dataframe thead th {\n",
       "        text-align: right;\n",
       "    }\n",
       "</style>\n",
       "<table border=\"1\" class=\"dataframe\">\n",
       "  <thead>\n",
       "    <tr style=\"text-align: right;\">\n",
       "      <th></th>\n",
       "      <th>num</th>\n",
       "      <th>date_time</th>\n",
       "      <th>temp</th>\n",
       "      <th>wind</th>\n",
       "      <th>humid</th>\n",
       "      <th>rain</th>\n",
       "      <th>sunny</th>\n",
       "      <th>cooler</th>\n",
       "      <th>solar</th>\n",
       "    </tr>\n",
       "  </thead>\n",
       "  <tbody>\n",
       "    <tr>\n",
       "      <th>0</th>\n",
       "      <td>1</td>\n",
       "      <td>2020-08-25 00</td>\n",
       "      <td>27.8</td>\n",
       "      <td>1.5</td>\n",
       "      <td>74.0</td>\n",
       "      <td>0.0</td>\n",
       "      <td>0.0</td>\n",
       "      <td>NaN</td>\n",
       "      <td>NaN</td>\n",
       "    </tr>\n",
       "    <tr>\n",
       "      <th>1</th>\n",
       "      <td>1</td>\n",
       "      <td>2020-08-25 01</td>\n",
       "      <td>NaN</td>\n",
       "      <td>NaN</td>\n",
       "      <td>NaN</td>\n",
       "      <td>NaN</td>\n",
       "      <td>NaN</td>\n",
       "      <td>NaN</td>\n",
       "      <td>NaN</td>\n",
       "    </tr>\n",
       "    <tr>\n",
       "      <th>2</th>\n",
       "      <td>1</td>\n",
       "      <td>2020-08-25 02</td>\n",
       "      <td>NaN</td>\n",
       "      <td>NaN</td>\n",
       "      <td>NaN</td>\n",
       "      <td>NaN</td>\n",
       "      <td>NaN</td>\n",
       "      <td>NaN</td>\n",
       "      <td>NaN</td>\n",
       "    </tr>\n",
       "    <tr>\n",
       "      <th>3</th>\n",
       "      <td>1</td>\n",
       "      <td>2020-08-25 03</td>\n",
       "      <td>27.3</td>\n",
       "      <td>1.1</td>\n",
       "      <td>78.0</td>\n",
       "      <td>NaN</td>\n",
       "      <td>0.0</td>\n",
       "      <td>NaN</td>\n",
       "      <td>NaN</td>\n",
       "    </tr>\n",
       "    <tr>\n",
       "      <th>4</th>\n",
       "      <td>1</td>\n",
       "      <td>2020-08-25 04</td>\n",
       "      <td>NaN</td>\n",
       "      <td>NaN</td>\n",
       "      <td>NaN</td>\n",
       "      <td>NaN</td>\n",
       "      <td>NaN</td>\n",
       "      <td>NaN</td>\n",
       "      <td>NaN</td>\n",
       "    </tr>\n",
       "    <tr>\n",
       "      <th>...</th>\n",
       "      <td>...</td>\n",
       "      <td>...</td>\n",
       "      <td>...</td>\n",
       "      <td>...</td>\n",
       "      <td>...</td>\n",
       "      <td>...</td>\n",
       "      <td>...</td>\n",
       "      <td>...</td>\n",
       "      <td>...</td>\n",
       "    </tr>\n",
       "    <tr>\n",
       "      <th>10075</th>\n",
       "      <td>60</td>\n",
       "      <td>2020-08-31 19</td>\n",
       "      <td>NaN</td>\n",
       "      <td>NaN</td>\n",
       "      <td>NaN</td>\n",
       "      <td>NaN</td>\n",
       "      <td>NaN</td>\n",
       "      <td>NaN</td>\n",
       "      <td>NaN</td>\n",
       "    </tr>\n",
       "    <tr>\n",
       "      <th>10076</th>\n",
       "      <td>60</td>\n",
       "      <td>2020-08-31 20</td>\n",
       "      <td>NaN</td>\n",
       "      <td>NaN</td>\n",
       "      <td>NaN</td>\n",
       "      <td>NaN</td>\n",
       "      <td>NaN</td>\n",
       "      <td>NaN</td>\n",
       "      <td>NaN</td>\n",
       "    </tr>\n",
       "    <tr>\n",
       "      <th>10077</th>\n",
       "      <td>60</td>\n",
       "      <td>2020-08-31 21</td>\n",
       "      <td>27.9</td>\n",
       "      <td>4.1</td>\n",
       "      <td>68.0</td>\n",
       "      <td>NaN</td>\n",
       "      <td>0.0</td>\n",
       "      <td>1.0</td>\n",
       "      <td>1.0</td>\n",
       "    </tr>\n",
       "    <tr>\n",
       "      <th>10078</th>\n",
       "      <td>60</td>\n",
       "      <td>2020-08-31 22</td>\n",
       "      <td>NaN</td>\n",
       "      <td>NaN</td>\n",
       "      <td>NaN</td>\n",
       "      <td>NaN</td>\n",
       "      <td>NaN</td>\n",
       "      <td>NaN</td>\n",
       "      <td>NaN</td>\n",
       "    </tr>\n",
       "    <tr>\n",
       "      <th>10079</th>\n",
       "      <td>60</td>\n",
       "      <td>2020-08-31 23</td>\n",
       "      <td>NaN</td>\n",
       "      <td>NaN</td>\n",
       "      <td>NaN</td>\n",
       "      <td>NaN</td>\n",
       "      <td>NaN</td>\n",
       "      <td>NaN</td>\n",
       "      <td>NaN</td>\n",
       "    </tr>\n",
       "  </tbody>\n",
       "</table>\n",
       "<p>10080 rows × 9 columns</p>\n",
       "</div>"
      ],
      "text/plain": [
       "       num      date_time  temp  wind  humid  rain  sunny  cooler  solar\n",
       "0        1  2020-08-25 00  27.8   1.5   74.0   0.0    0.0     NaN    NaN\n",
       "1        1  2020-08-25 01   NaN   NaN    NaN   NaN    NaN     NaN    NaN\n",
       "2        1  2020-08-25 02   NaN   NaN    NaN   NaN    NaN     NaN    NaN\n",
       "3        1  2020-08-25 03  27.3   1.1   78.0   NaN    0.0     NaN    NaN\n",
       "4        1  2020-08-25 04   NaN   NaN    NaN   NaN    NaN     NaN    NaN\n",
       "...    ...            ...   ...   ...    ...   ...    ...     ...    ...\n",
       "10075   60  2020-08-31 19   NaN   NaN    NaN   NaN    NaN     NaN    NaN\n",
       "10076   60  2020-08-31 20   NaN   NaN    NaN   NaN    NaN     NaN    NaN\n",
       "10077   60  2020-08-31 21  27.9   4.1   68.0   NaN    0.0     1.0    1.0\n",
       "10078   60  2020-08-31 22   NaN   NaN    NaN   NaN    NaN     NaN    NaN\n",
       "10079   60  2020-08-31 23   NaN   NaN    NaN   NaN    NaN     NaN    NaN\n",
       "\n",
       "[10080 rows x 9 columns]"
      ]
     },
     "execution_count": 9,
     "metadata": {},
     "output_type": "execute_result"
    }
   ],
   "source": [
    "test = pd.read_csv(PATH + '\\\\test.csv', encoding='cp949', names=test_col, header=0)\n",
    "test"
   ]
  },
  {
   "cell_type": "code",
   "execution_count": 10,
   "id": "f54dd3de",
   "metadata": {},
   "outputs": [
    {
     "data": {
      "text/html": [
       "<div>\n",
       "<style scoped>\n",
       "    .dataframe tbody tr th:only-of-type {\n",
       "        vertical-align: middle;\n",
       "    }\n",
       "\n",
       "    .dataframe tbody tr th {\n",
       "        vertical-align: top;\n",
       "    }\n",
       "\n",
       "    .dataframe thead th {\n",
       "        text-align: right;\n",
       "    }\n",
       "</style>\n",
       "<table border=\"1\" class=\"dataframe\">\n",
       "  <thead>\n",
       "    <tr style=\"text-align: right;\">\n",
       "      <th></th>\n",
       "      <th>num_date_time</th>\n",
       "      <th>answer</th>\n",
       "    </tr>\n",
       "  </thead>\n",
       "  <tbody>\n",
       "    <tr>\n",
       "      <th>0</th>\n",
       "      <td>1 2020-08-25 00</td>\n",
       "      <td>0</td>\n",
       "    </tr>\n",
       "    <tr>\n",
       "      <th>1</th>\n",
       "      <td>1 2020-08-25 01</td>\n",
       "      <td>0</td>\n",
       "    </tr>\n",
       "    <tr>\n",
       "      <th>2</th>\n",
       "      <td>1 2020-08-25 02</td>\n",
       "      <td>0</td>\n",
       "    </tr>\n",
       "    <tr>\n",
       "      <th>3</th>\n",
       "      <td>1 2020-08-25 03</td>\n",
       "      <td>0</td>\n",
       "    </tr>\n",
       "    <tr>\n",
       "      <th>4</th>\n",
       "      <td>1 2020-08-25 04</td>\n",
       "      <td>0</td>\n",
       "    </tr>\n",
       "    <tr>\n",
       "      <th>...</th>\n",
       "      <td>...</td>\n",
       "      <td>...</td>\n",
       "    </tr>\n",
       "    <tr>\n",
       "      <th>10075</th>\n",
       "      <td>60 2020-08-31 19</td>\n",
       "      <td>0</td>\n",
       "    </tr>\n",
       "    <tr>\n",
       "      <th>10076</th>\n",
       "      <td>60 2020-08-31 20</td>\n",
       "      <td>0</td>\n",
       "    </tr>\n",
       "    <tr>\n",
       "      <th>10077</th>\n",
       "      <td>60 2020-08-31 21</td>\n",
       "      <td>0</td>\n",
       "    </tr>\n",
       "    <tr>\n",
       "      <th>10078</th>\n",
       "      <td>60 2020-08-31 22</td>\n",
       "      <td>0</td>\n",
       "    </tr>\n",
       "    <tr>\n",
       "      <th>10079</th>\n",
       "      <td>60 2020-08-31 23</td>\n",
       "      <td>0</td>\n",
       "    </tr>\n",
       "  </tbody>\n",
       "</table>\n",
       "<p>10080 rows × 2 columns</p>\n",
       "</div>"
      ],
      "text/plain": [
       "          num_date_time  answer\n",
       "0       1 2020-08-25 00       0\n",
       "1       1 2020-08-25 01       0\n",
       "2       1 2020-08-25 02       0\n",
       "3       1 2020-08-25 03       0\n",
       "4       1 2020-08-25 04       0\n",
       "...                 ...     ...\n",
       "10075  60 2020-08-31 19       0\n",
       "10076  60 2020-08-31 20       0\n",
       "10077  60 2020-08-31 21       0\n",
       "10078  60 2020-08-31 22       0\n",
       "10079  60 2020-08-31 23       0\n",
       "\n",
       "[10080 rows x 2 columns]"
      ]
     },
     "execution_count": 10,
     "metadata": {},
     "output_type": "execute_result"
    }
   ],
   "source": [
    "sub = pd.read_csv(PATH + '\\\\sample_submission.csv', encoding='cp949')\n",
    "sub"
   ]
  },
  {
   "cell_type": "code",
   "execution_count": 11,
   "id": "24cc6480",
   "metadata": {},
   "outputs": [
    {
     "name": "stdout",
     "output_type": "stream",
     "text": [
      "<class 'pandas.core.frame.DataFrame'>\n",
      "RangeIndex: 122400 entries, 0 to 122399\n",
      "Data columns (total 10 columns):\n",
      " #   Column     Non-Null Count   Dtype  \n",
      "---  ------     --------------   -----  \n",
      " 0   num        122400 non-null  int64  \n",
      " 1   date_time  122400 non-null  object \n",
      " 2   target     122400 non-null  float64\n",
      " 3   temp       122400 non-null  float64\n",
      " 4   wind       122400 non-null  float64\n",
      " 5   humid      122400 non-null  float64\n",
      " 6   rain       122400 non-null  float64\n",
      " 7   sunny      122400 non-null  float64\n",
      " 8   cooler     122400 non-null  float64\n",
      " 9   solar      122400 non-null  float64\n",
      "dtypes: float64(8), int64(1), object(1)\n",
      "memory usage: 9.3+ MB\n"
     ]
    }
   ],
   "source": [
    "train.info()"
   ]
  },
  {
   "cell_type": "code",
   "execution_count": 12,
   "id": "a0de1a47",
   "metadata": {},
   "outputs": [
    {
     "name": "stdout",
     "output_type": "stream",
     "text": [
      "<class 'pandas.core.frame.DataFrame'>\n",
      "RangeIndex: 10080 entries, 0 to 10079\n",
      "Data columns (total 9 columns):\n",
      " #   Column     Non-Null Count  Dtype  \n",
      "---  ------     --------------  -----  \n",
      " 0   num        10080 non-null  int64  \n",
      " 1   date_time  10080 non-null  object \n",
      " 2   temp       3360 non-null   float64\n",
      " 3   wind       3360 non-null   float64\n",
      " 4   humid      3360 non-null   float64\n",
      " 5   rain       1680 non-null   float64\n",
      " 6   sunny      3360 non-null   float64\n",
      " 7   cooler     2296 non-null   float64\n",
      " 8   solar      1624 non-null   float64\n",
      "dtypes: float64(7), int64(1), object(1)\n",
      "memory usage: 708.9+ KB\n"
     ]
    }
   ],
   "source": [
    "test.info()"
   ]
  },
  {
   "cell_type": "code",
   "execution_count": 13,
   "id": "ba09273a",
   "metadata": {},
   "outputs": [
    {
     "data": {
      "text/html": [
       "<div>\n",
       "<style scoped>\n",
       "    .dataframe tbody tr th:only-of-type {\n",
       "        vertical-align: middle;\n",
       "    }\n",
       "\n",
       "    .dataframe tbody tr th {\n",
       "        vertical-align: top;\n",
       "    }\n",
       "\n",
       "    .dataframe thead th {\n",
       "        text-align: right;\n",
       "    }\n",
       "</style>\n",
       "<table border=\"1\" class=\"dataframe\">\n",
       "  <thead>\n",
       "    <tr style=\"text-align: right;\">\n",
       "      <th></th>\n",
       "      <th>num</th>\n",
       "      <th>date_time</th>\n",
       "      <th>temp</th>\n",
       "      <th>wind</th>\n",
       "      <th>humid</th>\n",
       "      <th>rain</th>\n",
       "      <th>sunny</th>\n",
       "      <th>cooler</th>\n",
       "      <th>solar</th>\n",
       "    </tr>\n",
       "  </thead>\n",
       "  <tbody>\n",
       "    <tr>\n",
       "      <th>0</th>\n",
       "      <td>1</td>\n",
       "      <td>2020-08-25 00</td>\n",
       "      <td>27.8</td>\n",
       "      <td>1.5</td>\n",
       "      <td>74.0</td>\n",
       "      <td>0.0</td>\n",
       "      <td>0.0</td>\n",
       "      <td>NaN</td>\n",
       "      <td>NaN</td>\n",
       "    </tr>\n",
       "    <tr>\n",
       "      <th>1</th>\n",
       "      <td>1</td>\n",
       "      <td>2020-08-25 01</td>\n",
       "      <td>NaN</td>\n",
       "      <td>NaN</td>\n",
       "      <td>NaN</td>\n",
       "      <td>NaN</td>\n",
       "      <td>NaN</td>\n",
       "      <td>NaN</td>\n",
       "      <td>NaN</td>\n",
       "    </tr>\n",
       "    <tr>\n",
       "      <th>2</th>\n",
       "      <td>1</td>\n",
       "      <td>2020-08-25 02</td>\n",
       "      <td>NaN</td>\n",
       "      <td>NaN</td>\n",
       "      <td>NaN</td>\n",
       "      <td>NaN</td>\n",
       "      <td>NaN</td>\n",
       "      <td>NaN</td>\n",
       "      <td>NaN</td>\n",
       "    </tr>\n",
       "    <tr>\n",
       "      <th>3</th>\n",
       "      <td>1</td>\n",
       "      <td>2020-08-25 03</td>\n",
       "      <td>27.3</td>\n",
       "      <td>1.1</td>\n",
       "      <td>78.0</td>\n",
       "      <td>NaN</td>\n",
       "      <td>0.0</td>\n",
       "      <td>NaN</td>\n",
       "      <td>NaN</td>\n",
       "    </tr>\n",
       "    <tr>\n",
       "      <th>4</th>\n",
       "      <td>1</td>\n",
       "      <td>2020-08-25 04</td>\n",
       "      <td>NaN</td>\n",
       "      <td>NaN</td>\n",
       "      <td>NaN</td>\n",
       "      <td>NaN</td>\n",
       "      <td>NaN</td>\n",
       "      <td>NaN</td>\n",
       "      <td>NaN</td>\n",
       "    </tr>\n",
       "    <tr>\n",
       "      <th>5</th>\n",
       "      <td>1</td>\n",
       "      <td>2020-08-25 05</td>\n",
       "      <td>NaN</td>\n",
       "      <td>NaN</td>\n",
       "      <td>NaN</td>\n",
       "      <td>NaN</td>\n",
       "      <td>NaN</td>\n",
       "      <td>NaN</td>\n",
       "      <td>NaN</td>\n",
       "    </tr>\n",
       "    <tr>\n",
       "      <th>6</th>\n",
       "      <td>1</td>\n",
       "      <td>2020-08-25 06</td>\n",
       "      <td>26.1</td>\n",
       "      <td>1.3</td>\n",
       "      <td>83.0</td>\n",
       "      <td>0.0</td>\n",
       "      <td>0.0</td>\n",
       "      <td>NaN</td>\n",
       "      <td>NaN</td>\n",
       "    </tr>\n",
       "    <tr>\n",
       "      <th>7</th>\n",
       "      <td>1</td>\n",
       "      <td>2020-08-25 07</td>\n",
       "      <td>NaN</td>\n",
       "      <td>NaN</td>\n",
       "      <td>NaN</td>\n",
       "      <td>NaN</td>\n",
       "      <td>NaN</td>\n",
       "      <td>NaN</td>\n",
       "      <td>NaN</td>\n",
       "    </tr>\n",
       "    <tr>\n",
       "      <th>8</th>\n",
       "      <td>1</td>\n",
       "      <td>2020-08-25 08</td>\n",
       "      <td>NaN</td>\n",
       "      <td>NaN</td>\n",
       "      <td>NaN</td>\n",
       "      <td>NaN</td>\n",
       "      <td>NaN</td>\n",
       "      <td>NaN</td>\n",
       "      <td>NaN</td>\n",
       "    </tr>\n",
       "    <tr>\n",
       "      <th>9</th>\n",
       "      <td>1</td>\n",
       "      <td>2020-08-25 09</td>\n",
       "      <td>28.8</td>\n",
       "      <td>1.2</td>\n",
       "      <td>77.0</td>\n",
       "      <td>NaN</td>\n",
       "      <td>1.1</td>\n",
       "      <td>NaN</td>\n",
       "      <td>NaN</td>\n",
       "    </tr>\n",
       "  </tbody>\n",
       "</table>\n",
       "</div>"
      ],
      "text/plain": [
       "   num      date_time  temp  wind  humid  rain  sunny  cooler  solar\n",
       "0    1  2020-08-25 00  27.8   1.5   74.0   0.0    0.0     NaN    NaN\n",
       "1    1  2020-08-25 01   NaN   NaN    NaN   NaN    NaN     NaN    NaN\n",
       "2    1  2020-08-25 02   NaN   NaN    NaN   NaN    NaN     NaN    NaN\n",
       "3    1  2020-08-25 03  27.3   1.1   78.0   NaN    0.0     NaN    NaN\n",
       "4    1  2020-08-25 04   NaN   NaN    NaN   NaN    NaN     NaN    NaN\n",
       "5    1  2020-08-25 05   NaN   NaN    NaN   NaN    NaN     NaN    NaN\n",
       "6    1  2020-08-25 06  26.1   1.3   83.0   0.0    0.0     NaN    NaN\n",
       "7    1  2020-08-25 07   NaN   NaN    NaN   NaN    NaN     NaN    NaN\n",
       "8    1  2020-08-25 08   NaN   NaN    NaN   NaN    NaN     NaN    NaN\n",
       "9    1  2020-08-25 09  28.8   1.2   77.0   NaN    1.1     NaN    NaN"
      ]
     },
     "execution_count": 13,
     "metadata": {},
     "output_type": "execute_result"
    }
   ],
   "source": [
    "test.head(10)"
   ]
  },
  {
   "cell_type": "code",
   "execution_count": 14,
   "id": "5ee4f8c0",
   "metadata": {},
   "outputs": [
    {
     "data": {
      "text/html": [
       "<div>\n",
       "<style scoped>\n",
       "    .dataframe tbody tr th:only-of-type {\n",
       "        vertical-align: middle;\n",
       "    }\n",
       "\n",
       "    .dataframe tbody tr th {\n",
       "        vertical-align: top;\n",
       "    }\n",
       "\n",
       "    .dataframe thead th {\n",
       "        text-align: right;\n",
       "    }\n",
       "</style>\n",
       "<table border=\"1\" class=\"dataframe\">\n",
       "  <thead>\n",
       "    <tr style=\"text-align: right;\">\n",
       "      <th></th>\n",
       "      <th>num_date_time</th>\n",
       "      <th>answer</th>\n",
       "    </tr>\n",
       "  </thead>\n",
       "  <tbody>\n",
       "    <tr>\n",
       "      <th>0</th>\n",
       "      <td>1 2020-08-25 00</td>\n",
       "      <td>0</td>\n",
       "    </tr>\n",
       "    <tr>\n",
       "      <th>1</th>\n",
       "      <td>1 2020-08-25 01</td>\n",
       "      <td>0</td>\n",
       "    </tr>\n",
       "    <tr>\n",
       "      <th>2</th>\n",
       "      <td>1 2020-08-25 02</td>\n",
       "      <td>0</td>\n",
       "    </tr>\n",
       "    <tr>\n",
       "      <th>3</th>\n",
       "      <td>1 2020-08-25 03</td>\n",
       "      <td>0</td>\n",
       "    </tr>\n",
       "    <tr>\n",
       "      <th>4</th>\n",
       "      <td>1 2020-08-25 04</td>\n",
       "      <td>0</td>\n",
       "    </tr>\n",
       "    <tr>\n",
       "      <th>...</th>\n",
       "      <td>...</td>\n",
       "      <td>...</td>\n",
       "    </tr>\n",
       "    <tr>\n",
       "      <th>10075</th>\n",
       "      <td>60 2020-08-31 19</td>\n",
       "      <td>0</td>\n",
       "    </tr>\n",
       "    <tr>\n",
       "      <th>10076</th>\n",
       "      <td>60 2020-08-31 20</td>\n",
       "      <td>0</td>\n",
       "    </tr>\n",
       "    <tr>\n",
       "      <th>10077</th>\n",
       "      <td>60 2020-08-31 21</td>\n",
       "      <td>0</td>\n",
       "    </tr>\n",
       "    <tr>\n",
       "      <th>10078</th>\n",
       "      <td>60 2020-08-31 22</td>\n",
       "      <td>0</td>\n",
       "    </tr>\n",
       "    <tr>\n",
       "      <th>10079</th>\n",
       "      <td>60 2020-08-31 23</td>\n",
       "      <td>0</td>\n",
       "    </tr>\n",
       "  </tbody>\n",
       "</table>\n",
       "<p>10080 rows × 2 columns</p>\n",
       "</div>"
      ],
      "text/plain": [
       "          num_date_time  answer\n",
       "0       1 2020-08-25 00       0\n",
       "1       1 2020-08-25 01       0\n",
       "2       1 2020-08-25 02       0\n",
       "3       1 2020-08-25 03       0\n",
       "4       1 2020-08-25 04       0\n",
       "...                 ...     ...\n",
       "10075  60 2020-08-31 19       0\n",
       "10076  60 2020-08-31 20       0\n",
       "10077  60 2020-08-31 21       0\n",
       "10078  60 2020-08-31 22       0\n",
       "10079  60 2020-08-31 23       0\n",
       "\n",
       "[10080 rows x 2 columns]"
      ]
     },
     "execution_count": 14,
     "metadata": {},
     "output_type": "execute_result"
    }
   ],
   "source": [
    "sub"
   ]
  },
  {
   "cell_type": "code",
   "execution_count": 15,
   "id": "5f54646e",
   "metadata": {},
   "outputs": [
    {
     "data": {
      "text/html": [
       "<div>\n",
       "<style scoped>\n",
       "    .dataframe tbody tr th:only-of-type {\n",
       "        vertical-align: middle;\n",
       "    }\n",
       "\n",
       "    .dataframe tbody tr th {\n",
       "        vertical-align: top;\n",
       "    }\n",
       "\n",
       "    .dataframe thead th {\n",
       "        text-align: right;\n",
       "    }\n",
       "</style>\n",
       "<table border=\"1\" class=\"dataframe\">\n",
       "  <thead>\n",
       "    <tr style=\"text-align: right;\">\n",
       "      <th></th>\n",
       "      <th>num</th>\n",
       "      <th>date_time</th>\n",
       "      <th>target</th>\n",
       "      <th>temp</th>\n",
       "      <th>wind</th>\n",
       "      <th>humid</th>\n",
       "      <th>rain</th>\n",
       "      <th>sunny</th>\n",
       "      <th>cooler</th>\n",
       "      <th>solar</th>\n",
       "    </tr>\n",
       "  </thead>\n",
       "  <tbody>\n",
       "    <tr>\n",
       "      <th>0</th>\n",
       "      <td>1</td>\n",
       "      <td>2020-06-01 00</td>\n",
       "      <td>8179.056</td>\n",
       "      <td>17.6</td>\n",
       "      <td>2.5</td>\n",
       "      <td>92.0</td>\n",
       "      <td>0.8</td>\n",
       "      <td>0.0</td>\n",
       "      <td>0.0</td>\n",
       "      <td>0.0</td>\n",
       "    </tr>\n",
       "    <tr>\n",
       "      <th>1</th>\n",
       "      <td>1</td>\n",
       "      <td>2020-06-01 01</td>\n",
       "      <td>8135.640</td>\n",
       "      <td>17.7</td>\n",
       "      <td>2.9</td>\n",
       "      <td>91.0</td>\n",
       "      <td>0.3</td>\n",
       "      <td>0.0</td>\n",
       "      <td>0.0</td>\n",
       "      <td>0.0</td>\n",
       "    </tr>\n",
       "    <tr>\n",
       "      <th>2</th>\n",
       "      <td>1</td>\n",
       "      <td>2020-06-01 02</td>\n",
       "      <td>8107.128</td>\n",
       "      <td>17.5</td>\n",
       "      <td>3.2</td>\n",
       "      <td>91.0</td>\n",
       "      <td>0.0</td>\n",
       "      <td>0.0</td>\n",
       "      <td>0.0</td>\n",
       "      <td>0.0</td>\n",
       "    </tr>\n",
       "    <tr>\n",
       "      <th>3</th>\n",
       "      <td>1</td>\n",
       "      <td>2020-06-01 03</td>\n",
       "      <td>8048.808</td>\n",
       "      <td>17.1</td>\n",
       "      <td>3.2</td>\n",
       "      <td>91.0</td>\n",
       "      <td>0.0</td>\n",
       "      <td>0.0</td>\n",
       "      <td>0.0</td>\n",
       "      <td>0.0</td>\n",
       "    </tr>\n",
       "    <tr>\n",
       "      <th>4</th>\n",
       "      <td>1</td>\n",
       "      <td>2020-06-01 04</td>\n",
       "      <td>8043.624</td>\n",
       "      <td>17.0</td>\n",
       "      <td>3.3</td>\n",
       "      <td>92.0</td>\n",
       "      <td>0.0</td>\n",
       "      <td>0.0</td>\n",
       "      <td>0.0</td>\n",
       "      <td>0.0</td>\n",
       "    </tr>\n",
       "    <tr>\n",
       "      <th>...</th>\n",
       "      <td>...</td>\n",
       "      <td>...</td>\n",
       "      <td>...</td>\n",
       "      <td>...</td>\n",
       "      <td>...</td>\n",
       "      <td>...</td>\n",
       "      <td>...</td>\n",
       "      <td>...</td>\n",
       "      <td>...</td>\n",
       "      <td>...</td>\n",
       "    </tr>\n",
       "    <tr>\n",
       "      <th>122395</th>\n",
       "      <td>60</td>\n",
       "      <td>2020-08-24 19</td>\n",
       "      <td>4114.368</td>\n",
       "      <td>27.8</td>\n",
       "      <td>2.3</td>\n",
       "      <td>68.0</td>\n",
       "      <td>0.0</td>\n",
       "      <td>0.7</td>\n",
       "      <td>1.0</td>\n",
       "      <td>1.0</td>\n",
       "    </tr>\n",
       "    <tr>\n",
       "      <th>122396</th>\n",
       "      <td>60</td>\n",
       "      <td>2020-08-24 20</td>\n",
       "      <td>3975.696</td>\n",
       "      <td>27.3</td>\n",
       "      <td>1.2</td>\n",
       "      <td>71.0</td>\n",
       "      <td>0.0</td>\n",
       "      <td>0.0</td>\n",
       "      <td>1.0</td>\n",
       "      <td>1.0</td>\n",
       "    </tr>\n",
       "    <tr>\n",
       "      <th>122397</th>\n",
       "      <td>60</td>\n",
       "      <td>2020-08-24 21</td>\n",
       "      <td>3572.208</td>\n",
       "      <td>27.3</td>\n",
       "      <td>1.8</td>\n",
       "      <td>71.0</td>\n",
       "      <td>0.0</td>\n",
       "      <td>0.0</td>\n",
       "      <td>1.0</td>\n",
       "      <td>1.0</td>\n",
       "    </tr>\n",
       "    <tr>\n",
       "      <th>122398</th>\n",
       "      <td>60</td>\n",
       "      <td>2020-08-24 22</td>\n",
       "      <td>3299.184</td>\n",
       "      <td>27.1</td>\n",
       "      <td>1.8</td>\n",
       "      <td>74.0</td>\n",
       "      <td>0.0</td>\n",
       "      <td>0.0</td>\n",
       "      <td>1.0</td>\n",
       "      <td>1.0</td>\n",
       "    </tr>\n",
       "    <tr>\n",
       "      <th>122399</th>\n",
       "      <td>60</td>\n",
       "      <td>2020-08-24 23</td>\n",
       "      <td>3204.576</td>\n",
       "      <td>27.1</td>\n",
       "      <td>2.6</td>\n",
       "      <td>75.0</td>\n",
       "      <td>0.0</td>\n",
       "      <td>0.0</td>\n",
       "      <td>1.0</td>\n",
       "      <td>1.0</td>\n",
       "    </tr>\n",
       "  </tbody>\n",
       "</table>\n",
       "<p>122400 rows × 10 columns</p>\n",
       "</div>"
      ],
      "text/plain": [
       "        num      date_time    target  temp  wind  humid  rain  sunny  cooler  \\\n",
       "0         1  2020-06-01 00  8179.056  17.6   2.5   92.0   0.8    0.0     0.0   \n",
       "1         1  2020-06-01 01  8135.640  17.7   2.9   91.0   0.3    0.0     0.0   \n",
       "2         1  2020-06-01 02  8107.128  17.5   3.2   91.0   0.0    0.0     0.0   \n",
       "3         1  2020-06-01 03  8048.808  17.1   3.2   91.0   0.0    0.0     0.0   \n",
       "4         1  2020-06-01 04  8043.624  17.0   3.3   92.0   0.0    0.0     0.0   \n",
       "...     ...            ...       ...   ...   ...    ...   ...    ...     ...   \n",
       "122395   60  2020-08-24 19  4114.368  27.8   2.3   68.0   0.0    0.7     1.0   \n",
       "122396   60  2020-08-24 20  3975.696  27.3   1.2   71.0   0.0    0.0     1.0   \n",
       "122397   60  2020-08-24 21  3572.208  27.3   1.8   71.0   0.0    0.0     1.0   \n",
       "122398   60  2020-08-24 22  3299.184  27.1   1.8   74.0   0.0    0.0     1.0   \n",
       "122399   60  2020-08-24 23  3204.576  27.1   2.6   75.0   0.0    0.0     1.0   \n",
       "\n",
       "        solar  \n",
       "0         0.0  \n",
       "1         0.0  \n",
       "2         0.0  \n",
       "3         0.0  \n",
       "4         0.0  \n",
       "...       ...  \n",
       "122395    1.0  \n",
       "122396    1.0  \n",
       "122397    1.0  \n",
       "122398    1.0  \n",
       "122399    1.0  \n",
       "\n",
       "[122400 rows x 10 columns]"
      ]
     },
     "execution_count": 15,
     "metadata": {},
     "output_type": "execute_result"
    }
   ],
   "source": [
    "train"
   ]
  },
  {
   "cell_type": "code",
   "execution_count": 16,
   "id": "76daddee",
   "metadata": {},
   "outputs": [],
   "source": [
    "train['datetime'] = pd.to_datetime(train.date_time)\n",
    "\n",
    "train['month'] = train.datetime.dt.month                    # 월(숫자)\n",
    "train['day'] = train.datetime.dt.day                        # 일(숫자)\n",
    "train['hour'] = train.datetime.dt.hour                      # 시(숫자)\n",
    "train['weekday'] = train.datetime.dt.weekday                # 시(숫자)\n",
    "train['dayofyear'] = train.datetime.dt.dayofyear            # 연 기준 몇일째(숫자)\n",
    "train['weekofyear'] = train.datetime.dt.isocalendar().week  # 연 기준 몇주째(숫자) (=week)"
   ]
  },
  {
   "cell_type": "code",
   "execution_count": 17,
   "id": "b100d8e6",
   "metadata": {},
   "outputs": [],
   "source": [
    "train.drop(['date_time', 'datetime'], axis=1, inplace=True)"
   ]
  },
  {
   "cell_type": "code",
   "execution_count": 18,
   "id": "63c5fb73",
   "metadata": {},
   "outputs": [
    {
     "data": {
      "text/html": [
       "<div>\n",
       "<style scoped>\n",
       "    .dataframe tbody tr th:only-of-type {\n",
       "        vertical-align: middle;\n",
       "    }\n",
       "\n",
       "    .dataframe tbody tr th {\n",
       "        vertical-align: top;\n",
       "    }\n",
       "\n",
       "    .dataframe thead th {\n",
       "        text-align: right;\n",
       "    }\n",
       "</style>\n",
       "<table border=\"1\" class=\"dataframe\">\n",
       "  <thead>\n",
       "    <tr style=\"text-align: right;\">\n",
       "      <th></th>\n",
       "      <th>num</th>\n",
       "      <th>target</th>\n",
       "      <th>temp</th>\n",
       "      <th>wind</th>\n",
       "      <th>humid</th>\n",
       "      <th>rain</th>\n",
       "      <th>sunny</th>\n",
       "      <th>cooler</th>\n",
       "      <th>solar</th>\n",
       "      <th>month</th>\n",
       "      <th>day</th>\n",
       "      <th>hour</th>\n",
       "      <th>weekday</th>\n",
       "      <th>dayofyear</th>\n",
       "      <th>weekofyear</th>\n",
       "    </tr>\n",
       "  </thead>\n",
       "  <tbody>\n",
       "    <tr>\n",
       "      <th>0</th>\n",
       "      <td>1</td>\n",
       "      <td>8179.056</td>\n",
       "      <td>17.6</td>\n",
       "      <td>2.5</td>\n",
       "      <td>92.0</td>\n",
       "      <td>0.8</td>\n",
       "      <td>0.0</td>\n",
       "      <td>0.0</td>\n",
       "      <td>0.0</td>\n",
       "      <td>6</td>\n",
       "      <td>1</td>\n",
       "      <td>0</td>\n",
       "      <td>0</td>\n",
       "      <td>153</td>\n",
       "      <td>23</td>\n",
       "    </tr>\n",
       "    <tr>\n",
       "      <th>1</th>\n",
       "      <td>1</td>\n",
       "      <td>8135.640</td>\n",
       "      <td>17.7</td>\n",
       "      <td>2.9</td>\n",
       "      <td>91.0</td>\n",
       "      <td>0.3</td>\n",
       "      <td>0.0</td>\n",
       "      <td>0.0</td>\n",
       "      <td>0.0</td>\n",
       "      <td>6</td>\n",
       "      <td>1</td>\n",
       "      <td>1</td>\n",
       "      <td>0</td>\n",
       "      <td>153</td>\n",
       "      <td>23</td>\n",
       "    </tr>\n",
       "    <tr>\n",
       "      <th>2</th>\n",
       "      <td>1</td>\n",
       "      <td>8107.128</td>\n",
       "      <td>17.5</td>\n",
       "      <td>3.2</td>\n",
       "      <td>91.0</td>\n",
       "      <td>0.0</td>\n",
       "      <td>0.0</td>\n",
       "      <td>0.0</td>\n",
       "      <td>0.0</td>\n",
       "      <td>6</td>\n",
       "      <td>1</td>\n",
       "      <td>2</td>\n",
       "      <td>0</td>\n",
       "      <td>153</td>\n",
       "      <td>23</td>\n",
       "    </tr>\n",
       "    <tr>\n",
       "      <th>3</th>\n",
       "      <td>1</td>\n",
       "      <td>8048.808</td>\n",
       "      <td>17.1</td>\n",
       "      <td>3.2</td>\n",
       "      <td>91.0</td>\n",
       "      <td>0.0</td>\n",
       "      <td>0.0</td>\n",
       "      <td>0.0</td>\n",
       "      <td>0.0</td>\n",
       "      <td>6</td>\n",
       "      <td>1</td>\n",
       "      <td>3</td>\n",
       "      <td>0</td>\n",
       "      <td>153</td>\n",
       "      <td>23</td>\n",
       "    </tr>\n",
       "    <tr>\n",
       "      <th>4</th>\n",
       "      <td>1</td>\n",
       "      <td>8043.624</td>\n",
       "      <td>17.0</td>\n",
       "      <td>3.3</td>\n",
       "      <td>92.0</td>\n",
       "      <td>0.0</td>\n",
       "      <td>0.0</td>\n",
       "      <td>0.0</td>\n",
       "      <td>0.0</td>\n",
       "      <td>6</td>\n",
       "      <td>1</td>\n",
       "      <td>4</td>\n",
       "      <td>0</td>\n",
       "      <td>153</td>\n",
       "      <td>23</td>\n",
       "    </tr>\n",
       "    <tr>\n",
       "      <th>...</th>\n",
       "      <td>...</td>\n",
       "      <td>...</td>\n",
       "      <td>...</td>\n",
       "      <td>...</td>\n",
       "      <td>...</td>\n",
       "      <td>...</td>\n",
       "      <td>...</td>\n",
       "      <td>...</td>\n",
       "      <td>...</td>\n",
       "      <td>...</td>\n",
       "      <td>...</td>\n",
       "      <td>...</td>\n",
       "      <td>...</td>\n",
       "      <td>...</td>\n",
       "      <td>...</td>\n",
       "    </tr>\n",
       "    <tr>\n",
       "      <th>122395</th>\n",
       "      <td>60</td>\n",
       "      <td>4114.368</td>\n",
       "      <td>27.8</td>\n",
       "      <td>2.3</td>\n",
       "      <td>68.0</td>\n",
       "      <td>0.0</td>\n",
       "      <td>0.7</td>\n",
       "      <td>1.0</td>\n",
       "      <td>1.0</td>\n",
       "      <td>8</td>\n",
       "      <td>24</td>\n",
       "      <td>19</td>\n",
       "      <td>0</td>\n",
       "      <td>237</td>\n",
       "      <td>35</td>\n",
       "    </tr>\n",
       "    <tr>\n",
       "      <th>122396</th>\n",
       "      <td>60</td>\n",
       "      <td>3975.696</td>\n",
       "      <td>27.3</td>\n",
       "      <td>1.2</td>\n",
       "      <td>71.0</td>\n",
       "      <td>0.0</td>\n",
       "      <td>0.0</td>\n",
       "      <td>1.0</td>\n",
       "      <td>1.0</td>\n",
       "      <td>8</td>\n",
       "      <td>24</td>\n",
       "      <td>20</td>\n",
       "      <td>0</td>\n",
       "      <td>237</td>\n",
       "      <td>35</td>\n",
       "    </tr>\n",
       "    <tr>\n",
       "      <th>122397</th>\n",
       "      <td>60</td>\n",
       "      <td>3572.208</td>\n",
       "      <td>27.3</td>\n",
       "      <td>1.8</td>\n",
       "      <td>71.0</td>\n",
       "      <td>0.0</td>\n",
       "      <td>0.0</td>\n",
       "      <td>1.0</td>\n",
       "      <td>1.0</td>\n",
       "      <td>8</td>\n",
       "      <td>24</td>\n",
       "      <td>21</td>\n",
       "      <td>0</td>\n",
       "      <td>237</td>\n",
       "      <td>35</td>\n",
       "    </tr>\n",
       "    <tr>\n",
       "      <th>122398</th>\n",
       "      <td>60</td>\n",
       "      <td>3299.184</td>\n",
       "      <td>27.1</td>\n",
       "      <td>1.8</td>\n",
       "      <td>74.0</td>\n",
       "      <td>0.0</td>\n",
       "      <td>0.0</td>\n",
       "      <td>1.0</td>\n",
       "      <td>1.0</td>\n",
       "      <td>8</td>\n",
       "      <td>24</td>\n",
       "      <td>22</td>\n",
       "      <td>0</td>\n",
       "      <td>237</td>\n",
       "      <td>35</td>\n",
       "    </tr>\n",
       "    <tr>\n",
       "      <th>122399</th>\n",
       "      <td>60</td>\n",
       "      <td>3204.576</td>\n",
       "      <td>27.1</td>\n",
       "      <td>2.6</td>\n",
       "      <td>75.0</td>\n",
       "      <td>0.0</td>\n",
       "      <td>0.0</td>\n",
       "      <td>1.0</td>\n",
       "      <td>1.0</td>\n",
       "      <td>8</td>\n",
       "      <td>24</td>\n",
       "      <td>23</td>\n",
       "      <td>0</td>\n",
       "      <td>237</td>\n",
       "      <td>35</td>\n",
       "    </tr>\n",
       "  </tbody>\n",
       "</table>\n",
       "<p>122400 rows × 15 columns</p>\n",
       "</div>"
      ],
      "text/plain": [
       "        num    target  temp  wind  humid  rain  sunny  cooler  solar  month  \\\n",
       "0         1  8179.056  17.6   2.5   92.0   0.8    0.0     0.0    0.0      6   \n",
       "1         1  8135.640  17.7   2.9   91.0   0.3    0.0     0.0    0.0      6   \n",
       "2         1  8107.128  17.5   3.2   91.0   0.0    0.0     0.0    0.0      6   \n",
       "3         1  8048.808  17.1   3.2   91.0   0.0    0.0     0.0    0.0      6   \n",
       "4         1  8043.624  17.0   3.3   92.0   0.0    0.0     0.0    0.0      6   \n",
       "...     ...       ...   ...   ...    ...   ...    ...     ...    ...    ...   \n",
       "122395   60  4114.368  27.8   2.3   68.0   0.0    0.7     1.0    1.0      8   \n",
       "122396   60  3975.696  27.3   1.2   71.0   0.0    0.0     1.0    1.0      8   \n",
       "122397   60  3572.208  27.3   1.8   71.0   0.0    0.0     1.0    1.0      8   \n",
       "122398   60  3299.184  27.1   1.8   74.0   0.0    0.0     1.0    1.0      8   \n",
       "122399   60  3204.576  27.1   2.6   75.0   0.0    0.0     1.0    1.0      8   \n",
       "\n",
       "        day  hour  weekday  dayofyear  weekofyear  \n",
       "0         1     0        0        153          23  \n",
       "1         1     1        0        153          23  \n",
       "2         1     2        0        153          23  \n",
       "3         1     3        0        153          23  \n",
       "4         1     4        0        153          23  \n",
       "...     ...   ...      ...        ...         ...  \n",
       "122395   24    19        0        237          35  \n",
       "122396   24    20        0        237          35  \n",
       "122397   24    21        0        237          35  \n",
       "122398   24    22        0        237          35  \n",
       "122399   24    23        0        237          35  \n",
       "\n",
       "[122400 rows x 15 columns]"
      ]
     },
     "execution_count": 18,
     "metadata": {},
     "output_type": "execute_result"
    }
   ],
   "source": [
    "train"
   ]
  },
  {
   "cell_type": "markdown",
   "id": "dd09b71a",
   "metadata": {},
   "source": [
    "## EDA"
   ]
  },
  {
   "cell_type": "code",
   "execution_count": 145,
   "id": "f41bea13",
   "metadata": {},
   "outputs": [
    {
     "data": {
      "text/plain": [
       "<AxesSubplot:xlabel='day', ylabel='target'>"
      ]
     },
     "execution_count": 145,
     "metadata": {},
     "output_type": "execute_result"
    },
    {
     "data": {
      "image/png": "[encoded data removed]",
      "text/plain": [
       "<Figure size 864x288 with 1 Axes>"
      ]
     },
     "metadata": {
      "needs_background": "light"
     },
     "output_type": "display_data"
    }
   ],
   "source": [
    "plt.figure(figsize=(12, 4))\n",
    "sns.barplot(data=train, x='day', y='target')"
   ]
  },
  {
   "cell_type": "code",
   "execution_count": 148,
   "id": "e620bcd7",
   "metadata": {},
   "outputs": [
    {
     "data": {
      "text/plain": [
       "<AxesSubplot:xlabel='dayofyear', ylabel='target'>"
      ]
     },
     "execution_count": 148,
     "metadata": {},
     "output_type": "execute_result"
    },
    {
     "data": {
      "image/png": "[encoded data removed]",
      "text/plain": [
       "<Figure size 2160x288 with 1 Axes>"
      ]
     },
     "metadata": {
      "needs_background": "light"
     },
     "output_type": "display_data"
    }
   ],
   "source": [
    "plt.figure(figsize=(30, 4))\n",
    "sns.barplot(data=train, x='dayofyear', y='target')"
   ]
  },
  {
   "cell_type": "code",
   "execution_count": 136,
   "id": "34274d72",
   "metadata": {},
   "outputs": [
    {
     "data": {
      "text/plain": [
       "<AxesSubplot:xlabel='hour', ylabel='target'>"
      ]
     },
     "execution_count": 136,
     "metadata": {},
     "output_type": "execute_result"
    },
    {
     "data": {
      "image/png": "[encoded data removed]",
      "text/plain": [
       "<Figure size 864x288 with 1 Axes>"
      ]
     },
     "metadata": {
      "needs_background": "light"
     },
     "output_type": "display_data"
    }
   ],
   "source": [
    "plt.figure(figsize=(12, 4))\n",
    "sns.barplot(data=train, x='hour', y='target')"
   ]
  },
  {
   "cell_type": "code",
   "execution_count": 149,
   "id": "0acbde4f",
   "metadata": {},
   "outputs": [
    {
     "data": {
      "text/plain": [
       "<AxesSubplot:xlabel='num', ylabel='target'>"
      ]
     },
     "execution_count": 149,
     "metadata": {},
     "output_type": "execute_result"
    },
    {
     "data": {
      "image/png": "[encoded data removed]",
      "text/plain": [
       "<Figure size 1152x288 with 1 Axes>"
      ]
     },
     "metadata": {
      "needs_background": "light"
     },
     "output_type": "display_data"
    }
   ],
   "source": [
    "plt.figure(figsize=(16, 4))\n",
    "sns.barplot(data=train, x='num', y='target')"
   ]
  },
  {
   "cell_type": "code",
   "execution_count": 138,
   "id": "fdc2e89b",
   "metadata": {},
   "outputs": [
    {
     "data": {
      "text/plain": [
       "<AxesSubplot:xlabel='weekday', ylabel='target'>"
      ]
     },
     "execution_count": 138,
     "metadata": {},
     "output_type": "execute_result"
    },
    {
     "data": {
      "image/png": "[encoded data removed]",
      "text/plain": [
       "<Figure size 864x288 with 1 Axes>"
      ]
     },
     "metadata": {
      "needs_background": "light"
     },
     "output_type": "display_data"
    }
   ],
   "source": [
    "plt.figure(figsize=(12, 4))\n",
    "sns.barplot(data=train, x='weekday', y='target')"
   ]
  },
  {
   "cell_type": "code",
   "execution_count": 139,
   "id": "9cf94755",
   "metadata": {},
   "outputs": [
    {
     "data": {
      "text/plain": [
       "<AxesSubplot:xlabel='month', ylabel='target'>"
      ]
     },
     "execution_count": 139,
     "metadata": {},
     "output_type": "execute_result"
    },
    {
     "data": {
      "image/png": "[encoded data removed]",
      "text/plain": [
       "<Figure size 864x288 with 1 Axes>"
      ]
     },
     "metadata": {
      "needs_background": "light"
     },
     "output_type": "display_data"
    }
   ],
   "source": [
    "plt.figure(figsize=(12, 4))\n",
    "sns.barplot(data=train, x='month', y='target')"
   ]
  },
  {
   "cell_type": "code",
   "execution_count": 140,
   "id": "df2023fe",
   "metadata": {},
   "outputs": [
    {
     "data": {
      "text/plain": [
       "<AxesSubplot:xlabel='weekofyear', ylabel='target'>"
      ]
     },
     "execution_count": 140,
     "metadata": {},
     "output_type": "execute_result"
    },
    {
     "data": {
      "image/png": "[encoded data removed]",
      "text/plain": [
       "<Figure size 864x288 with 1 Axes>"
      ]
     },
     "metadata": {
      "needs_background": "light"
     },
     "output_type": "display_data"
    }
   ],
   "source": [
    "plt.figure(figsize=(12, 4))\n",
    "sns.barplot(data=train, x='weekofyear', y='target')"
   ]
  },
  {
   "cell_type": "markdown",
   "id": "e72f8909",
   "metadata": {},
   "source": [
    "### dayofyear"
   ]
  },
  {
   "cell_type": "code",
   "execution_count": 157,
   "id": "6dddd7e2",
   "metadata": {},
   "outputs": [
    {
     "data": {
      "text/plain": [
       "<AxesSubplot:xlabel='dayofyear', ylabel='target'>"
      ]
     },
     "execution_count": 157,
     "metadata": {},
     "output_type": "execute_result"
    },
    {
     "data": {
      "image/png": "[encoded data removed]",
      "text/plain": [
       "<Figure size 2160x288 with 1 Axes>"
      ]
     },
     "metadata": {
      "needs_background": "light"
     },
     "output_type": "display_data"
    }
   ],
   "source": [
    "plt.figure(figsize=(30, 4))\n",
    "sns.barplot(data=train, x='dayofyear', y='target')"
   ]
  },
  {
   "cell_type": "code",
   "execution_count": 151,
   "id": "be7d423b",
   "metadata": {},
   "outputs": [
    {
     "data": {
      "text/plain": [
       "<AxesSubplot:xlabel='dayofyear', ylabel='temp'>"
      ]
     },
     "execution_count": 151,
     "metadata": {},
     "output_type": "execute_result"
    },
    {
     "data": {
      "image/png": "[encoded data removed]",
      "text/plain": [
       "<Figure size 2160x288 with 1 Axes>"
      ]
     },
     "metadata": {
      "needs_background": "light"
     },
     "output_type": "display_data"
    }
   ],
   "source": [
    "plt.figure(figsize=(30, 4))\n",
    "sns.barplot(data=train, x='dayofyear', y='temp')"
   ]
  },
  {
   "cell_type": "code",
   "execution_count": 152,
   "id": "cbeb538a",
   "metadata": {},
   "outputs": [
    {
     "data": {
      "text/plain": [
       "<AxesSubplot:xlabel='dayofyear', ylabel='wind'>"
      ]
     },
     "execution_count": 152,
     "metadata": {},
     "output_type": "execute_result"
    },
    {
     "data": {
      "image/png": "[encoded data removed]",
      "text/plain": [
       "<Figure size 2160x288 with 1 Axes>"
      ]
     },
     "metadata": {
      "needs_background": "light"
     },
     "output_type": "display_data"
    }
   ],
   "source": [
    "plt.figure(figsize=(30, 4))\n",
    "sns.barplot(data=train, x='dayofyear', y='wind')"
   ]
  },
  {
   "cell_type": "code",
   "execution_count": 153,
   "id": "11b3eae0",
   "metadata": {},
   "outputs": [
    {
     "data": {
      "text/plain": [
       "<AxesSubplot:xlabel='dayofyear', ylabel='humid'>"
      ]
     },
     "execution_count": 153,
     "metadata": {},
     "output_type": "execute_result"
    },
    {
     "data": {
      "image/png": "[encoded data removed]",
      "text/plain": [
       "<Figure size 2160x288 with 1 Axes>"
      ]
     },
     "metadata": {
      "needs_background": "light"
     },
     "output_type": "display_data"
    }
   ],
   "source": [
    "plt.figure(figsize=(30, 4))\n",
    "sns.barplot(data=train, x='dayofyear', y='humid')"
   ]
  },
  {
   "cell_type": "code",
   "execution_count": 158,
   "id": "3e8edb8e",
   "metadata": {},
   "outputs": [
    {
     "data": {
      "text/plain": [
       "<AxesSubplot:xlabel='dayofyear', ylabel='sunny'>"
      ]
     },
     "execution_count": 158,
     "metadata": {},
     "output_type": "execute_result"
    },
    {
     "data": {
      "image/png": "[encoded data removed]",
      "text/plain": [
       "<Figure size 2160x288 with 1 Axes>"
      ]
     },
     "metadata": {
      "needs_background": "light"
     },
     "output_type": "display_data"
    }
   ],
   "source": [
    "plt.figure(figsize=(30, 4))\n",
    "sns.barplot(data=train, x='dayofyear', y='sunny')"
   ]
  },
  {
   "cell_type": "code",
   "execution_count": 161,
   "id": "b5b0a6e3",
   "metadata": {},
   "outputs": [
    {
     "data": {
      "text/html": [
       "<div>\n",
       "<style scoped>\n",
       "    .dataframe tbody tr th:only-of-type {\n",
       "        vertical-align: middle;\n",
       "    }\n",
       "\n",
       "    .dataframe tbody tr th {\n",
       "        vertical-align: top;\n",
       "    }\n",
       "\n",
       "    .dataframe thead th {\n",
       "        text-align: right;\n",
       "    }\n",
       "</style>\n",
       "<table border=\"1\" class=\"dataframe\">\n",
       "  <thead>\n",
       "    <tr style=\"text-align: right;\">\n",
       "      <th></th>\n",
       "      <th>num</th>\n",
       "      <th>target</th>\n",
       "      <th>temp</th>\n",
       "      <th>wind</th>\n",
       "      <th>humid</th>\n",
       "      <th>rain</th>\n",
       "      <th>sunny</th>\n",
       "      <th>cooler</th>\n",
       "      <th>solar</th>\n",
       "      <th>month</th>\n",
       "      <th>day</th>\n",
       "      <th>hour</th>\n",
       "      <th>weekday</th>\n",
       "      <th>dayofyear</th>\n",
       "      <th>weekofyear</th>\n",
       "    </tr>\n",
       "  </thead>\n",
       "  <tbody>\n",
       "    <tr>\n",
       "      <th>0</th>\n",
       "      <td>1</td>\n",
       "      <td>8179.056</td>\n",
       "      <td>17.6</td>\n",
       "      <td>2.5</td>\n",
       "      <td>92.0</td>\n",
       "      <td>0.8</td>\n",
       "      <td>0.0</td>\n",
       "      <td>0.0</td>\n",
       "      <td>0.0</td>\n",
       "      <td>6</td>\n",
       "      <td>1</td>\n",
       "      <td>0</td>\n",
       "      <td>0</td>\n",
       "      <td>153</td>\n",
       "      <td>23</td>\n",
       "    </tr>\n",
       "    <tr>\n",
       "      <th>1</th>\n",
       "      <td>1</td>\n",
       "      <td>8135.640</td>\n",
       "      <td>17.7</td>\n",
       "      <td>2.9</td>\n",
       "      <td>91.0</td>\n",
       "      <td>0.3</td>\n",
       "      <td>0.0</td>\n",
       "      <td>0.0</td>\n",
       "      <td>0.0</td>\n",
       "      <td>6</td>\n",
       "      <td>1</td>\n",
       "      <td>1</td>\n",
       "      <td>0</td>\n",
       "      <td>153</td>\n",
       "      <td>23</td>\n",
       "    </tr>\n",
       "    <tr>\n",
       "      <th>2</th>\n",
       "      <td>1</td>\n",
       "      <td>8107.128</td>\n",
       "      <td>17.5</td>\n",
       "      <td>3.2</td>\n",
       "      <td>91.0</td>\n",
       "      <td>0.0</td>\n",
       "      <td>0.0</td>\n",
       "      <td>0.0</td>\n",
       "      <td>0.0</td>\n",
       "      <td>6</td>\n",
       "      <td>1</td>\n",
       "      <td>2</td>\n",
       "      <td>0</td>\n",
       "      <td>153</td>\n",
       "      <td>23</td>\n",
       "    </tr>\n",
       "    <tr>\n",
       "      <th>3</th>\n",
       "      <td>1</td>\n",
       "      <td>8048.808</td>\n",
       "      <td>17.1</td>\n",
       "      <td>3.2</td>\n",
       "      <td>91.0</td>\n",
       "      <td>0.0</td>\n",
       "      <td>0.0</td>\n",
       "      <td>0.0</td>\n",
       "      <td>0.0</td>\n",
       "      <td>6</td>\n",
       "      <td>1</td>\n",
       "      <td>3</td>\n",
       "      <td>0</td>\n",
       "      <td>153</td>\n",
       "      <td>23</td>\n",
       "    </tr>\n",
       "    <tr>\n",
       "      <th>4</th>\n",
       "      <td>1</td>\n",
       "      <td>8043.624</td>\n",
       "      <td>17.0</td>\n",
       "      <td>3.3</td>\n",
       "      <td>92.0</td>\n",
       "      <td>0.0</td>\n",
       "      <td>0.0</td>\n",
       "      <td>0.0</td>\n",
       "      <td>0.0</td>\n",
       "      <td>6</td>\n",
       "      <td>1</td>\n",
       "      <td>4</td>\n",
       "      <td>0</td>\n",
       "      <td>153</td>\n",
       "      <td>23</td>\n",
       "    </tr>\n",
       "    <tr>\n",
       "      <th>...</th>\n",
       "      <td>...</td>\n",
       "      <td>...</td>\n",
       "      <td>...</td>\n",
       "      <td>...</td>\n",
       "      <td>...</td>\n",
       "      <td>...</td>\n",
       "      <td>...</td>\n",
       "      <td>...</td>\n",
       "      <td>...</td>\n",
       "      <td>...</td>\n",
       "      <td>...</td>\n",
       "      <td>...</td>\n",
       "      <td>...</td>\n",
       "      <td>...</td>\n",
       "      <td>...</td>\n",
       "    </tr>\n",
       "    <tr>\n",
       "      <th>122395</th>\n",
       "      <td>60</td>\n",
       "      <td>4114.368</td>\n",
       "      <td>27.8</td>\n",
       "      <td>2.3</td>\n",
       "      <td>68.0</td>\n",
       "      <td>0.0</td>\n",
       "      <td>0.7</td>\n",
       "      <td>1.0</td>\n",
       "      <td>1.0</td>\n",
       "      <td>8</td>\n",
       "      <td>24</td>\n",
       "      <td>19</td>\n",
       "      <td>0</td>\n",
       "      <td>237</td>\n",
       "      <td>35</td>\n",
       "    </tr>\n",
       "    <tr>\n",
       "      <th>122396</th>\n",
       "      <td>60</td>\n",
       "      <td>3975.696</td>\n",
       "      <td>27.3</td>\n",
       "      <td>1.2</td>\n",
       "      <td>71.0</td>\n",
       "      <td>0.0</td>\n",
       "      <td>0.0</td>\n",
       "      <td>1.0</td>\n",
       "      <td>1.0</td>\n",
       "      <td>8</td>\n",
       "      <td>24</td>\n",
       "      <td>20</td>\n",
       "      <td>0</td>\n",
       "      <td>237</td>\n",
       "      <td>35</td>\n",
       "    </tr>\n",
       "    <tr>\n",
       "      <th>122397</th>\n",
       "      <td>60</td>\n",
       "      <td>3572.208</td>\n",
       "      <td>27.3</td>\n",
       "      <td>1.8</td>\n",
       "      <td>71.0</td>\n",
       "      <td>0.0</td>\n",
       "      <td>0.0</td>\n",
       "      <td>1.0</td>\n",
       "      <td>1.0</td>\n",
       "      <td>8</td>\n",
       "      <td>24</td>\n",
       "      <td>21</td>\n",
       "      <td>0</td>\n",
       "      <td>237</td>\n",
       "      <td>35</td>\n",
       "    </tr>\n",
       "    <tr>\n",
       "      <th>122398</th>\n",
       "      <td>60</td>\n",
       "      <td>3299.184</td>\n",
       "      <td>27.1</td>\n",
       "      <td>1.8</td>\n",
       "      <td>74.0</td>\n",
       "      <td>0.0</td>\n",
       "      <td>0.0</td>\n",
       "      <td>1.0</td>\n",
       "      <td>1.0</td>\n",
       "      <td>8</td>\n",
       "      <td>24</td>\n",
       "      <td>22</td>\n",
       "      <td>0</td>\n",
       "      <td>237</td>\n",
       "      <td>35</td>\n",
       "    </tr>\n",
       "    <tr>\n",
       "      <th>122399</th>\n",
       "      <td>60</td>\n",
       "      <td>3204.576</td>\n",
       "      <td>27.1</td>\n",
       "      <td>2.6</td>\n",
       "      <td>75.0</td>\n",
       "      <td>0.0</td>\n",
       "      <td>0.0</td>\n",
       "      <td>1.0</td>\n",
       "      <td>1.0</td>\n",
       "      <td>8</td>\n",
       "      <td>24</td>\n",
       "      <td>23</td>\n",
       "      <td>0</td>\n",
       "      <td>237</td>\n",
       "      <td>35</td>\n",
       "    </tr>\n",
       "  </tbody>\n",
       "</table>\n",
       "<p>122400 rows × 15 columns</p>\n",
       "</div>"
      ],
      "text/plain": [
       "        num    target  temp  wind  humid  rain  sunny  cooler  solar  month  \\\n",
       "0         1  8179.056  17.6   2.5   92.0   0.8    0.0     0.0    0.0      6   \n",
       "1         1  8135.640  17.7   2.9   91.0   0.3    0.0     0.0    0.0      6   \n",
       "2         1  8107.128  17.5   3.2   91.0   0.0    0.0     0.0    0.0      6   \n",
       "3         1  8048.808  17.1   3.2   91.0   0.0    0.0     0.0    0.0      6   \n",
       "4         1  8043.624  17.0   3.3   92.0   0.0    0.0     0.0    0.0      6   \n",
       "...     ...       ...   ...   ...    ...   ...    ...     ...    ...    ...   \n",
       "122395   60  4114.368  27.8   2.3   68.0   0.0    0.7     1.0    1.0      8   \n",
       "122396   60  3975.696  27.3   1.2   71.0   0.0    0.0     1.0    1.0      8   \n",
       "122397   60  3572.208  27.3   1.8   71.0   0.0    0.0     1.0    1.0      8   \n",
       "122398   60  3299.184  27.1   1.8   74.0   0.0    0.0     1.0    1.0      8   \n",
       "122399   60  3204.576  27.1   2.6   75.0   0.0    0.0     1.0    1.0      8   \n",
       "\n",
       "        day  hour  weekday  dayofyear  weekofyear  \n",
       "0         1     0        0        153          23  \n",
       "1         1     1        0        153          23  \n",
       "2         1     2        0        153          23  \n",
       "3         1     3        0        153          23  \n",
       "4         1     4        0        153          23  \n",
       "...     ...   ...      ...        ...         ...  \n",
       "122395   24    19        0        237          35  \n",
       "122396   24    20        0        237          35  \n",
       "122397   24    21        0        237          35  \n",
       "122398   24    22        0        237          35  \n",
       "122399   24    23        0        237          35  \n",
       "\n",
       "[122400 rows x 15 columns]"
      ]
     },
     "execution_count": 161,
     "metadata": {},
     "output_type": "execute_result"
    }
   ],
   "source": [
    "train"
   ]
  },
  {
   "cell_type": "markdown",
   "id": "98fdca8c",
   "metadata": {},
   "source": [
    "### target"
   ]
  },
  {
   "cell_type": "code",
   "execution_count": 216,
   "id": "f43f75c1",
   "metadata": {
    "tags": []
   },
   "outputs": [
    {
     "data": {
      "text/html": [
       "<div>\n",
       "<style scoped>\n",
       "    .dataframe tbody tr th:only-of-type {\n",
       "        vertical-align: middle;\n",
       "    }\n",
       "\n",
       "    .dataframe tbody tr th {\n",
       "        vertical-align: top;\n",
       "    }\n",
       "\n",
       "    .dataframe thead th {\n",
       "        text-align: right;\n",
       "    }\n",
       "</style>\n",
       "<table border=\"1\" class=\"dataframe\">\n",
       "  <thead>\n",
       "    <tr style=\"text-align: right;\">\n",
       "      <th>weekday</th>\n",
       "      <th>0</th>\n",
       "      <th>1</th>\n",
       "      <th>2</th>\n",
       "      <th>3</th>\n",
       "      <th>4</th>\n",
       "      <th>5</th>\n",
       "      <th>6</th>\n",
       "    </tr>\n",
       "    <tr>\n",
       "      <th>hour</th>\n",
       "      <th></th>\n",
       "      <th></th>\n",
       "      <th></th>\n",
       "      <th></th>\n",
       "      <th></th>\n",
       "      <th></th>\n",
       "      <th></th>\n",
       "    </tr>\n",
       "  </thead>\n",
       "  <tbody>\n",
       "    <tr>\n",
       "      <th>0</th>\n",
       "      <td>8528.627077</td>\n",
       "      <td>8505.972</td>\n",
       "      <td>8518.392</td>\n",
       "      <td>8548.686</td>\n",
       "      <td>8560.674</td>\n",
       "      <td>8567.802</td>\n",
       "      <td>8553.438</td>\n",
       "    </tr>\n",
       "    <tr>\n",
       "      <th>1</th>\n",
       "      <td>8513.723077</td>\n",
       "      <td>8442.414</td>\n",
       "      <td>8503.380</td>\n",
       "      <td>8525.790</td>\n",
       "      <td>8539.398</td>\n",
       "      <td>8555.760</td>\n",
       "      <td>8540.046</td>\n",
       "    </tr>\n",
       "    <tr>\n",
       "      <th>2</th>\n",
       "      <td>8496.625846</td>\n",
       "      <td>8475.948</td>\n",
       "      <td>8485.884</td>\n",
       "      <td>8509.536</td>\n",
       "      <td>8524.980</td>\n",
       "      <td>8542.854</td>\n",
       "      <td>8528.598</td>\n",
       "    </tr>\n",
       "    <tr>\n",
       "      <th>3</th>\n",
       "      <td>8480.076923</td>\n",
       "      <td>8444.844</td>\n",
       "      <td>8474.814</td>\n",
       "      <td>8499.060</td>\n",
       "      <td>8507.646</td>\n",
       "      <td>8536.806</td>\n",
       "      <td>8511.048</td>\n",
       "    </tr>\n",
       "    <tr>\n",
       "      <th>4</th>\n",
       "      <td>8472.051692</td>\n",
       "      <td>8425.242</td>\n",
       "      <td>8458.236</td>\n",
       "      <td>8484.264</td>\n",
       "      <td>8493.390</td>\n",
       "      <td>8525.412</td>\n",
       "      <td>8498.682</td>\n",
       "    </tr>\n",
       "    <tr>\n",
       "      <th>5</th>\n",
       "      <td>8444.088000</td>\n",
       "      <td>8394.138</td>\n",
       "      <td>8435.124</td>\n",
       "      <td>8472.654</td>\n",
       "      <td>8471.034</td>\n",
       "      <td>8494.092</td>\n",
       "      <td>8472.762</td>\n",
       "    </tr>\n",
       "    <tr>\n",
       "      <th>6</th>\n",
       "      <td>8440.150154</td>\n",
       "      <td>8392.842</td>\n",
       "      <td>8429.400</td>\n",
       "      <td>8464.446</td>\n",
       "      <td>8465.634</td>\n",
       "      <td>8475.894</td>\n",
       "      <td>8457.750</td>\n",
       "    </tr>\n",
       "    <tr>\n",
       "      <th>7</th>\n",
       "      <td>8477.136000</td>\n",
       "      <td>8436.798</td>\n",
       "      <td>8459.100</td>\n",
       "      <td>8487.774</td>\n",
       "      <td>8495.172</td>\n",
       "      <td>8494.578</td>\n",
       "      <td>8476.920</td>\n",
       "    </tr>\n",
       "    <tr>\n",
       "      <th>8</th>\n",
       "      <td>8493.934154</td>\n",
       "      <td>8454.240</td>\n",
       "      <td>8479.890</td>\n",
       "      <td>8505.432</td>\n",
       "      <td>8517.798</td>\n",
       "      <td>8497.440</td>\n",
       "      <td>8469.306</td>\n",
       "    </tr>\n",
       "    <tr>\n",
       "      <th>9</th>\n",
       "      <td>8550.509538</td>\n",
       "      <td>8505.756</td>\n",
       "      <td>8543.178</td>\n",
       "      <td>8563.266</td>\n",
       "      <td>8566.614</td>\n",
       "      <td>8507.106</td>\n",
       "      <td>8474.706</td>\n",
       "    </tr>\n",
       "    <tr>\n",
       "      <th>10</th>\n",
       "      <td>8575.831385</td>\n",
       "      <td>8534.700</td>\n",
       "      <td>8565.588</td>\n",
       "      <td>8578.116</td>\n",
       "      <td>8598.744</td>\n",
       "      <td>8523.954</td>\n",
       "      <td>8497.602</td>\n",
       "    </tr>\n",
       "    <tr>\n",
       "      <th>11</th>\n",
       "      <td>8581.563692</td>\n",
       "      <td>8542.368</td>\n",
       "      <td>8574.390</td>\n",
       "      <td>8587.026</td>\n",
       "      <td>8601.768</td>\n",
       "      <td>8535.240</td>\n",
       "      <td>8514.342</td>\n",
       "    </tr>\n",
       "    <tr>\n",
       "      <th>12</th>\n",
       "      <td>8577.924923</td>\n",
       "      <td>8497.224</td>\n",
       "      <td>8593.614</td>\n",
       "      <td>8586.216</td>\n",
       "      <td>8608.518</td>\n",
       "      <td>8555.382</td>\n",
       "      <td>8523.954</td>\n",
       "    </tr>\n",
       "    <tr>\n",
       "      <th>13</th>\n",
       "      <td>8587.046769</td>\n",
       "      <td>8551.008</td>\n",
       "      <td>8599.392</td>\n",
       "      <td>8607.978</td>\n",
       "      <td>8612.082</td>\n",
       "      <td>8548.794</td>\n",
       "      <td>8532.702</td>\n",
       "    </tr>\n",
       "    <tr>\n",
       "      <th>14</th>\n",
       "      <td>8608.530462</td>\n",
       "      <td>8573.310</td>\n",
       "      <td>8632.494</td>\n",
       "      <td>8637.192</td>\n",
       "      <td>8645.076</td>\n",
       "      <td>8556.678</td>\n",
       "      <td>8549.064</td>\n",
       "    </tr>\n",
       "    <tr>\n",
       "      <th>15</th>\n",
       "      <td>8613.714462</td>\n",
       "      <td>8577.630</td>\n",
       "      <td>8653.770</td>\n",
       "      <td>8634.762</td>\n",
       "      <td>8647.290</td>\n",
       "      <td>8562.402</td>\n",
       "      <td>8556.786</td>\n",
       "    </tr>\n",
       "    <tr>\n",
       "      <th>16</th>\n",
       "      <td>8615.508923</td>\n",
       "      <td>8580.978</td>\n",
       "      <td>8648.208</td>\n",
       "      <td>8628.066</td>\n",
       "      <td>8646.426</td>\n",
       "      <td>8576.280</td>\n",
       "      <td>8554.194</td>\n",
       "    </tr>\n",
       "    <tr>\n",
       "      <th>17</th>\n",
       "      <td>8598.461538</td>\n",
       "      <td>8574.012</td>\n",
       "      <td>8635.302</td>\n",
       "      <td>8619.966</td>\n",
       "      <td>8621.586</td>\n",
       "      <td>8577.792</td>\n",
       "      <td>8553.114</td>\n",
       "    </tr>\n",
       "    <tr>\n",
       "      <th>18</th>\n",
       "      <td>8572.790769</td>\n",
       "      <td>8547.552</td>\n",
       "      <td>8628.822</td>\n",
       "      <td>8594.802</td>\n",
       "      <td>8595.774</td>\n",
       "      <td>8574.099</td>\n",
       "      <td>8548.092</td>\n",
       "    </tr>\n",
       "    <tr>\n",
       "      <th>19</th>\n",
       "      <td>8570.099077</td>\n",
       "      <td>8553.978</td>\n",
       "      <td>8609.598</td>\n",
       "      <td>8598.420</td>\n",
       "      <td>8599.122</td>\n",
       "      <td>8577.792</td>\n",
       "      <td>8563.482</td>\n",
       "    </tr>\n",
       "    <tr>\n",
       "      <th>20</th>\n",
       "      <td>8553.849231</td>\n",
       "      <td>8539.614</td>\n",
       "      <td>8591.508</td>\n",
       "      <td>8591.238</td>\n",
       "      <td>8602.416</td>\n",
       "      <td>8567.910</td>\n",
       "      <td>8565.480</td>\n",
       "    </tr>\n",
       "    <tr>\n",
       "      <th>21</th>\n",
       "      <td>8553.151385</td>\n",
       "      <td>8544.150</td>\n",
       "      <td>8589.132</td>\n",
       "      <td>8584.218</td>\n",
       "      <td>8599.446</td>\n",
       "      <td>8570.664</td>\n",
       "      <td>8572.338</td>\n",
       "    </tr>\n",
       "    <tr>\n",
       "      <th>22</th>\n",
       "      <td>8558.385231</td>\n",
       "      <td>8554.626</td>\n",
       "      <td>8575.146</td>\n",
       "      <td>8587.674</td>\n",
       "      <td>8595.126</td>\n",
       "      <td>8572.122</td>\n",
       "      <td>8575.146</td>\n",
       "    </tr>\n",
       "    <tr>\n",
       "      <th>23</th>\n",
       "      <td>8533.312615</td>\n",
       "      <td>8529.030</td>\n",
       "      <td>8557.812</td>\n",
       "      <td>8569.854</td>\n",
       "      <td>8571.690</td>\n",
       "      <td>8555.382</td>\n",
       "      <td>8560.134</td>\n",
       "    </tr>\n",
       "  </tbody>\n",
       "</table>\n",
       "</div>"
      ],
      "text/plain": [
       "weekday            0         1         2         3         4         5  \\\n",
       "hour                                                                     \n",
       "0        8528.627077  8505.972  8518.392  8548.686  8560.674  8567.802   \n",
       "1        8513.723077  8442.414  8503.380  8525.790  8539.398  8555.760   \n",
       "2        8496.625846  8475.948  8485.884  8509.536  8524.980  8542.854   \n",
       "3        8480.076923  8444.844  8474.814  8499.060  8507.646  8536.806   \n",
       "4        8472.051692  8425.242  8458.236  8484.264  8493.390  8525.412   \n",
       "5        8444.088000  8394.138  8435.124  8472.654  8471.034  8494.092   \n",
       "6        8440.150154  8392.842  8429.400  8464.446  8465.634  8475.894   \n",
       "7        8477.136000  8436.798  8459.100  8487.774  8495.172  8494.578   \n",
       "8        8493.934154  8454.240  8479.890  8505.432  8517.798  8497.440   \n",
       "9        8550.509538  8505.756  8543.178  8563.266  8566.614  8507.106   \n",
       "10       8575.831385  8534.700  8565.588  8578.116  8598.744  8523.954   \n",
       "11       8581.563692  8542.368  8574.390  8587.026  8601.768  8535.240   \n",
       "12       8577.924923  8497.224  8593.614  8586.216  8608.518  8555.382   \n",
       "13       8587.046769  8551.008  8599.392  8607.978  8612.082  8548.794   \n",
       "14       8608.530462  8573.310  8632.494  8637.192  8645.076  8556.678   \n",
       "15       8613.714462  8577.630  8653.770  8634.762  8647.290  8562.402   \n",
       "16       8615.508923  8580.978  8648.208  8628.066  8646.426  8576.280   \n",
       "17       8598.461538  8574.012  8635.302  8619.966  8621.586  8577.792   \n",
       "18       8572.790769  8547.552  8628.822  8594.802  8595.774  8574.099   \n",
       "19       8570.099077  8553.978  8609.598  8598.420  8599.122  8577.792   \n",
       "20       8553.849231  8539.614  8591.508  8591.238  8602.416  8567.910   \n",
       "21       8553.151385  8544.150  8589.132  8584.218  8599.446  8570.664   \n",
       "22       8558.385231  8554.626  8575.146  8587.674  8595.126  8572.122   \n",
       "23       8533.312615  8529.030  8557.812  8569.854  8571.690  8555.382   \n",
       "\n",
       "weekday         6  \n",
       "hour               \n",
       "0        8553.438  \n",
       "1        8540.046  \n",
       "2        8528.598  \n",
       "3        8511.048  \n",
       "4        8498.682  \n",
       "5        8472.762  \n",
       "6        8457.750  \n",
       "7        8476.920  \n",
       "8        8469.306  \n",
       "9        8474.706  \n",
       "10       8497.602  \n",
       "11       8514.342  \n",
       "12       8523.954  \n",
       "13       8532.702  \n",
       "14       8549.064  \n",
       "15       8556.786  \n",
       "16       8554.194  \n",
       "17       8553.114  \n",
       "18       8548.092  \n",
       "19       8563.482  \n",
       "20       8565.480  \n",
       "21       8572.338  \n",
       "22       8575.146  \n",
       "23       8560.134  "
      ]
     },
     "execution_count": 216,
     "metadata": {},
     "output_type": "execute_result"
    }
   ],
   "source": [
    "train.loc[train.num == 1].groupby(['weekday', 'hour'])['target'].mean().unstack().T"
   ]
  },
  {
   "cell_type": "code",
   "execution_count": 22,
   "id": "203be679",
   "metadata": {},
   "outputs": [
    {
     "data": {
      "image/png": "[encoded data removed]",
      "text/plain": [
       "<Figure size 216x360 with 2 Axes>"
      ]
     },
     "metadata": {
      "needs_background": "light"
     },
     "output_type": "display_data"
    },
    {
     "data": {
      "image/png": "[encoded data removed]",
      "text/plain": [
       "<Figure size 216x360 with 2 Axes>"
      ]
     },
     "metadata": {
      "needs_background": "light"
     },
     "output_type": "display_data"
    },
    {
     "data": {
      "image/png": "[encoded data removed]",
      "text/plain": [
       "<Figure size 216x360 with 2 Axes>"
      ]
     },
     "metadata": {
      "needs_background": "light"
     },
     "output_type": "display_data"
    },
    {
     "data": {
      "image/png": "[encoded data removed]",
      "text/plain": [
       "<Figure size 216x360 with 2 Axes>"
      ]
     },
     "metadata": {
      "needs_background": "light"
     },
     "output_type": "display_data"
    },
    {
     "data": {
      "image/png": "[encoded data removed]",
      "text/plain": [
       "<Figure size 216x360 with 2 Axes>"
      ]
     },
     "metadata": {
      "needs_background": "light"
     },
     "output_type": "display_data"
    },
    {
     "data": {
      "image/png": "[encoded data removed]",
      "text/plain": [
       "<Figure size 216x360 with 2 Axes>"
      ]
     },
     "metadata": {
      "needs_background": "light"
     },
     "output_type": "display_data"
    },
    {
     "data": {
      "image/png": "[encoded data removed]",
      "text/plain": [
       "<Figure size 216x360 with 2 Axes>"
      ]
     },
     "metadata": {
      "needs_background": "light"
     },
     "output_type": "display_data"
    },
    {
     "data": {
      "image/png": "[encoded data removed]",
      "text/plain": [
       "<Figure size 216x360 with 2 Axes>"
      ]
     },
     "metadata": {
      "needs_background": "light"
     },
     "output_type": "display_data"
    },
    {
     "data": {
      "image/png": "[encoded data removed]",
      "text/plain": [
       "<Figure size 216x360 with 2 Axes>"
      ]
     },
     "metadata": {
      "needs_background": "light"
     },
     "output_type": "display_data"
    },
    {
     "data": {
      "image/png": "[encoded data removed]",
      "text/plain": [
       "<Figure size 216x360 with 2 Axes>"
      ]
     },
     "metadata": {
      "needs_background": "light"
     },
     "output_type": "display_data"
    }
   ],
   "source": [
    "for i in range(1, 11):\n",
    "    plt.figure(figsize=(3, 5))\n",
    "    sns.heatmap(train.loc[train.num == i].groupby(['weekday', 'hour'])['target'].mean().unstack().T)\n",
    "    plt.title(\"{} heatmap\".format(i))\n",
    "    plt.show()"
   ]
  },
  {
   "cell_type": "markdown",
   "id": "0d1a6981",
   "metadata": {},
   "source": [
    "건물마다 명확히 패턴이 다르게 나타난다."
   ]
  },
  {
   "cell_type": "markdown",
   "id": "356bc7d8",
   "metadata": {},
   "source": [
    "### Clustering"
   ]
  },
  {
   "cell_type": "markdown",
   "id": "1b41ea3e",
   "metadata": {},
   "source": [
    "60개의 빌딩을 클러스터링 할 생각이다. 본 데이터는 빌딩에 대한 데이터는 전혀 가지고 있지 않다. 오히려 기상 데이터만을 가지고 있다. 그렇다는 것은 target을 통해서 빌딩을 분석하고, 빌딩에 맞게 예측을 해야 한다. 그러나 빌딩별로 모델을 만들게 되면 모델이 너무 많아지고, 데이터가 줄어들게 된다. 즉, 가장 합리적인 방법은 군집화를 시켜서 그룹별로 모델을 만들고 예측하는 것이다."
   ]
  },
  {
   "cell_type": "markdown",
   "id": "324bf6bc",
   "metadata": {},
   "source": [
    "군집화를 위해 몇 가지 방법을 적용해보려고 한다.\n",
    "- 가장 간단한 k-means\n",
    "- 계층적 군집화\n",
    "- SOM(Self-Organizing-Map)"
   ]
  },
  {
   "cell_type": "code",
   "execution_count": 310,
   "id": "abefebd6",
   "metadata": {},
   "outputs": [],
   "source": [
    "from sklearn.cluster import AgglomerativeClustering\n",
    "from scipy.cluster.hierarchy import dendrogram, linkage\n",
    "from sklearn.cluster import KMeans\n",
    "from sklearn.metrics import silhouette_score"
   ]
  },
  {
   "cell_type": "markdown",
   "id": "277b3722",
   "metadata": {},
   "source": [
    "어떤 거리 척도를 사용하여 유사도를 측정할 것인가?: affinity\n",
    " - euclidian\n",
    " - manhattan\n",
    " - cosine\n",
    " - precomputed(others)(사용자 정의)\n",
    " \n",
    "군집간 거리는 어떻게 산출할 것인가?: linkage\n",
    " - sinlge(min)\n",
    " - complete(max)\n",
    " - average\n",
    " - ward"
   ]
  },
  {
   "cell_type": "code",
   "execution_count": 312,
   "id": "49daf073",
   "metadata": {},
   "outputs": [
    {
     "data": {
      "text/html": [
       "<div>\n",
       "<style scoped>\n",
       "    .dataframe tbody tr th:only-of-type {\n",
       "        vertical-align: middle;\n",
       "    }\n",
       "\n",
       "    .dataframe tbody tr th {\n",
       "        vertical-align: top;\n",
       "    }\n",
       "\n",
       "    .dataframe thead th {\n",
       "        text-align: right;\n",
       "    }\n",
       "</style>\n",
       "<table border=\"1\" class=\"dataframe\">\n",
       "  <thead>\n",
       "    <tr style=\"text-align: right;\">\n",
       "      <th></th>\n",
       "      <th>num</th>\n",
       "      <th>target</th>\n",
       "      <th>cooler</th>\n",
       "      <th>solar</th>\n",
       "      <th>weekday</th>\n",
       "      <th>hour</th>\n",
       "    </tr>\n",
       "  </thead>\n",
       "  <tbody>\n",
       "    <tr>\n",
       "      <th>0</th>\n",
       "      <td>1</td>\n",
       "      <td>8179.056</td>\n",
       "      <td>0.0</td>\n",
       "      <td>0.0</td>\n",
       "      <td>0</td>\n",
       "      <td>0</td>\n",
       "    </tr>\n",
       "    <tr>\n",
       "      <th>1</th>\n",
       "      <td>1</td>\n",
       "      <td>8135.640</td>\n",
       "      <td>0.0</td>\n",
       "      <td>0.0</td>\n",
       "      <td>0</td>\n",
       "      <td>1</td>\n",
       "    </tr>\n",
       "    <tr>\n",
       "      <th>2</th>\n",
       "      <td>1</td>\n",
       "      <td>8107.128</td>\n",
       "      <td>0.0</td>\n",
       "      <td>0.0</td>\n",
       "      <td>0</td>\n",
       "      <td>2</td>\n",
       "    </tr>\n",
       "    <tr>\n",
       "      <th>3</th>\n",
       "      <td>1</td>\n",
       "      <td>8048.808</td>\n",
       "      <td>0.0</td>\n",
       "      <td>0.0</td>\n",
       "      <td>0</td>\n",
       "      <td>3</td>\n",
       "    </tr>\n",
       "    <tr>\n",
       "      <th>4</th>\n",
       "      <td>1</td>\n",
       "      <td>8043.624</td>\n",
       "      <td>0.0</td>\n",
       "      <td>0.0</td>\n",
       "      <td>0</td>\n",
       "      <td>4</td>\n",
       "    </tr>\n",
       "  </tbody>\n",
       "</table>\n",
       "</div>"
      ],
      "text/plain": [
       "   num    target  cooler  solar  weekday  hour\n",
       "0    1  8179.056     0.0    0.0        0     0\n",
       "1    1  8135.640     0.0    0.0        0     1\n",
       "2    1  8107.128     0.0    0.0        0     2\n",
       "3    1  8048.808     0.0    0.0        0     3\n",
       "4    1  8043.624     0.0    0.0        0     4"
      ]
     },
     "execution_count": 312,
     "metadata": {},
     "output_type": "execute_result"
    }
   ],
   "source": [
    "cl_train = train[['num', 'target', 'cooler', 'solar', 'weekday', 'hour']]\n",
    "cl_train.head()"
   ]
  },
  {
   "cell_type": "code",
   "execution_count": 320,
   "id": "ffd9ff3d",
   "metadata": {},
   "outputs": [
    {
     "data": {
      "text/plain": [
       "num\n",
       "1        16969.02\n",
       "2       113290.49\n",
       "3        31222.48\n",
       "4       255091.48\n",
       "5       165314.22\n",
       "6       543051.22\n",
       "7       366118.03\n",
       "8     16108334.82\n",
       "9         4505.86\n",
       "10     1065180.05\n",
       "11     3256883.96\n",
       "12     1470548.83\n",
       "13      102367.21\n",
       "14      247500.18\n",
       "15      187763.55\n",
       "16       19954.06\n",
       "17      252928.64\n",
       "18      894931.36\n",
       "19       55413.11\n",
       "20      143501.64\n",
       "21      190354.52\n",
       "22       67879.27\n",
       "23      198824.60\n",
       "24      165453.07\n",
       "25      302404.28\n",
       "26      657029.60\n",
       "27       48479.59\n",
       "28      321026.70\n",
       "29      100396.15\n",
       "30     2856734.09\n",
       "31       53989.48\n",
       "32        1402.29\n",
       "33       15375.96\n",
       "34      138812.56\n",
       "35      717487.35\n",
       "36       51812.94\n",
       "37      244082.10\n",
       "38     8009692.49\n",
       "39      157414.06\n",
       "40     1795172.94\n",
       "41      487190.36\n",
       "42     2194560.56\n",
       "43      264100.61\n",
       "44      244519.58\n",
       "45       97215.71\n",
       "46      751557.49\n",
       "47      635348.00\n",
       "48      692669.55\n",
       "49       83964.87\n",
       "50       88669.53\n",
       "51      187139.22\n",
       "52      945214.20\n",
       "53      207966.31\n",
       "54     1545262.67\n",
       "55      442607.42\n",
       "56       69793.49\n",
       "57      426630.20\n",
       "58       55365.53\n",
       "59       81908.65\n",
       "60      170285.48\n",
       "Name: target, dtype: float64"
      ]
     },
     "execution_count": 320,
     "metadata": {},
     "output_type": "execute_result"
    }
   ],
   "source": [
    "cl_train.groupby(['num'])['target'].var().round(2)"
   ]
  },
  {
   "cell_type": "code",
   "execution_count": 272,
   "id": "55a45251",
   "metadata": {},
   "outputs": [
    {
     "data": {
      "text/plain": [
       "KMeans(n_clusters=5)"
      ]
     },
     "execution_count": 272,
     "metadata": {},
     "output_type": "execute_result"
    }
   ],
   "source": [
    "model = cl.KMeans(5)\n",
    "model.fit(train[['target', 'cooler', 'solar']])"
   ]
  },
  {
   "cell_type": "code",
   "execution_count": 278,
   "id": "b73c687e",
   "metadata": {},
   "outputs": [],
   "source": [
    "train['kmeans'] = model.predict(train[['target', 'cooler', 'solar']])"
   ]
  },
  {
   "cell_type": "code",
   "execution_count": 281,
   "id": "97daf763",
   "metadata": {},
   "outputs": [
    {
     "data": {
      "text/html": [
       "<div>\n",
       "<style scoped>\n",
       "    .dataframe tbody tr th:only-of-type {\n",
       "        vertical-align: middle;\n",
       "    }\n",
       "\n",
       "    .dataframe tbody tr th {\n",
       "        vertical-align: top;\n",
       "    }\n",
       "\n",
       "    .dataframe thead th {\n",
       "        text-align: right;\n",
       "    }\n",
       "</style>\n",
       "<table border=\"1\" class=\"dataframe\">\n",
       "  <thead>\n",
       "    <tr style=\"text-align: right;\">\n",
       "      <th></th>\n",
       "      <th>num</th>\n",
       "      <th>date_time</th>\n",
       "      <th>target</th>\n",
       "      <th>temp</th>\n",
       "      <th>wind</th>\n",
       "      <th>humid</th>\n",
       "      <th>rain</th>\n",
       "      <th>sunny</th>\n",
       "      <th>cooler</th>\n",
       "      <th>solar</th>\n",
       "      <th>kmeans</th>\n",
       "    </tr>\n",
       "  </thead>\n",
       "  <tbody>\n",
       "    <tr>\n",
       "      <th>0</th>\n",
       "      <td>1</td>\n",
       "      <td>2020-06-01 00</td>\n",
       "      <td>8179.056</td>\n",
       "      <td>17.6</td>\n",
       "      <td>2.5</td>\n",
       "      <td>92.0</td>\n",
       "      <td>0.8</td>\n",
       "      <td>0.0</td>\n",
       "      <td>0.0</td>\n",
       "      <td>0.0</td>\n",
       "      <td>1</td>\n",
       "    </tr>\n",
       "    <tr>\n",
       "      <th>1</th>\n",
       "      <td>1</td>\n",
       "      <td>2020-06-01 01</td>\n",
       "      <td>8135.640</td>\n",
       "      <td>17.7</td>\n",
       "      <td>2.9</td>\n",
       "      <td>91.0</td>\n",
       "      <td>0.3</td>\n",
       "      <td>0.0</td>\n",
       "      <td>0.0</td>\n",
       "      <td>0.0</td>\n",
       "      <td>1</td>\n",
       "    </tr>\n",
       "    <tr>\n",
       "      <th>2</th>\n",
       "      <td>1</td>\n",
       "      <td>2020-06-01 02</td>\n",
       "      <td>8107.128</td>\n",
       "      <td>17.5</td>\n",
       "      <td>3.2</td>\n",
       "      <td>91.0</td>\n",
       "      <td>0.0</td>\n",
       "      <td>0.0</td>\n",
       "      <td>0.0</td>\n",
       "      <td>0.0</td>\n",
       "      <td>1</td>\n",
       "    </tr>\n",
       "    <tr>\n",
       "      <th>3</th>\n",
       "      <td>1</td>\n",
       "      <td>2020-06-01 03</td>\n",
       "      <td>8048.808</td>\n",
       "      <td>17.1</td>\n",
       "      <td>3.2</td>\n",
       "      <td>91.0</td>\n",
       "      <td>0.0</td>\n",
       "      <td>0.0</td>\n",
       "      <td>0.0</td>\n",
       "      <td>0.0</td>\n",
       "      <td>1</td>\n",
       "    </tr>\n",
       "    <tr>\n",
       "      <th>4</th>\n",
       "      <td>1</td>\n",
       "      <td>2020-06-01 04</td>\n",
       "      <td>8043.624</td>\n",
       "      <td>17.0</td>\n",
       "      <td>3.3</td>\n",
       "      <td>92.0</td>\n",
       "      <td>0.0</td>\n",
       "      <td>0.0</td>\n",
       "      <td>0.0</td>\n",
       "      <td>0.0</td>\n",
       "      <td>1</td>\n",
       "    </tr>\n",
       "  </tbody>\n",
       "</table>\n",
       "</div>"
      ],
      "text/plain": [
       "   num      date_time    target  temp  wind  humid  rain  sunny  cooler  \\\n",
       "0    1  2020-06-01 00  8179.056  17.6   2.5   92.0   0.8    0.0     0.0   \n",
       "1    1  2020-06-01 01  8135.640  17.7   2.9   91.0   0.3    0.0     0.0   \n",
       "2    1  2020-06-01 02  8107.128  17.5   3.2   91.0   0.0    0.0     0.0   \n",
       "3    1  2020-06-01 03  8048.808  17.1   3.2   91.0   0.0    0.0     0.0   \n",
       "4    1  2020-06-01 04  8043.624  17.0   3.3   92.0   0.0    0.0     0.0   \n",
       "\n",
       "   solar  kmeans  \n",
       "0    0.0       1  \n",
       "1    0.0       1  \n",
       "2    0.0       1  \n",
       "3    0.0       1  \n",
       "4    0.0       1  "
      ]
     },
     "execution_count": 281,
     "metadata": {},
     "output_type": "execute_result"
    }
   ],
   "source": [
    "train.head()"
   ]
  },
  {
   "cell_type": "code",
   "execution_count": 282,
   "id": "fb28389c",
   "metadata": {},
   "outputs": [
    {
     "data": {
      "text/plain": [
       "<AxesSubplot:xlabel='target', ylabel='num'>"
      ]
     },
     "execution_count": 282,
     "metadata": {},
     "output_type": "execute_result"
    },
    {
     "data": {
      "image/png": "[encoded data removed]",
      "text/plain": [
       "<Figure size 432x288 with 1 Axes>"
      ]
     },
     "metadata": {
      "needs_background": "light"
     },
     "output_type": "display_data"
    }
   ],
   "source": [
    "sns.scatterplot(data=train, x='target', y='num', hue='kmeans')"
   ]
  },
  {
   "cell_type": "code",
   "execution_count": 269,
   "id": "74ef4924",
   "metadata": {},
   "outputs": [
    {
     "ename": "NameError",
     "evalue": "name 'wrap_train' is not defined",
     "output_type": "error",
     "traceback": [
      "\u001b[1;31m---------------------------------------------------------------------------\u001b[0m",
      "\u001b[1;31mNameError\u001b[0m                                 Traceback (most recent call last)",
      "\u001b[1;32m<ipython-input-269-7e8fb0351d56>\u001b[0m in \u001b[0;36m<module>\u001b[1;34m\u001b[0m\n\u001b[0;32m      1\u001b[0m \u001b[1;32mfrom\u001b[0m \u001b[0msomlearn\u001b[0m \u001b[1;32mimport\u001b[0m \u001b[0mSOM\u001b[0m\u001b[1;33m\u001b[0m\u001b[1;33m\u001b[0m\u001b[0m\n\u001b[0;32m      2\u001b[0m \u001b[0mcluster_som\u001b[0m \u001b[1;33m=\u001b[0m \u001b[0mSOM\u001b[0m\u001b[1;33m(\u001b[0m\u001b[0mrandom_state\u001b[0m\u001b[1;33m=\u001b[0m\u001b[1;36m42\u001b[0m\u001b[1;33m)\u001b[0m\u001b[1;33m\u001b[0m\u001b[1;33m\u001b[0m\u001b[0m\n\u001b[1;32m----> 3\u001b[1;33m \u001b[0my_pred\u001b[0m \u001b[1;33m=\u001b[0m \u001b[0mcluster_som\u001b[0m\u001b[1;33m.\u001b[0m\u001b[0mfit_predict\u001b[0m\u001b[1;33m(\u001b[0m\u001b[0mtrain\u001b[0m\u001b[1;33m[\u001b[0m\u001b[1;33m[\u001b[0m\u001b[1;34m'target'\u001b[0m\u001b[1;33m,\u001b[0m \u001b[1;34m'cooler'\u001b[0m\u001b[1;33m,\u001b[0m \u001b[1;34m'solar'\u001b[0m\u001b[1;33m]\u001b[0m\u001b[1;33m]\u001b[0m\u001b[1;33m.\u001b[0m\u001b[0mvalues\u001b[0m\u001b[1;33m)\u001b[0m\u001b[1;33m\u001b[0m\u001b[1;33m\u001b[0m\u001b[0m\n\u001b[0m",
      "\u001b[1;32m~\\miniconda3\\envs\\wyatt38\\lib\\site-packages\\somlearn\\som.py\u001b[0m in \u001b[0;36mfit_predict\u001b[1;34m(self, X, y, **fit_params)\u001b[0m\n\u001b[0;32m    275\u001b[0m             \u001b[0mIndex\u001b[0m \u001b[0mof\u001b[0m \u001b[0mthe\u001b[0m \u001b[0mcluster\u001b[0m \u001b[0meach\u001b[0m \u001b[0msample\u001b[0m \u001b[0mbelongs\u001b[0m \u001b[0mto\u001b[0m\u001b[1;33m.\u001b[0m\u001b[1;33m\u001b[0m\u001b[1;33m\u001b[0m\u001b[0m\n\u001b[0;32m    276\u001b[0m         \"\"\"\n\u001b[1;32m--> 277\u001b[1;33m         \u001b[1;32mreturn\u001b[0m \u001b[0mself\u001b[0m\u001b[1;33m.\u001b[0m\u001b[0mfit\u001b[0m\u001b[1;33m(\u001b[0m\u001b[0mX\u001b[0m\u001b[1;33m,\u001b[0m \u001b[1;33m**\u001b[0m\u001b[0mfit_params\u001b[0m\u001b[1;33m)\u001b[0m\u001b[1;33m.\u001b[0m\u001b[0mlabels_\u001b[0m\u001b[1;33m\u001b[0m\u001b[1;33m\u001b[0m\u001b[0m\n\u001b[0m",
      "\u001b[1;32m~\\miniconda3\\envs\\wyatt38\\lib\\site-packages\\somlearn\\som.py\u001b[0m in \u001b[0;36mfit\u001b[1;34m(self, X, y, **fit_params)\u001b[0m\n\u001b[0;32m    240\u001b[0m \u001b[1;33m\u001b[0m\u001b[0m\n\u001b[0;32m    241\u001b[0m         \u001b[1;31m# Fit Somoclu\u001b[0m\u001b[1;33m\u001b[0m\u001b[1;33m\u001b[0m\u001b[1;33m\u001b[0m\u001b[0m\n\u001b[1;32m--> 242\u001b[1;33m         \u001b[0mself\u001b[0m\u001b[1;33m.\u001b[0m\u001b[0malgorithm_\u001b[0m\u001b[1;33m.\u001b[0m\u001b[0mtrain\u001b[0m\u001b[1;33m(\u001b[0m\u001b[0mdata\u001b[0m\u001b[1;33m=\u001b[0m\u001b[0mX\u001b[0m\u001b[1;33m,\u001b[0m \u001b[1;33m**\u001b[0m\u001b[0mfit_params\u001b[0m\u001b[1;33m)\u001b[0m\u001b[1;33m\u001b[0m\u001b[1;33m\u001b[0m\u001b[0m\n\u001b[0m\u001b[0;32m    243\u001b[0m \u001b[1;33m\u001b[0m\u001b[0m\n\u001b[0;32m    244\u001b[0m         \u001b[1;31m# Grid labels\u001b[0m\u001b[1;33m\u001b[0m\u001b[1;33m\u001b[0m\u001b[1;33m\u001b[0m\u001b[0m\n",
      "\u001b[1;32m~\\miniconda3\\envs\\wyatt38\\lib\\site-packages\\somoclu\\train.py\u001b[0m in \u001b[0;36mtrain\u001b[1;34m(self, data, epochs, radius0, radiusN, radiuscooling, scale0, scaleN, scalecooling)\u001b[0m\n\u001b[0;32m    220\u001b[0m         \u001b[0mself\u001b[0m\u001b[1;33m.\u001b[0m\u001b[0mumatrix\u001b[0m\u001b[1;33m.\u001b[0m\u001b[0mshape\u001b[0m \u001b[1;33m=\u001b[0m \u001b[1;33m(\u001b[0m\u001b[0mself\u001b[0m\u001b[1;33m.\u001b[0m\u001b[0m_n_rows\u001b[0m \u001b[1;33m*\u001b[0m \u001b[0mself\u001b[0m\u001b[1;33m.\u001b[0m\u001b[0m_n_columns\u001b[0m\u001b[1;33m,\u001b[0m \u001b[1;33m)\u001b[0m\u001b[1;33m\u001b[0m\u001b[1;33m\u001b[0m\u001b[0m\n\u001b[0;32m    221\u001b[0m         \u001b[0mself\u001b[0m\u001b[1;33m.\u001b[0m\u001b[0mbmus\u001b[0m\u001b[1;33m.\u001b[0m\u001b[0mshape\u001b[0m \u001b[1;33m=\u001b[0m \u001b[1;33m(\u001b[0m\u001b[0mself\u001b[0m\u001b[1;33m.\u001b[0m\u001b[0mn_vectors\u001b[0m \u001b[1;33m*\u001b[0m \u001b[1;36m2\u001b[0m\u001b[1;33m,\u001b[0m \u001b[1;33m)\u001b[0m\u001b[1;33m\u001b[0m\u001b[1;33m\u001b[0m\u001b[0m\n\u001b[1;32m--> 222\u001b[1;33m         wrap_train(np.ravel(self._data), epochs, self._n_columns, self._n_rows,\n\u001b[0m\u001b[0;32m    223\u001b[0m                    \u001b[0mself\u001b[0m\u001b[1;33m.\u001b[0m\u001b[0mn_dim\u001b[0m\u001b[1;33m,\u001b[0m \u001b[0mself\u001b[0m\u001b[1;33m.\u001b[0m\u001b[0mn_vectors\u001b[0m\u001b[1;33m,\u001b[0m \u001b[0mradius0\u001b[0m\u001b[1;33m,\u001b[0m \u001b[0mradiusN\u001b[0m\u001b[1;33m,\u001b[0m\u001b[1;33m\u001b[0m\u001b[1;33m\u001b[0m\u001b[0m\n\u001b[0;32m    224\u001b[0m                    \u001b[0mradiuscooling\u001b[0m\u001b[1;33m,\u001b[0m \u001b[0mscale0\u001b[0m\u001b[1;33m,\u001b[0m \u001b[0mscaleN\u001b[0m\u001b[1;33m,\u001b[0m \u001b[0mscalecooling\u001b[0m\u001b[1;33m,\u001b[0m\u001b[1;33m\u001b[0m\u001b[1;33m\u001b[0m\u001b[0m\n",
      "\u001b[1;31mNameError\u001b[0m: name 'wrap_train' is not defined"
     ]
    }
   ],
   "source": [
    "from somlearn import SOM\n",
    "cluster_som = SOM(random_state=42)\n",
    "y_pred = cluster_som.fit_predict(train[['target', 'cooler', 'solar']].values)"
   ]
  },
  {
   "cell_type": "code",
   "execution_count": 268,
   "id": "815bbcef",
   "metadata": {},
   "outputs": [
    {
     "data": {
      "text/plain": [
       "array([[8.179056e+03, 0.000000e+00, 0.000000e+00],\n",
       "       [8.135640e+03, 0.000000e+00, 0.000000e+00],\n",
       "       [8.107128e+03, 0.000000e+00, 0.000000e+00],\n",
       "       ...,\n",
       "       [3.572208e+03, 1.000000e+00, 1.000000e+00],\n",
       "       [3.299184e+03, 1.000000e+00, 1.000000e+00],\n",
       "       [3.204576e+03, 1.000000e+00, 1.000000e+00]])"
      ]
     },
     "execution_count": 268,
     "metadata": {},
     "output_type": "execute_result"
    }
   ],
   "source": [
    "train[['target', 'cooler', 'solar']].values"
   ]
  },
  {
   "cell_type": "markdown",
   "id": "b408cde4",
   "metadata": {},
   "source": [
    "### ETC"
   ]
  },
  {
   "cell_type": "code",
   "execution_count": 252,
   "id": "8998774e",
   "metadata": {},
   "outputs": [
    {
     "data": {
      "text/html": [
       "<div>\n",
       "<style scoped>\n",
       "    .dataframe tbody tr th:only-of-type {\n",
       "        vertical-align: middle;\n",
       "    }\n",
       "\n",
       "    .dataframe tbody tr th {\n",
       "        vertical-align: top;\n",
       "    }\n",
       "\n",
       "    .dataframe thead th {\n",
       "        text-align: right;\n",
       "    }\n",
       "</style>\n",
       "<table border=\"1\" class=\"dataframe\">\n",
       "  <thead>\n",
       "    <tr style=\"text-align: right;\">\n",
       "      <th></th>\n",
       "      <th>num_date_time</th>\n",
       "      <th>answer</th>\n",
       "    </tr>\n",
       "  </thead>\n",
       "  <tbody>\n",
       "    <tr>\n",
       "      <th>0</th>\n",
       "      <td>1 2020-08-25 00</td>\n",
       "      <td>8690.976</td>\n",
       "    </tr>\n",
       "    <tr>\n",
       "      <th>1</th>\n",
       "      <td>1 2020-08-25 01</td>\n",
       "      <td>8672.184</td>\n",
       "    </tr>\n",
       "    <tr>\n",
       "      <th>2</th>\n",
       "      <td>1 2020-08-25 02</td>\n",
       "      <td>8645.616</td>\n",
       "    </tr>\n",
       "    <tr>\n",
       "      <th>3</th>\n",
       "      <td>1 2020-08-25 03</td>\n",
       "      <td>8583.408</td>\n",
       "    </tr>\n",
       "    <tr>\n",
       "      <th>4</th>\n",
       "      <td>1 2020-08-25 04</td>\n",
       "      <td>8562.672</td>\n",
       "    </tr>\n",
       "    <tr>\n",
       "      <th>...</th>\n",
       "      <td>...</td>\n",
       "      <td>...</td>\n",
       "    </tr>\n",
       "    <tr>\n",
       "      <th>10075</th>\n",
       "      <td>60 2020-08-31 19</td>\n",
       "      <td>4114.368</td>\n",
       "    </tr>\n",
       "    <tr>\n",
       "      <th>10076</th>\n",
       "      <td>60 2020-08-31 20</td>\n",
       "      <td>3975.696</td>\n",
       "    </tr>\n",
       "    <tr>\n",
       "      <th>10077</th>\n",
       "      <td>60 2020-08-31 21</td>\n",
       "      <td>3572.208</td>\n",
       "    </tr>\n",
       "    <tr>\n",
       "      <th>10078</th>\n",
       "      <td>60 2020-08-31 22</td>\n",
       "      <td>3299.184</td>\n",
       "    </tr>\n",
       "    <tr>\n",
       "      <th>10079</th>\n",
       "      <td>60 2020-08-31 23</td>\n",
       "      <td>3204.576</td>\n",
       "    </tr>\n",
       "  </tbody>\n",
       "</table>\n",
       "<p>10080 rows × 2 columns</p>\n",
       "</div>"
      ],
      "text/plain": [
       "          num_date_time    answer\n",
       "0       1 2020-08-25 00  8690.976\n",
       "1       1 2020-08-25 01  8672.184\n",
       "2       1 2020-08-25 02  8645.616\n",
       "3       1 2020-08-25 03  8583.408\n",
       "4       1 2020-08-25 04  8562.672\n",
       "...                 ...       ...\n",
       "10075  60 2020-08-31 19  4114.368\n",
       "10076  60 2020-08-31 20  3975.696\n",
       "10077  60 2020-08-31 21  3572.208\n",
       "10078  60 2020-08-31 22  3299.184\n",
       "10079  60 2020-08-31 23  3204.576\n",
       "\n",
       "[10080 rows x 2 columns]"
      ]
     },
     "execution_count": 252,
     "metadata": {},
     "output_type": "execute_result"
    }
   ],
   "source": [
    "# 일주일 전 데이터를 그대로 집어넣는 테스트 서브미션.\n",
    "answer = []\n",
    "for i in range(1, 61):\n",
    "    answer.append(train.loc[train.num == i][-168:]['target'].to_list())\n",
    "\n",
    "# flatten 해준다.\n",
    "sub['answer'] = sum(answer, [])\n",
    "\n",
    "sub.to_csv('submission/210530_test-submission.csv', index=False)\n",
    "sub"
   ]
  },
  {
   "cell_type": "markdown",
   "id": "bca99136",
   "metadata": {},
   "source": [
    "6.89 수준이 나온다. 준수한 성능이다."
   ]
  },
  {
   "cell_type": "code",
   "execution_count": null,
   "id": "eb956405",
   "metadata": {},
   "outputs": [],
   "source": []
  }
 ],
 "metadata": {
  "kernelspec": {
   "display_name": "wyatt38",
   "language": "python",
   "name": "wyatt38"
  },
  "language_info": {
   "codemirror_mode": {
    "name": "ipython",
    "version": 3
   },
   "file_extension": ".py",
   "mimetype": "text/x-python",
   "name": "python",
   "nbconvert_exporter": "python",
   "pygments_lexer": "ipython3",
   "version": "3.8.0"
  }
 },
 "nbformat": 4,
 "nbformat_minor": 5
}

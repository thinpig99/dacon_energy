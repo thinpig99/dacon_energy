{
 "cells": [
  {
   "cell_type": "markdown",
   "id": "8e1d211e",
   "metadata": {},
   "source": [
    "전력사용량 예측 경진대회"
   ]
  },
  {
   "cell_type": "markdown",
   "id": "69b31b16",
   "metadata": {},
   "source": [
    "# Business Understand"
   ]
  },
  {
   "cell_type": "markdown",
   "id": "329063cc",
   "metadata": {},
   "source": [
    "**평가 기준**\n",
    "\n",
    "|항목|심사기준|점수|\n",
    "|---|---|---|\n",
    "|데이터|타당한 데이터 분석 기법 및 기준을 통해 분석했는가?|10|\n",
    "|시각화|의도를 직관적으로 전달하는 시각화인가? |10|\n",
    "|코드 품질|코드의 오류 없이 간결한 코드를 작성하였는가? |5|\n",
    "|분석 방법|문제 해결을 위한 논리적인 구조가 명확한가? |10|\n",
    "|성능|코드를 통해 전력산출량을 정확히 예측할 수 있는가? |30|\n",
    "|관점|다른 사람이 생각하지 못한 새로운 관점을 제시하였는가? |10|\n",
    "|인사이트|전력 융합신서비스 발굴 및 비즈니스 모델 개발 활용에 도움이 될 인사이트를 발굴하였는가? |25|\n",
    "\n",
    "**논리성의 성능은 참가자가 게재한 코드의 구현 성능을 기준으로 함**"
   ]
  },
  {
   "cell_type": "markdown",
   "id": "c02c4e43",
   "metadata": {},
   "source": [
    "**평가 산식: SMAPE**\n",
    "- Symmetric Mean Absolute Percentage Error\n",
    "- MAPE의 경우  Actual 값이 0이거나 작은 경우 MAPE값이 지나치게 커지는 문제 발생\n",
    "- SMAPE는 이를 개선"
   ]
  },
  {
   "cell_type": "code",
   "execution_count": 48,
   "id": "8c8f2eb4",
   "metadata": {},
   "outputs": [
    {
     "data": {
      "text/html": [
       "<img src=\"https://wikimedia.org/api/rest_v1/media/math/render/svg/d1bfa1853da325fa525c67f48939e9131aad5700\" width=\"300\"/>"
      ],
      "text/plain": [
       "<IPython.core.display.Image object>"
      ]
     },
     "execution_count": 48,
     "metadata": {},
     "output_type": "execute_result"
    }
   ],
   "source": [
    "from IPython.display import Image\n",
    "Image(url='https://wikimedia.org/api/rest_v1/media/math/render/svg/d1bfa1853da325fa525c67f48939e9131aad5700',\n",
    "      width=300,\n",
    "     )"
   ]
  },
  {
   "cell_type": "code",
   "execution_count": 50,
   "id": "7ededa72",
   "metadata": {},
   "outputs": [
    {
     "data": {
      "text/html": [
       "<img src=\"https://wikimedia.org/api/rest_v1/media/math/render/svg/9d7003eba8a7ffe2379cd5c232adf78daa3d1edf\" width=\"300\"/>"
      ],
      "text/plain": [
       "<IPython.core.display.Image object>"
      ]
     },
     "execution_count": 50,
     "metadata": {},
     "output_type": "execute_result"
    }
   ],
   "source": [
    "Image(url='https://wikimedia.org/api/rest_v1/media/math/render/svg/9d7003eba8a7ffe2379cd5c232adf78daa3d1edf',\n",
    "      width=300,\n",
    "     )"
   ]
  },
  {
   "cell_type": "code",
   "execution_count": 35,
   "id": "a7311c4e",
   "metadata": {},
   "outputs": [
    {
     "name": "stdout",
     "output_type": "stream",
     "text": [
      "평균 오차가 20일 때 실제값과 예측값의 대소 관계에 따른 MAE, MAPE 비교 \n",
      "\n",
      "실제값이 예측값 보다 작을 때 (예측값이 과대추정)\n",
      "MAE: 20.0\n",
      "MAPE: 0.9133333333333333\n",
      "SMAPE: 0.29\n",
      "\n",
      "실제값이 예측값 보다 클 때 (예측값이 과소추정)\n",
      "MAE: 20.0\n",
      "MAPE: 0.4371428571428571\n",
      "SMAPE: 0.29\n"
     ]
    }
   ],
   "source": [
    "def MAE(true, pred): # Mean Absolute Error\n",
    "    '''\n",
    "    true: np.array \n",
    "    pred: np.array\n",
    "    '''\n",
    "    return np.mean(np.abs(true-pred))\n",
    "\n",
    "def MAPE(true, pred): # Mean Absolute Percentage Error\n",
    "    '''\n",
    "    true: np.array \n",
    "    pred: np.array\n",
    "    '''\n",
    "    return np.mean(np.abs((true-pred)/true))\n",
    "\n",
    "def SMAPE(true, pred): # Symmetric Mean Absolute Percentage Error\n",
    "    '''\n",
    "    true: np.array \n",
    "    pred: np.array\n",
    "    '''\n",
    "    return np.mean((np.abs(true-pred))/(np.abs(true) + np.abs(pred))) #100은 상수이므로 이번 코드에서는 제외\n",
    "\n",
    "TRUE_UNDER = np.array([10, 20, 30, 40, 50])\n",
    "PRED_OVER = np.array([30, 40, 50, 60, 70])\n",
    "TRUE_OVER = np.array([30, 40, 50, 60, 70])\n",
    "PRED_UNDER = np.array([10, 20, 30, 40, 50])\n",
    "\n",
    "\n",
    "print('평균 오차가 20일 때 실제값과 예측값의 대소 관계에 따른 MAE, MAPE 비교 \\n')\n",
    "\n",
    "print('실제값이 예측값 보다 작을 때 (예측값이 과대추정)')\n",
    "print('MAE:', MAE(TRUE_UNDER, PRED_OVER))\n",
    "print('MAPE:', MAPE(TRUE_UNDER, PRED_OVER))\n",
    "print('SMAPE:', SMAPE(TRUE_UNDER, PRED_OVER))\n",
    "\n",
    "\n",
    "print('\\n실제값이 예측값 보다 클 때 (예측값이 과소추정)')\n",
    "print('MAE:', MAE(TRUE_OVER, PRED_UNDER))\n",
    "print('MAPE:', MAPE(TRUE_OVER, PRED_UNDER))\n",
    "print('SMAPE:', SMAPE(TRUE_OVER, PRED_UNDER))"
   ]
  },
  {
   "cell_type": "markdown",
   "id": "1bb9506b",
   "metadata": {},
   "source": [
    "하지만 **SMAPE는 분모에 예측값 y^i이 들어가서 y^i에 의존적인 특성**을 지니고 있습니다. 예측값이 과소추정할 때 분모가 더 작아지므로 계산되는 오차가 커지는 현상이 발생합니다. 아래 코드를 통해 확인해보겠습니다."
   ]
  },
  {
   "cell_type": "code",
   "execution_count": 38,
   "id": "fb5cba5d",
   "metadata": {},
   "outputs": [
    {
     "name": "stdout",
     "output_type": "stream",
     "text": [
      "평균 오차가 20일 때 과소추정, 과대추정에 따른 MAE, SMAPE 비교 \n",
      "\n",
      "과대추정 시\n",
      "MAE: 20.0\n",
      "MAPE: 0.3538095238095238\n",
      "SMAPE: 0.14912698412698414\n",
      "\n",
      "과소추정 시\n",
      "MAE: 20.0\n",
      "MAPE: 0.3538095238095238\n",
      "SMAPE: 0.21857142857142856\n"
     ]
    }
   ],
   "source": [
    "TRUE2 = np.array([40, 50, 60, 70, 80])\n",
    "PRED2_UNDER = np.array([20, 30, 40, 50, 60])\n",
    "PRED2_OVER = np.array([60, 70, 80, 90, 100])\n",
    "\n",
    "print('평균 오차가 20일 때 과소추정, 과대추정에 따른 MAE, SMAPE 비교 \\n')\n",
    "\n",
    "print('과대추정 시')\n",
    "print('MAE:', MAE(TRUE2, PRED2_OVER))\n",
    "print('MAPE:', MAPE(TRUE2, PRED2_OVER))\n",
    "print('SMAPE:', SMAPE(TRUE2, PRED2_OVER))\n",
    "\n",
    "print('\\n과소추정 시')\n",
    "print('MAE:', MAE(TRUE2, PRED2_UNDER))\n",
    "print('MAPE:', MAPE(TRUE2, PRED2_UNDER))\n",
    "print('SMAPE:', SMAPE(TRUE2, PRED2_UNDER))"
   ]
  },
  {
   "cell_type": "markdown",
   "id": "d575d1e1",
   "metadata": {},
   "source": [
    "**외부 데이터 및 사전 학습 모델**\n",
    "- 평가 데이터 셋 이전 기간 **(2020년 8월 25일 전)** 의 외부 데이터 사용 가능\n",
    "- 공공 데이터 및 법적 제약이 없는 외부 데이터 허용\n",
    "- 사전학습 모델의 경우 사전학습에 사용된 데이터를 명시"
   ]
  },
  {
   "cell_type": "markdown",
   "id": "ce650d34",
   "metadata": {},
   "source": [
    "# Data Understanding"
   ]
  },
  {
   "cell_type": "markdown",
   "id": "f710cda3",
   "metadata": {},
   "source": [
    "**train.csv:**\n",
    "- 60개 건물들의 2020년 6월 1일부터 2020년 8월 24일까지의 데이터\n",
    "- 1시간 단위로 제공\n",
    "- 전력사용량(kWh) 포함\n",
    "- shape: (122400, 10)"
   ]
  },
  {
   "cell_type": "markdown",
   "id": "cdc3f7ef",
   "metadata": {},
   "source": [
    "**test.csv:**\n",
    "- 60개 건물들의 2020년 8월 25일부터 2020년 8월 31일까지의 데이터\n",
    "- 3시간 단위로 제공(강수량의 경우 6시간 단위로 제공, 예보데이터)\n",
    "- 전력사용량(kWh) 미포함\n",
    "- shape: (10080, 9)"
   ]
  },
  {
   "cell_type": "code",
   "execution_count": 1,
   "id": "096f3620",
   "metadata": {},
   "outputs": [],
   "source": [
    "import pandas as pd\n",
    "import numpy as np\n",
    "import matplotlib.pyplot as plt\n",
    "import seaborn as sns"
   ]
  },
  {
   "cell_type": "code",
   "execution_count": 3,
   "id": "b6b1bd34",
   "metadata": {},
   "outputs": [],
   "source": [
    "PATH = r'C:\\Users\\Wyatt\\wyatt37\\data\\energy'"
   ]
  },
  {
   "cell_type": "code",
   "execution_count": 52,
   "id": "b21915c4",
   "metadata": {},
   "outputs": [],
   "source": [
    "train_col = ['num', 'date_time', 'target', 'temp', 'wind', 'humid', 'rain', 'sunny', 'cooler', 'solar']\n",
    "test_col = ['num', 'date_time', 'temp', 'wind', 'humid', 'rain', 'sunny', 'cooler', 'solar']"
   ]
  },
  {
   "cell_type": "code",
   "execution_count": 141,
   "id": "263a47f1",
   "metadata": {},
   "outputs": [
    {
     "data": {
      "text/html": [
       "<div>\n",
       "<style scoped>\n",
       "    .dataframe tbody tr th:only-of-type {\n",
       "        vertical-align: middle;\n",
       "    }\n",
       "\n",
       "    .dataframe tbody tr th {\n",
       "        vertical-align: top;\n",
       "    }\n",
       "\n",
       "    .dataframe thead th {\n",
       "        text-align: right;\n",
       "    }\n",
       "</style>\n",
       "<table border=\"1\" class=\"dataframe\">\n",
       "  <thead>\n",
       "    <tr style=\"text-align: right;\">\n",
       "      <th></th>\n",
       "      <th>num</th>\n",
       "      <th>date_time</th>\n",
       "      <th>target</th>\n",
       "      <th>temp</th>\n",
       "      <th>wind</th>\n",
       "      <th>humid</th>\n",
       "      <th>rain</th>\n",
       "      <th>sunny</th>\n",
       "      <th>cooler</th>\n",
       "      <th>solar</th>\n",
       "    </tr>\n",
       "  </thead>\n",
       "  <tbody>\n",
       "    <tr>\n",
       "      <th>0</th>\n",
       "      <td>1</td>\n",
       "      <td>2020-06-01 00</td>\n",
       "      <td>8179.056</td>\n",
       "      <td>17.6</td>\n",
       "      <td>2.5</td>\n",
       "      <td>92.0</td>\n",
       "      <td>0.8</td>\n",
       "      <td>0.0</td>\n",
       "      <td>0.0</td>\n",
       "      <td>0.0</td>\n",
       "    </tr>\n",
       "    <tr>\n",
       "      <th>1</th>\n",
       "      <td>1</td>\n",
       "      <td>2020-06-01 01</td>\n",
       "      <td>8135.640</td>\n",
       "      <td>17.7</td>\n",
       "      <td>2.9</td>\n",
       "      <td>91.0</td>\n",
       "      <td>0.3</td>\n",
       "      <td>0.0</td>\n",
       "      <td>0.0</td>\n",
       "      <td>0.0</td>\n",
       "    </tr>\n",
       "    <tr>\n",
       "      <th>2</th>\n",
       "      <td>1</td>\n",
       "      <td>2020-06-01 02</td>\n",
       "      <td>8107.128</td>\n",
       "      <td>17.5</td>\n",
       "      <td>3.2</td>\n",
       "      <td>91.0</td>\n",
       "      <td>0.0</td>\n",
       "      <td>0.0</td>\n",
       "      <td>0.0</td>\n",
       "      <td>0.0</td>\n",
       "    </tr>\n",
       "    <tr>\n",
       "      <th>3</th>\n",
       "      <td>1</td>\n",
       "      <td>2020-06-01 03</td>\n",
       "      <td>8048.808</td>\n",
       "      <td>17.1</td>\n",
       "      <td>3.2</td>\n",
       "      <td>91.0</td>\n",
       "      <td>0.0</td>\n",
       "      <td>0.0</td>\n",
       "      <td>0.0</td>\n",
       "      <td>0.0</td>\n",
       "    </tr>\n",
       "    <tr>\n",
       "      <th>4</th>\n",
       "      <td>1</td>\n",
       "      <td>2020-06-01 04</td>\n",
       "      <td>8043.624</td>\n",
       "      <td>17.0</td>\n",
       "      <td>3.3</td>\n",
       "      <td>92.0</td>\n",
       "      <td>0.0</td>\n",
       "      <td>0.0</td>\n",
       "      <td>0.0</td>\n",
       "      <td>0.0</td>\n",
       "    </tr>\n",
       "    <tr>\n",
       "      <th>...</th>\n",
       "      <td>...</td>\n",
       "      <td>...</td>\n",
       "      <td>...</td>\n",
       "      <td>...</td>\n",
       "      <td>...</td>\n",
       "      <td>...</td>\n",
       "      <td>...</td>\n",
       "      <td>...</td>\n",
       "      <td>...</td>\n",
       "      <td>...</td>\n",
       "    </tr>\n",
       "    <tr>\n",
       "      <th>122395</th>\n",
       "      <td>60</td>\n",
       "      <td>2020-08-24 19</td>\n",
       "      <td>4114.368</td>\n",
       "      <td>27.8</td>\n",
       "      <td>2.3</td>\n",
       "      <td>68.0</td>\n",
       "      <td>0.0</td>\n",
       "      <td>0.7</td>\n",
       "      <td>1.0</td>\n",
       "      <td>1.0</td>\n",
       "    </tr>\n",
       "    <tr>\n",
       "      <th>122396</th>\n",
       "      <td>60</td>\n",
       "      <td>2020-08-24 20</td>\n",
       "      <td>3975.696</td>\n",
       "      <td>27.3</td>\n",
       "      <td>1.2</td>\n",
       "      <td>71.0</td>\n",
       "      <td>0.0</td>\n",
       "      <td>0.0</td>\n",
       "      <td>1.0</td>\n",
       "      <td>1.0</td>\n",
       "    </tr>\n",
       "    <tr>\n",
       "      <th>122397</th>\n",
       "      <td>60</td>\n",
       "      <td>2020-08-24 21</td>\n",
       "      <td>3572.208</td>\n",
       "      <td>27.3</td>\n",
       "      <td>1.8</td>\n",
       "      <td>71.0</td>\n",
       "      <td>0.0</td>\n",
       "      <td>0.0</td>\n",
       "      <td>1.0</td>\n",
       "      <td>1.0</td>\n",
       "    </tr>\n",
       "    <tr>\n",
       "      <th>122398</th>\n",
       "      <td>60</td>\n",
       "      <td>2020-08-24 22</td>\n",
       "      <td>3299.184</td>\n",
       "      <td>27.1</td>\n",
       "      <td>1.8</td>\n",
       "      <td>74.0</td>\n",
       "      <td>0.0</td>\n",
       "      <td>0.0</td>\n",
       "      <td>1.0</td>\n",
       "      <td>1.0</td>\n",
       "    </tr>\n",
       "    <tr>\n",
       "      <th>122399</th>\n",
       "      <td>60</td>\n",
       "      <td>2020-08-24 23</td>\n",
       "      <td>3204.576</td>\n",
       "      <td>27.1</td>\n",
       "      <td>2.6</td>\n",
       "      <td>75.0</td>\n",
       "      <td>0.0</td>\n",
       "      <td>0.0</td>\n",
       "      <td>1.0</td>\n",
       "      <td>1.0</td>\n",
       "    </tr>\n",
       "  </tbody>\n",
       "</table>\n",
       "<p>122400 rows × 10 columns</p>\n",
       "</div>"
      ],
      "text/plain": [
       "        num      date_time    target  temp  wind  humid  rain  sunny  cooler  \\\n",
       "0         1  2020-06-01 00  8179.056  17.6   2.5   92.0   0.8    0.0     0.0   \n",
       "1         1  2020-06-01 01  8135.640  17.7   2.9   91.0   0.3    0.0     0.0   \n",
       "2         1  2020-06-01 02  8107.128  17.5   3.2   91.0   0.0    0.0     0.0   \n",
       "3         1  2020-06-01 03  8048.808  17.1   3.2   91.0   0.0    0.0     0.0   \n",
       "4         1  2020-06-01 04  8043.624  17.0   3.3   92.0   0.0    0.0     0.0   \n",
       "...     ...            ...       ...   ...   ...    ...   ...    ...     ...   \n",
       "122395   60  2020-08-24 19  4114.368  27.8   2.3   68.0   0.0    0.7     1.0   \n",
       "122396   60  2020-08-24 20  3975.696  27.3   1.2   71.0   0.0    0.0     1.0   \n",
       "122397   60  2020-08-24 21  3572.208  27.3   1.8   71.0   0.0    0.0     1.0   \n",
       "122398   60  2020-08-24 22  3299.184  27.1   1.8   74.0   0.0    0.0     1.0   \n",
       "122399   60  2020-08-24 23  3204.576  27.1   2.6   75.0   0.0    0.0     1.0   \n",
       "\n",
       "        solar  \n",
       "0         0.0  \n",
       "1         0.0  \n",
       "2         0.0  \n",
       "3         0.0  \n",
       "4         0.0  \n",
       "...       ...  \n",
       "122395    1.0  \n",
       "122396    1.0  \n",
       "122397    1.0  \n",
       "122398    1.0  \n",
       "122399    1.0  \n",
       "\n",
       "[122400 rows x 10 columns]"
      ]
     },
     "execution_count": 141,
     "metadata": {},
     "output_type": "execute_result"
    }
   ],
   "source": [
    "train = pd.read_csv(PATH + '\\\\train.csv', encoding='cp949', names=train_col, header=0)\n",
    "train"
   ]
  },
  {
   "cell_type": "code",
   "execution_count": 64,
   "id": "4979100b",
   "metadata": {},
   "outputs": [
    {
     "data": {
      "text/html": [
       "<div>\n",
       "<style scoped>\n",
       "    .dataframe tbody tr th:only-of-type {\n",
       "        vertical-align: middle;\n",
       "    }\n",
       "\n",
       "    .dataframe tbody tr th {\n",
       "        vertical-align: top;\n",
       "    }\n",
       "\n",
       "    .dataframe thead th {\n",
       "        text-align: right;\n",
       "    }\n",
       "</style>\n",
       "<table border=\"1\" class=\"dataframe\">\n",
       "  <thead>\n",
       "    <tr style=\"text-align: right;\">\n",
       "      <th></th>\n",
       "      <th>num</th>\n",
       "      <th>date_time</th>\n",
       "      <th>temp</th>\n",
       "      <th>wind</th>\n",
       "      <th>humid</th>\n",
       "      <th>rain</th>\n",
       "      <th>sunny</th>\n",
       "      <th>cooler</th>\n",
       "      <th>solar</th>\n",
       "    </tr>\n",
       "  </thead>\n",
       "  <tbody>\n",
       "    <tr>\n",
       "      <th>0</th>\n",
       "      <td>1</td>\n",
       "      <td>2020-08-25 00</td>\n",
       "      <td>27.8</td>\n",
       "      <td>1.5</td>\n",
       "      <td>74.0</td>\n",
       "      <td>0.0</td>\n",
       "      <td>0.0</td>\n",
       "      <td>NaN</td>\n",
       "      <td>NaN</td>\n",
       "    </tr>\n",
       "    <tr>\n",
       "      <th>1</th>\n",
       "      <td>1</td>\n",
       "      <td>2020-08-25 01</td>\n",
       "      <td>NaN</td>\n",
       "      <td>NaN</td>\n",
       "      <td>NaN</td>\n",
       "      <td>NaN</td>\n",
       "      <td>NaN</td>\n",
       "      <td>NaN</td>\n",
       "      <td>NaN</td>\n",
       "    </tr>\n",
       "    <tr>\n",
       "      <th>2</th>\n",
       "      <td>1</td>\n",
       "      <td>2020-08-25 02</td>\n",
       "      <td>NaN</td>\n",
       "      <td>NaN</td>\n",
       "      <td>NaN</td>\n",
       "      <td>NaN</td>\n",
       "      <td>NaN</td>\n",
       "      <td>NaN</td>\n",
       "      <td>NaN</td>\n",
       "    </tr>\n",
       "    <tr>\n",
       "      <th>3</th>\n",
       "      <td>1</td>\n",
       "      <td>2020-08-25 03</td>\n",
       "      <td>27.3</td>\n",
       "      <td>1.1</td>\n",
       "      <td>78.0</td>\n",
       "      <td>NaN</td>\n",
       "      <td>0.0</td>\n",
       "      <td>NaN</td>\n",
       "      <td>NaN</td>\n",
       "    </tr>\n",
       "    <tr>\n",
       "      <th>4</th>\n",
       "      <td>1</td>\n",
       "      <td>2020-08-25 04</td>\n",
       "      <td>NaN</td>\n",
       "      <td>NaN</td>\n",
       "      <td>NaN</td>\n",
       "      <td>NaN</td>\n",
       "      <td>NaN</td>\n",
       "      <td>NaN</td>\n",
       "      <td>NaN</td>\n",
       "    </tr>\n",
       "    <tr>\n",
       "      <th>...</th>\n",
       "      <td>...</td>\n",
       "      <td>...</td>\n",
       "      <td>...</td>\n",
       "      <td>...</td>\n",
       "      <td>...</td>\n",
       "      <td>...</td>\n",
       "      <td>...</td>\n",
       "      <td>...</td>\n",
       "      <td>...</td>\n",
       "    </tr>\n",
       "    <tr>\n",
       "      <th>10075</th>\n",
       "      <td>60</td>\n",
       "      <td>2020-08-31 19</td>\n",
       "      <td>NaN</td>\n",
       "      <td>NaN</td>\n",
       "      <td>NaN</td>\n",
       "      <td>NaN</td>\n",
       "      <td>NaN</td>\n",
       "      <td>NaN</td>\n",
       "      <td>NaN</td>\n",
       "    </tr>\n",
       "    <tr>\n",
       "      <th>10076</th>\n",
       "      <td>60</td>\n",
       "      <td>2020-08-31 20</td>\n",
       "      <td>NaN</td>\n",
       "      <td>NaN</td>\n",
       "      <td>NaN</td>\n",
       "      <td>NaN</td>\n",
       "      <td>NaN</td>\n",
       "      <td>NaN</td>\n",
       "      <td>NaN</td>\n",
       "    </tr>\n",
       "    <tr>\n",
       "      <th>10077</th>\n",
       "      <td>60</td>\n",
       "      <td>2020-08-31 21</td>\n",
       "      <td>27.9</td>\n",
       "      <td>4.1</td>\n",
       "      <td>68.0</td>\n",
       "      <td>NaN</td>\n",
       "      <td>0.0</td>\n",
       "      <td>1.0</td>\n",
       "      <td>1.0</td>\n",
       "    </tr>\n",
       "    <tr>\n",
       "      <th>10078</th>\n",
       "      <td>60</td>\n",
       "      <td>2020-08-31 22</td>\n",
       "      <td>NaN</td>\n",
       "      <td>NaN</td>\n",
       "      <td>NaN</td>\n",
       "      <td>NaN</td>\n",
       "      <td>NaN</td>\n",
       "      <td>NaN</td>\n",
       "      <td>NaN</td>\n",
       "    </tr>\n",
       "    <tr>\n",
       "      <th>10079</th>\n",
       "      <td>60</td>\n",
       "      <td>2020-08-31 23</td>\n",
       "      <td>NaN</td>\n",
       "      <td>NaN</td>\n",
       "      <td>NaN</td>\n",
       "      <td>NaN</td>\n",
       "      <td>NaN</td>\n",
       "      <td>NaN</td>\n",
       "      <td>NaN</td>\n",
       "    </tr>\n",
       "  </tbody>\n",
       "</table>\n",
       "<p>10080 rows × 9 columns</p>\n",
       "</div>"
      ],
      "text/plain": [
       "       num      date_time  temp  wind  humid  rain  sunny  cooler  solar\n",
       "0        1  2020-08-25 00  27.8   1.5   74.0   0.0    0.0     NaN    NaN\n",
       "1        1  2020-08-25 01   NaN   NaN    NaN   NaN    NaN     NaN    NaN\n",
       "2        1  2020-08-25 02   NaN   NaN    NaN   NaN    NaN     NaN    NaN\n",
       "3        1  2020-08-25 03  27.3   1.1   78.0   NaN    0.0     NaN    NaN\n",
       "4        1  2020-08-25 04   NaN   NaN    NaN   NaN    NaN     NaN    NaN\n",
       "...    ...            ...   ...   ...    ...   ...    ...     ...    ...\n",
       "10075   60  2020-08-31 19   NaN   NaN    NaN   NaN    NaN     NaN    NaN\n",
       "10076   60  2020-08-31 20   NaN   NaN    NaN   NaN    NaN     NaN    NaN\n",
       "10077   60  2020-08-31 21  27.9   4.1   68.0   NaN    0.0     1.0    1.0\n",
       "10078   60  2020-08-31 22   NaN   NaN    NaN   NaN    NaN     NaN    NaN\n",
       "10079   60  2020-08-31 23   NaN   NaN    NaN   NaN    NaN     NaN    NaN\n",
       "\n",
       "[10080 rows x 9 columns]"
      ]
     },
     "execution_count": 64,
     "metadata": {},
     "output_type": "execute_result"
    }
   ],
   "source": [
    "test = pd.read_csv(PATH + '\\\\test.csv', encoding='cp949', names=test_col, header=0)\n",
    "test"
   ]
  },
  {
   "cell_type": "code",
   "execution_count": 65,
   "id": "4a4ad2b3",
   "metadata": {},
   "outputs": [
    {
     "data": {
      "text/html": [
       "<div>\n",
       "<style scoped>\n",
       "    .dataframe tbody tr th:only-of-type {\n",
       "        vertical-align: middle;\n",
       "    }\n",
       "\n",
       "    .dataframe tbody tr th {\n",
       "        vertical-align: top;\n",
       "    }\n",
       "\n",
       "    .dataframe thead th {\n",
       "        text-align: right;\n",
       "    }\n",
       "</style>\n",
       "<table border=\"1\" class=\"dataframe\">\n",
       "  <thead>\n",
       "    <tr style=\"text-align: right;\">\n",
       "      <th></th>\n",
       "      <th>num_date_time</th>\n",
       "      <th>answer</th>\n",
       "    </tr>\n",
       "  </thead>\n",
       "  <tbody>\n",
       "    <tr>\n",
       "      <th>0</th>\n",
       "      <td>1 2020-08-25 00</td>\n",
       "      <td>0</td>\n",
       "    </tr>\n",
       "    <tr>\n",
       "      <th>1</th>\n",
       "      <td>1 2020-08-25 01</td>\n",
       "      <td>0</td>\n",
       "    </tr>\n",
       "    <tr>\n",
       "      <th>2</th>\n",
       "      <td>1 2020-08-25 02</td>\n",
       "      <td>0</td>\n",
       "    </tr>\n",
       "    <tr>\n",
       "      <th>3</th>\n",
       "      <td>1 2020-08-25 03</td>\n",
       "      <td>0</td>\n",
       "    </tr>\n",
       "    <tr>\n",
       "      <th>4</th>\n",
       "      <td>1 2020-08-25 04</td>\n",
       "      <td>0</td>\n",
       "    </tr>\n",
       "    <tr>\n",
       "      <th>...</th>\n",
       "      <td>...</td>\n",
       "      <td>...</td>\n",
       "    </tr>\n",
       "    <tr>\n",
       "      <th>10075</th>\n",
       "      <td>60 2020-08-31 19</td>\n",
       "      <td>0</td>\n",
       "    </tr>\n",
       "    <tr>\n",
       "      <th>10076</th>\n",
       "      <td>60 2020-08-31 20</td>\n",
       "      <td>0</td>\n",
       "    </tr>\n",
       "    <tr>\n",
       "      <th>10077</th>\n",
       "      <td>60 2020-08-31 21</td>\n",
       "      <td>0</td>\n",
       "    </tr>\n",
       "    <tr>\n",
       "      <th>10078</th>\n",
       "      <td>60 2020-08-31 22</td>\n",
       "      <td>0</td>\n",
       "    </tr>\n",
       "    <tr>\n",
       "      <th>10079</th>\n",
       "      <td>60 2020-08-31 23</td>\n",
       "      <td>0</td>\n",
       "    </tr>\n",
       "  </tbody>\n",
       "</table>\n",
       "<p>10080 rows × 2 columns</p>\n",
       "</div>"
      ],
      "text/plain": [
       "          num_date_time  answer\n",
       "0       1 2020-08-25 00       0\n",
       "1       1 2020-08-25 01       0\n",
       "2       1 2020-08-25 02       0\n",
       "3       1 2020-08-25 03       0\n",
       "4       1 2020-08-25 04       0\n",
       "...                 ...     ...\n",
       "10075  60 2020-08-31 19       0\n",
       "10076  60 2020-08-31 20       0\n",
       "10077  60 2020-08-31 21       0\n",
       "10078  60 2020-08-31 22       0\n",
       "10079  60 2020-08-31 23       0\n",
       "\n",
       "[10080 rows x 2 columns]"
      ]
     },
     "execution_count": 65,
     "metadata": {},
     "output_type": "execute_result"
    }
   ],
   "source": [
    "sub = pd.read_csv(PATH + '\\\\sample_submission.csv', encoding='cp949')\n",
    "sub"
   ]
  },
  {
   "cell_type": "code",
   "execution_count": 66,
   "id": "e6610b8a",
   "metadata": {},
   "outputs": [
    {
     "name": "stdout",
     "output_type": "stream",
     "text": [
      "<class 'pandas.core.frame.DataFrame'>\n",
      "RangeIndex: 122400 entries, 0 to 122399\n",
      "Data columns (total 10 columns):\n",
      " #   Column     Non-Null Count   Dtype  \n",
      "---  ------     --------------   -----  \n",
      " 0   num        122400 non-null  int64  \n",
      " 1   date_time  122400 non-null  object \n",
      " 2   target     122400 non-null  float64\n",
      " 3   temp       122400 non-null  float64\n",
      " 4   wind       122400 non-null  float64\n",
      " 5   humid      122400 non-null  float64\n",
      " 6   rain       122400 non-null  float64\n",
      " 7   sunny      122400 non-null  float64\n",
      " 8   cooler     122400 non-null  float64\n",
      " 9   solar      122400 non-null  float64\n",
      "dtypes: float64(8), int64(1), object(1)\n",
      "memory usage: 9.3+ MB\n"
     ]
    }
   ],
   "source": [
    "train.info()"
   ]
  },
  {
   "cell_type": "code",
   "execution_count": 67,
   "id": "a8d5a6af",
   "metadata": {},
   "outputs": [
    {
     "name": "stdout",
     "output_type": "stream",
     "text": [
      "<class 'pandas.core.frame.DataFrame'>\n",
      "RangeIndex: 10080 entries, 0 to 10079\n",
      "Data columns (total 9 columns):\n",
      " #   Column     Non-Null Count  Dtype  \n",
      "---  ------     --------------  -----  \n",
      " 0   num        10080 non-null  int64  \n",
      " 1   date_time  10080 non-null  object \n",
      " 2   temp       3360 non-null   float64\n",
      " 3   wind       3360 non-null   float64\n",
      " 4   humid      3360 non-null   float64\n",
      " 5   rain       1680 non-null   float64\n",
      " 6   sunny      3360 non-null   float64\n",
      " 7   cooler     2296 non-null   float64\n",
      " 8   solar      1624 non-null   float64\n",
      "dtypes: float64(7), int64(1), object(1)\n",
      "memory usage: 708.9+ KB\n"
     ]
    }
   ],
   "source": [
    "test.info()"
   ]
  },
  {
   "cell_type": "code",
   "execution_count": 68,
   "id": "3679b694",
   "metadata": {},
   "outputs": [
    {
     "data": {
      "text/html": [
       "<div>\n",
       "<style scoped>\n",
       "    .dataframe tbody tr th:only-of-type {\n",
       "        vertical-align: middle;\n",
       "    }\n",
       "\n",
       "    .dataframe tbody tr th {\n",
       "        vertical-align: top;\n",
       "    }\n",
       "\n",
       "    .dataframe thead th {\n",
       "        text-align: right;\n",
       "    }\n",
       "</style>\n",
       "<table border=\"1\" class=\"dataframe\">\n",
       "  <thead>\n",
       "    <tr style=\"text-align: right;\">\n",
       "      <th></th>\n",
       "      <th>num</th>\n",
       "      <th>date_time</th>\n",
       "      <th>temp</th>\n",
       "      <th>wind</th>\n",
       "      <th>humid</th>\n",
       "      <th>rain</th>\n",
       "      <th>sunny</th>\n",
       "      <th>cooler</th>\n",
       "      <th>solar</th>\n",
       "    </tr>\n",
       "  </thead>\n",
       "  <tbody>\n",
       "    <tr>\n",
       "      <th>0</th>\n",
       "      <td>1</td>\n",
       "      <td>2020-08-25 00</td>\n",
       "      <td>27.8</td>\n",
       "      <td>1.5</td>\n",
       "      <td>74.0</td>\n",
       "      <td>0.0</td>\n",
       "      <td>0.0</td>\n",
       "      <td>NaN</td>\n",
       "      <td>NaN</td>\n",
       "    </tr>\n",
       "    <tr>\n",
       "      <th>1</th>\n",
       "      <td>1</td>\n",
       "      <td>2020-08-25 01</td>\n",
       "      <td>NaN</td>\n",
       "      <td>NaN</td>\n",
       "      <td>NaN</td>\n",
       "      <td>NaN</td>\n",
       "      <td>NaN</td>\n",
       "      <td>NaN</td>\n",
       "      <td>NaN</td>\n",
       "    </tr>\n",
       "    <tr>\n",
       "      <th>2</th>\n",
       "      <td>1</td>\n",
       "      <td>2020-08-25 02</td>\n",
       "      <td>NaN</td>\n",
       "      <td>NaN</td>\n",
       "      <td>NaN</td>\n",
       "      <td>NaN</td>\n",
       "      <td>NaN</td>\n",
       "      <td>NaN</td>\n",
       "      <td>NaN</td>\n",
       "    </tr>\n",
       "    <tr>\n",
       "      <th>3</th>\n",
       "      <td>1</td>\n",
       "      <td>2020-08-25 03</td>\n",
       "      <td>27.3</td>\n",
       "      <td>1.1</td>\n",
       "      <td>78.0</td>\n",
       "      <td>NaN</td>\n",
       "      <td>0.0</td>\n",
       "      <td>NaN</td>\n",
       "      <td>NaN</td>\n",
       "    </tr>\n",
       "    <tr>\n",
       "      <th>4</th>\n",
       "      <td>1</td>\n",
       "      <td>2020-08-25 04</td>\n",
       "      <td>NaN</td>\n",
       "      <td>NaN</td>\n",
       "      <td>NaN</td>\n",
       "      <td>NaN</td>\n",
       "      <td>NaN</td>\n",
       "      <td>NaN</td>\n",
       "      <td>NaN</td>\n",
       "    </tr>\n",
       "    <tr>\n",
       "      <th>5</th>\n",
       "      <td>1</td>\n",
       "      <td>2020-08-25 05</td>\n",
       "      <td>NaN</td>\n",
       "      <td>NaN</td>\n",
       "      <td>NaN</td>\n",
       "      <td>NaN</td>\n",
       "      <td>NaN</td>\n",
       "      <td>NaN</td>\n",
       "      <td>NaN</td>\n",
       "    </tr>\n",
       "    <tr>\n",
       "      <th>6</th>\n",
       "      <td>1</td>\n",
       "      <td>2020-08-25 06</td>\n",
       "      <td>26.1</td>\n",
       "      <td>1.3</td>\n",
       "      <td>83.0</td>\n",
       "      <td>0.0</td>\n",
       "      <td>0.0</td>\n",
       "      <td>NaN</td>\n",
       "      <td>NaN</td>\n",
       "    </tr>\n",
       "    <tr>\n",
       "      <th>7</th>\n",
       "      <td>1</td>\n",
       "      <td>2020-08-25 07</td>\n",
       "      <td>NaN</td>\n",
       "      <td>NaN</td>\n",
       "      <td>NaN</td>\n",
       "      <td>NaN</td>\n",
       "      <td>NaN</td>\n",
       "      <td>NaN</td>\n",
       "      <td>NaN</td>\n",
       "    </tr>\n",
       "    <tr>\n",
       "      <th>8</th>\n",
       "      <td>1</td>\n",
       "      <td>2020-08-25 08</td>\n",
       "      <td>NaN</td>\n",
       "      <td>NaN</td>\n",
       "      <td>NaN</td>\n",
       "      <td>NaN</td>\n",
       "      <td>NaN</td>\n",
       "      <td>NaN</td>\n",
       "      <td>NaN</td>\n",
       "    </tr>\n",
       "    <tr>\n",
       "      <th>9</th>\n",
       "      <td>1</td>\n",
       "      <td>2020-08-25 09</td>\n",
       "      <td>28.8</td>\n",
       "      <td>1.2</td>\n",
       "      <td>77.0</td>\n",
       "      <td>NaN</td>\n",
       "      <td>1.1</td>\n",
       "      <td>NaN</td>\n",
       "      <td>NaN</td>\n",
       "    </tr>\n",
       "  </tbody>\n",
       "</table>\n",
       "</div>"
      ],
      "text/plain": [
       "   num      date_time  temp  wind  humid  rain  sunny  cooler  solar\n",
       "0    1  2020-08-25 00  27.8   1.5   74.0   0.0    0.0     NaN    NaN\n",
       "1    1  2020-08-25 01   NaN   NaN    NaN   NaN    NaN     NaN    NaN\n",
       "2    1  2020-08-25 02   NaN   NaN    NaN   NaN    NaN     NaN    NaN\n",
       "3    1  2020-08-25 03  27.3   1.1   78.0   NaN    0.0     NaN    NaN\n",
       "4    1  2020-08-25 04   NaN   NaN    NaN   NaN    NaN     NaN    NaN\n",
       "5    1  2020-08-25 05   NaN   NaN    NaN   NaN    NaN     NaN    NaN\n",
       "6    1  2020-08-25 06  26.1   1.3   83.0   0.0    0.0     NaN    NaN\n",
       "7    1  2020-08-25 07   NaN   NaN    NaN   NaN    NaN     NaN    NaN\n",
       "8    1  2020-08-25 08   NaN   NaN    NaN   NaN    NaN     NaN    NaN\n",
       "9    1  2020-08-25 09  28.8   1.2   77.0   NaN    1.1     NaN    NaN"
      ]
     },
     "execution_count": 68,
     "metadata": {},
     "output_type": "execute_result"
    }
   ],
   "source": [
    "test.head(10)"
   ]
  },
  {
   "cell_type": "code",
   "execution_count": 69,
   "id": "a628c051",
   "metadata": {},
   "outputs": [
    {
     "data": {
      "text/html": [
       "<div>\n",
       "<style scoped>\n",
       "    .dataframe tbody tr th:only-of-type {\n",
       "        vertical-align: middle;\n",
       "    }\n",
       "\n",
       "    .dataframe tbody tr th {\n",
       "        vertical-align: top;\n",
       "    }\n",
       "\n",
       "    .dataframe thead th {\n",
       "        text-align: right;\n",
       "    }\n",
       "</style>\n",
       "<table border=\"1\" class=\"dataframe\">\n",
       "  <thead>\n",
       "    <tr style=\"text-align: right;\">\n",
       "      <th></th>\n",
       "      <th>num_date_time</th>\n",
       "      <th>answer</th>\n",
       "    </tr>\n",
       "  </thead>\n",
       "  <tbody>\n",
       "    <tr>\n",
       "      <th>0</th>\n",
       "      <td>1 2020-08-25 00</td>\n",
       "      <td>0</td>\n",
       "    </tr>\n",
       "    <tr>\n",
       "      <th>1</th>\n",
       "      <td>1 2020-08-25 01</td>\n",
       "      <td>0</td>\n",
       "    </tr>\n",
       "    <tr>\n",
       "      <th>2</th>\n",
       "      <td>1 2020-08-25 02</td>\n",
       "      <td>0</td>\n",
       "    </tr>\n",
       "    <tr>\n",
       "      <th>3</th>\n",
       "      <td>1 2020-08-25 03</td>\n",
       "      <td>0</td>\n",
       "    </tr>\n",
       "    <tr>\n",
       "      <th>4</th>\n",
       "      <td>1 2020-08-25 04</td>\n",
       "      <td>0</td>\n",
       "    </tr>\n",
       "    <tr>\n",
       "      <th>...</th>\n",
       "      <td>...</td>\n",
       "      <td>...</td>\n",
       "    </tr>\n",
       "    <tr>\n",
       "      <th>10075</th>\n",
       "      <td>60 2020-08-31 19</td>\n",
       "      <td>0</td>\n",
       "    </tr>\n",
       "    <tr>\n",
       "      <th>10076</th>\n",
       "      <td>60 2020-08-31 20</td>\n",
       "      <td>0</td>\n",
       "    </tr>\n",
       "    <tr>\n",
       "      <th>10077</th>\n",
       "      <td>60 2020-08-31 21</td>\n",
       "      <td>0</td>\n",
       "    </tr>\n",
       "    <tr>\n",
       "      <th>10078</th>\n",
       "      <td>60 2020-08-31 22</td>\n",
       "      <td>0</td>\n",
       "    </tr>\n",
       "    <tr>\n",
       "      <th>10079</th>\n",
       "      <td>60 2020-08-31 23</td>\n",
       "      <td>0</td>\n",
       "    </tr>\n",
       "  </tbody>\n",
       "</table>\n",
       "<p>10080 rows × 2 columns</p>\n",
       "</div>"
      ],
      "text/plain": [
       "          num_date_time  answer\n",
       "0       1 2020-08-25 00       0\n",
       "1       1 2020-08-25 01       0\n",
       "2       1 2020-08-25 02       0\n",
       "3       1 2020-08-25 03       0\n",
       "4       1 2020-08-25 04       0\n",
       "...                 ...     ...\n",
       "10075  60 2020-08-31 19       0\n",
       "10076  60 2020-08-31 20       0\n",
       "10077  60 2020-08-31 21       0\n",
       "10078  60 2020-08-31 22       0\n",
       "10079  60 2020-08-31 23       0\n",
       "\n",
       "[10080 rows x 2 columns]"
      ]
     },
     "execution_count": 69,
     "metadata": {},
     "output_type": "execute_result"
    }
   ],
   "source": [
    "sub"
   ]
  },
  {
   "cell_type": "code",
   "execution_count": 70,
   "id": "54f58e26",
   "metadata": {},
   "outputs": [
    {
     "data": {
      "text/html": [
       "<div>\n",
       "<style scoped>\n",
       "    .dataframe tbody tr th:only-of-type {\n",
       "        vertical-align: middle;\n",
       "    }\n",
       "\n",
       "    .dataframe tbody tr th {\n",
       "        vertical-align: top;\n",
       "    }\n",
       "\n",
       "    .dataframe thead th {\n",
       "        text-align: right;\n",
       "    }\n",
       "</style>\n",
       "<table border=\"1\" class=\"dataframe\">\n",
       "  <thead>\n",
       "    <tr style=\"text-align: right;\">\n",
       "      <th></th>\n",
       "      <th>num</th>\n",
       "      <th>date_time</th>\n",
       "      <th>target</th>\n",
       "      <th>temp</th>\n",
       "      <th>wind</th>\n",
       "      <th>humid</th>\n",
       "      <th>rain</th>\n",
       "      <th>sunny</th>\n",
       "      <th>cooler</th>\n",
       "      <th>solar</th>\n",
       "    </tr>\n",
       "  </thead>\n",
       "  <tbody>\n",
       "    <tr>\n",
       "      <th>0</th>\n",
       "      <td>1</td>\n",
       "      <td>2020-06-01 00</td>\n",
       "      <td>8179.056</td>\n",
       "      <td>17.6</td>\n",
       "      <td>2.5</td>\n",
       "      <td>92.0</td>\n",
       "      <td>0.8</td>\n",
       "      <td>0.0</td>\n",
       "      <td>0.0</td>\n",
       "      <td>0.0</td>\n",
       "    </tr>\n",
       "    <tr>\n",
       "      <th>1</th>\n",
       "      <td>1</td>\n",
       "      <td>2020-06-01 01</td>\n",
       "      <td>8135.640</td>\n",
       "      <td>17.7</td>\n",
       "      <td>2.9</td>\n",
       "      <td>91.0</td>\n",
       "      <td>0.3</td>\n",
       "      <td>0.0</td>\n",
       "      <td>0.0</td>\n",
       "      <td>0.0</td>\n",
       "    </tr>\n",
       "    <tr>\n",
       "      <th>2</th>\n",
       "      <td>1</td>\n",
       "      <td>2020-06-01 02</td>\n",
       "      <td>8107.128</td>\n",
       "      <td>17.5</td>\n",
       "      <td>3.2</td>\n",
       "      <td>91.0</td>\n",
       "      <td>0.0</td>\n",
       "      <td>0.0</td>\n",
       "      <td>0.0</td>\n",
       "      <td>0.0</td>\n",
       "    </tr>\n",
       "    <tr>\n",
       "      <th>3</th>\n",
       "      <td>1</td>\n",
       "      <td>2020-06-01 03</td>\n",
       "      <td>8048.808</td>\n",
       "      <td>17.1</td>\n",
       "      <td>3.2</td>\n",
       "      <td>91.0</td>\n",
       "      <td>0.0</td>\n",
       "      <td>0.0</td>\n",
       "      <td>0.0</td>\n",
       "      <td>0.0</td>\n",
       "    </tr>\n",
       "    <tr>\n",
       "      <th>4</th>\n",
       "      <td>1</td>\n",
       "      <td>2020-06-01 04</td>\n",
       "      <td>8043.624</td>\n",
       "      <td>17.0</td>\n",
       "      <td>3.3</td>\n",
       "      <td>92.0</td>\n",
       "      <td>0.0</td>\n",
       "      <td>0.0</td>\n",
       "      <td>0.0</td>\n",
       "      <td>0.0</td>\n",
       "    </tr>\n",
       "    <tr>\n",
       "      <th>...</th>\n",
       "      <td>...</td>\n",
       "      <td>...</td>\n",
       "      <td>...</td>\n",
       "      <td>...</td>\n",
       "      <td>...</td>\n",
       "      <td>...</td>\n",
       "      <td>...</td>\n",
       "      <td>...</td>\n",
       "      <td>...</td>\n",
       "      <td>...</td>\n",
       "    </tr>\n",
       "    <tr>\n",
       "      <th>122395</th>\n",
       "      <td>60</td>\n",
       "      <td>2020-08-24 19</td>\n",
       "      <td>4114.368</td>\n",
       "      <td>27.8</td>\n",
       "      <td>2.3</td>\n",
       "      <td>68.0</td>\n",
       "      <td>0.0</td>\n",
       "      <td>0.7</td>\n",
       "      <td>1.0</td>\n",
       "      <td>1.0</td>\n",
       "    </tr>\n",
       "    <tr>\n",
       "      <th>122396</th>\n",
       "      <td>60</td>\n",
       "      <td>2020-08-24 20</td>\n",
       "      <td>3975.696</td>\n",
       "      <td>27.3</td>\n",
       "      <td>1.2</td>\n",
       "      <td>71.0</td>\n",
       "      <td>0.0</td>\n",
       "      <td>0.0</td>\n",
       "      <td>1.0</td>\n",
       "      <td>1.0</td>\n",
       "    </tr>\n",
       "    <tr>\n",
       "      <th>122397</th>\n",
       "      <td>60</td>\n",
       "      <td>2020-08-24 21</td>\n",
       "      <td>3572.208</td>\n",
       "      <td>27.3</td>\n",
       "      <td>1.8</td>\n",
       "      <td>71.0</td>\n",
       "      <td>0.0</td>\n",
       "      <td>0.0</td>\n",
       "      <td>1.0</td>\n",
       "      <td>1.0</td>\n",
       "    </tr>\n",
       "    <tr>\n",
       "      <th>122398</th>\n",
       "      <td>60</td>\n",
       "      <td>2020-08-24 22</td>\n",
       "      <td>3299.184</td>\n",
       "      <td>27.1</td>\n",
       "      <td>1.8</td>\n",
       "      <td>74.0</td>\n",
       "      <td>0.0</td>\n",
       "      <td>0.0</td>\n",
       "      <td>1.0</td>\n",
       "      <td>1.0</td>\n",
       "    </tr>\n",
       "    <tr>\n",
       "      <th>122399</th>\n",
       "      <td>60</td>\n",
       "      <td>2020-08-24 23</td>\n",
       "      <td>3204.576</td>\n",
       "      <td>27.1</td>\n",
       "      <td>2.6</td>\n",
       "      <td>75.0</td>\n",
       "      <td>0.0</td>\n",
       "      <td>0.0</td>\n",
       "      <td>1.0</td>\n",
       "      <td>1.0</td>\n",
       "    </tr>\n",
       "  </tbody>\n",
       "</table>\n",
       "<p>122400 rows × 10 columns</p>\n",
       "</div>"
      ],
      "text/plain": [
       "        num      date_time    target  temp  wind  humid  rain  sunny  cooler  \\\n",
       "0         1  2020-06-01 00  8179.056  17.6   2.5   92.0   0.8    0.0     0.0   \n",
       "1         1  2020-06-01 01  8135.640  17.7   2.9   91.0   0.3    0.0     0.0   \n",
       "2         1  2020-06-01 02  8107.128  17.5   3.2   91.0   0.0    0.0     0.0   \n",
       "3         1  2020-06-01 03  8048.808  17.1   3.2   91.0   0.0    0.0     0.0   \n",
       "4         1  2020-06-01 04  8043.624  17.0   3.3   92.0   0.0    0.0     0.0   \n",
       "...     ...            ...       ...   ...   ...    ...   ...    ...     ...   \n",
       "122395   60  2020-08-24 19  4114.368  27.8   2.3   68.0   0.0    0.7     1.0   \n",
       "122396   60  2020-08-24 20  3975.696  27.3   1.2   71.0   0.0    0.0     1.0   \n",
       "122397   60  2020-08-24 21  3572.208  27.3   1.8   71.0   0.0    0.0     1.0   \n",
       "122398   60  2020-08-24 22  3299.184  27.1   1.8   74.0   0.0    0.0     1.0   \n",
       "122399   60  2020-08-24 23  3204.576  27.1   2.6   75.0   0.0    0.0     1.0   \n",
       "\n",
       "        solar  \n",
       "0         0.0  \n",
       "1         0.0  \n",
       "2         0.0  \n",
       "3         0.0  \n",
       "4         0.0  \n",
       "...       ...  \n",
       "122395    1.0  \n",
       "122396    1.0  \n",
       "122397    1.0  \n",
       "122398    1.0  \n",
       "122399    1.0  \n",
       "\n",
       "[122400 rows x 10 columns]"
      ]
     },
     "execution_count": 70,
     "metadata": {},
     "output_type": "execute_result"
    }
   ],
   "source": [
    "train"
   ]
  },
  {
   "cell_type": "code",
   "execution_count": 142,
   "id": "24e38213",
   "metadata": {},
   "outputs": [],
   "source": [
    "train['datetime'] = pd.to_datetime(train.date_time)\n",
    "\n",
    "train['month'] = train.datetime.dt.month                    # 월(숫자)\n",
    "train['day'] = train.datetime.dt.day                        # 일(숫자)\n",
    "train['hour'] = train.datetime.dt.hour                      # 시(숫자)\n",
    "train['weekday'] = train.datetime.dt.weekday                # 시(숫자)\n",
    "train['dayofyear'] = train.datetime.dt.dayofyear            # 연 기준 몇일째(숫자)\n",
    "train['weekofyear'] = train.datetime.dt.isocalendar().week  # 연 기준 몇주째(숫자) (=week)"
   ]
  },
  {
   "cell_type": "code",
   "execution_count": 143,
   "id": "735eaa4b",
   "metadata": {},
   "outputs": [],
   "source": [
    "train.drop(['date_time', 'datetime'], axis=1, inplace=True)"
   ]
  },
  {
   "cell_type": "code",
   "execution_count": 144,
   "id": "23368cc3",
   "metadata": {},
   "outputs": [
    {
     "data": {
      "text/html": [
       "<div>\n",
       "<style scoped>\n",
       "    .dataframe tbody tr th:only-of-type {\n",
       "        vertical-align: middle;\n",
       "    }\n",
       "\n",
       "    .dataframe tbody tr th {\n",
       "        vertical-align: top;\n",
       "    }\n",
       "\n",
       "    .dataframe thead th {\n",
       "        text-align: right;\n",
       "    }\n",
       "</style>\n",
       "<table border=\"1\" class=\"dataframe\">\n",
       "  <thead>\n",
       "    <tr style=\"text-align: right;\">\n",
       "      <th></th>\n",
       "      <th>num</th>\n",
       "      <th>target</th>\n",
       "      <th>temp</th>\n",
       "      <th>wind</th>\n",
       "      <th>humid</th>\n",
       "      <th>rain</th>\n",
       "      <th>sunny</th>\n",
       "      <th>cooler</th>\n",
       "      <th>solar</th>\n",
       "      <th>month</th>\n",
       "      <th>day</th>\n",
       "      <th>hour</th>\n",
       "      <th>weekday</th>\n",
       "      <th>dayofyear</th>\n",
       "      <th>weekofyear</th>\n",
       "    </tr>\n",
       "  </thead>\n",
       "  <tbody>\n",
       "    <tr>\n",
       "      <th>0</th>\n",
       "      <td>1</td>\n",
       "      <td>8179.056</td>\n",
       "      <td>17.6</td>\n",
       "      <td>2.5</td>\n",
       "      <td>92.0</td>\n",
       "      <td>0.8</td>\n",
       "      <td>0.0</td>\n",
       "      <td>0.0</td>\n",
       "      <td>0.0</td>\n",
       "      <td>6</td>\n",
       "      <td>1</td>\n",
       "      <td>0</td>\n",
       "      <td>0</td>\n",
       "      <td>153</td>\n",
       "      <td>23</td>\n",
       "    </tr>\n",
       "    <tr>\n",
       "      <th>1</th>\n",
       "      <td>1</td>\n",
       "      <td>8135.640</td>\n",
       "      <td>17.7</td>\n",
       "      <td>2.9</td>\n",
       "      <td>91.0</td>\n",
       "      <td>0.3</td>\n",
       "      <td>0.0</td>\n",
       "      <td>0.0</td>\n",
       "      <td>0.0</td>\n",
       "      <td>6</td>\n",
       "      <td>1</td>\n",
       "      <td>1</td>\n",
       "      <td>0</td>\n",
       "      <td>153</td>\n",
       "      <td>23</td>\n",
       "    </tr>\n",
       "    <tr>\n",
       "      <th>2</th>\n",
       "      <td>1</td>\n",
       "      <td>8107.128</td>\n",
       "      <td>17.5</td>\n",
       "      <td>3.2</td>\n",
       "      <td>91.0</td>\n",
       "      <td>0.0</td>\n",
       "      <td>0.0</td>\n",
       "      <td>0.0</td>\n",
       "      <td>0.0</td>\n",
       "      <td>6</td>\n",
       "      <td>1</td>\n",
       "      <td>2</td>\n",
       "      <td>0</td>\n",
       "      <td>153</td>\n",
       "      <td>23</td>\n",
       "    </tr>\n",
       "    <tr>\n",
       "      <th>3</th>\n",
       "      <td>1</td>\n",
       "      <td>8048.808</td>\n",
       "      <td>17.1</td>\n",
       "      <td>3.2</td>\n",
       "      <td>91.0</td>\n",
       "      <td>0.0</td>\n",
       "      <td>0.0</td>\n",
       "      <td>0.0</td>\n",
       "      <td>0.0</td>\n",
       "      <td>6</td>\n",
       "      <td>1</td>\n",
       "      <td>3</td>\n",
       "      <td>0</td>\n",
       "      <td>153</td>\n",
       "      <td>23</td>\n",
       "    </tr>\n",
       "    <tr>\n",
       "      <th>4</th>\n",
       "      <td>1</td>\n",
       "      <td>8043.624</td>\n",
       "      <td>17.0</td>\n",
       "      <td>3.3</td>\n",
       "      <td>92.0</td>\n",
       "      <td>0.0</td>\n",
       "      <td>0.0</td>\n",
       "      <td>0.0</td>\n",
       "      <td>0.0</td>\n",
       "      <td>6</td>\n",
       "      <td>1</td>\n",
       "      <td>4</td>\n",
       "      <td>0</td>\n",
       "      <td>153</td>\n",
       "      <td>23</td>\n",
       "    </tr>\n",
       "    <tr>\n",
       "      <th>...</th>\n",
       "      <td>...</td>\n",
       "      <td>...</td>\n",
       "      <td>...</td>\n",
       "      <td>...</td>\n",
       "      <td>...</td>\n",
       "      <td>...</td>\n",
       "      <td>...</td>\n",
       "      <td>...</td>\n",
       "      <td>...</td>\n",
       "      <td>...</td>\n",
       "      <td>...</td>\n",
       "      <td>...</td>\n",
       "      <td>...</td>\n",
       "      <td>...</td>\n",
       "      <td>...</td>\n",
       "    </tr>\n",
       "    <tr>\n",
       "      <th>122395</th>\n",
       "      <td>60</td>\n",
       "      <td>4114.368</td>\n",
       "      <td>27.8</td>\n",
       "      <td>2.3</td>\n",
       "      <td>68.0</td>\n",
       "      <td>0.0</td>\n",
       "      <td>0.7</td>\n",
       "      <td>1.0</td>\n",
       "      <td>1.0</td>\n",
       "      <td>8</td>\n",
       "      <td>24</td>\n",
       "      <td>19</td>\n",
       "      <td>0</td>\n",
       "      <td>237</td>\n",
       "      <td>35</td>\n",
       "    </tr>\n",
       "    <tr>\n",
       "      <th>122396</th>\n",
       "      <td>60</td>\n",
       "      <td>3975.696</td>\n",
       "      <td>27.3</td>\n",
       "      <td>1.2</td>\n",
       "      <td>71.0</td>\n",
       "      <td>0.0</td>\n",
       "      <td>0.0</td>\n",
       "      <td>1.0</td>\n",
       "      <td>1.0</td>\n",
       "      <td>8</td>\n",
       "      <td>24</td>\n",
       "      <td>20</td>\n",
       "      <td>0</td>\n",
       "      <td>237</td>\n",
       "      <td>35</td>\n",
       "    </tr>\n",
       "    <tr>\n",
       "      <th>122397</th>\n",
       "      <td>60</td>\n",
       "      <td>3572.208</td>\n",
       "      <td>27.3</td>\n",
       "      <td>1.8</td>\n",
       "      <td>71.0</td>\n",
       "      <td>0.0</td>\n",
       "      <td>0.0</td>\n",
       "      <td>1.0</td>\n",
       "      <td>1.0</td>\n",
       "      <td>8</td>\n",
       "      <td>24</td>\n",
       "      <td>21</td>\n",
       "      <td>0</td>\n",
       "      <td>237</td>\n",
       "      <td>35</td>\n",
       "    </tr>\n",
       "    <tr>\n",
       "      <th>122398</th>\n",
       "      <td>60</td>\n",
       "      <td>3299.184</td>\n",
       "      <td>27.1</td>\n",
       "      <td>1.8</td>\n",
       "      <td>74.0</td>\n",
       "      <td>0.0</td>\n",
       "      <td>0.0</td>\n",
       "      <td>1.0</td>\n",
       "      <td>1.0</td>\n",
       "      <td>8</td>\n",
       "      <td>24</td>\n",
       "      <td>22</td>\n",
       "      <td>0</td>\n",
       "      <td>237</td>\n",
       "      <td>35</td>\n",
       "    </tr>\n",
       "    <tr>\n",
       "      <th>122399</th>\n",
       "      <td>60</td>\n",
       "      <td>3204.576</td>\n",
       "      <td>27.1</td>\n",
       "      <td>2.6</td>\n",
       "      <td>75.0</td>\n",
       "      <td>0.0</td>\n",
       "      <td>0.0</td>\n",
       "      <td>1.0</td>\n",
       "      <td>1.0</td>\n",
       "      <td>8</td>\n",
       "      <td>24</td>\n",
       "      <td>23</td>\n",
       "      <td>0</td>\n",
       "      <td>237</td>\n",
       "      <td>35</td>\n",
       "    </tr>\n",
       "  </tbody>\n",
       "</table>\n",
       "<p>122400 rows × 15 columns</p>\n",
       "</div>"
      ],
      "text/plain": [
       "        num    target  temp  wind  humid  rain  sunny  cooler  solar  month  \\\n",
       "0         1  8179.056  17.6   2.5   92.0   0.8    0.0     0.0    0.0      6   \n",
       "1         1  8135.640  17.7   2.9   91.0   0.3    0.0     0.0    0.0      6   \n",
       "2         1  8107.128  17.5   3.2   91.0   0.0    0.0     0.0    0.0      6   \n",
       "3         1  8048.808  17.1   3.2   91.0   0.0    0.0     0.0    0.0      6   \n",
       "4         1  8043.624  17.0   3.3   92.0   0.0    0.0     0.0    0.0      6   \n",
       "...     ...       ...   ...   ...    ...   ...    ...     ...    ...    ...   \n",
       "122395   60  4114.368  27.8   2.3   68.0   0.0    0.7     1.0    1.0      8   \n",
       "122396   60  3975.696  27.3   1.2   71.0   0.0    0.0     1.0    1.0      8   \n",
       "122397   60  3572.208  27.3   1.8   71.0   0.0    0.0     1.0    1.0      8   \n",
       "122398   60  3299.184  27.1   1.8   74.0   0.0    0.0     1.0    1.0      8   \n",
       "122399   60  3204.576  27.1   2.6   75.0   0.0    0.0     1.0    1.0      8   \n",
       "\n",
       "        day  hour  weekday  dayofyear  weekofyear  \n",
       "0         1     0        0        153          23  \n",
       "1         1     1        0        153          23  \n",
       "2         1     2        0        153          23  \n",
       "3         1     3        0        153          23  \n",
       "4         1     4        0        153          23  \n",
       "...     ...   ...      ...        ...         ...  \n",
       "122395   24    19        0        237          35  \n",
       "122396   24    20        0        237          35  \n",
       "122397   24    21        0        237          35  \n",
       "122398   24    22        0        237          35  \n",
       "122399   24    23        0        237          35  \n",
       "\n",
       "[122400 rows x 15 columns]"
      ]
     },
     "execution_count": 144,
     "metadata": {},
     "output_type": "execute_result"
    }
   ],
   "source": [
    "train"
   ]
  },
  {
   "cell_type": "markdown",
   "id": "dd7b9a62",
   "metadata": {},
   "source": [
    "## EDA"
   ]
  },
  {
   "cell_type": "code",
   "execution_count": 145,
   "id": "6e569d3a",
   "metadata": {},
   "outputs": [
    {
     "data": {
      "text/plain": [
       "<AxesSubplot:xlabel='day', ylabel='target'>"
      ]
     },
     "execution_count": 145,
     "metadata": {},
     "output_type": "execute_result"
    },
    {
     "data": {
      "image/png": "[encoded data removed]",
      "text/plain": [
       "<Figure size 864x288 with 1 Axes>"
      ]
     },
     "metadata": {
      "needs_background": "light"
     },
     "output_type": "display_data"
    }
   ],
   "source": [
    "plt.figure(figsize=(12, 4))\n",
    "sns.barplot(data=train, x='day', y='target')"
   ]
  },
  {
   "cell_type": "code",
   "execution_count": 148,
   "id": "6475bf77",
   "metadata": {},
   "outputs": [
    {
     "data": {
      "text/plain": [
       "<AxesSubplot:xlabel='dayofyear', ylabel='target'>"
      ]
     },
     "execution_count": 148,
     "metadata": {},
     "output_type": "execute_result"
    },
    {
     "data": {
      "image/png": "[encoded data removed]",
      "text/plain": [
       "<Figure size 2160x288 with 1 Axes>"
      ]
     },
     "metadata": {
      "needs_background": "light"
     },
     "output_type": "display_data"
    }
   ],
   "source": [
    "plt.figure(figsize=(30, 4))\n",
    "sns.barplot(data=train, x='dayofyear', y='target')"
   ]
  },
  {
   "cell_type": "code",
   "execution_count": 136,
   "id": "f916c6a6",
   "metadata": {},
   "outputs": [
    {
     "data": {
      "text/plain": [
       "<AxesSubplot:xlabel='hour', ylabel='target'>"
      ]
     },
     "execution_count": 136,
     "metadata": {},
     "output_type": "execute_result"
    },
    {
     "data": {
      "image/png": "[encoded data removed]",
      "text/plain": [
       "<Figure size 864x288 with 1 Axes>"
      ]
     },
     "metadata": {
      "needs_background": "light"
     },
     "output_type": "display_data"
    }
   ],
   "source": [
    "plt.figure(figsize=(12, 4))\n",
    "sns.barplot(data=train, x='hour', y='target')"
   ]
  },
  {
   "cell_type": "code",
   "execution_count": 149,
   "id": "d23951a6",
   "metadata": {},
   "outputs": [
    {
     "data": {
      "text/plain": [
       "<AxesSubplot:xlabel='num', ylabel='target'>"
      ]
     },
     "execution_count": 149,
     "metadata": {},
     "output_type": "execute_result"
    },
    {
     "data": {
      "image/png": "[encoded data removed]",
      "text/plain": [
       "<Figure size 1152x288 with 1 Axes>"
      ]
     },
     "metadata": {
      "needs_background": "light"
     },
     "output_type": "display_data"
    }
   ],
   "source": [
    "plt.figure(figsize=(16, 4))\n",
    "sns.barplot(data=train, x='num', y='target')"
   ]
  },
  {
   "cell_type": "code",
   "execution_count": 138,
   "id": "e814ac21",
   "metadata": {},
   "outputs": [
    {
     "data": {
      "text/plain": [
       "<AxesSubplot:xlabel='weekday', ylabel='target'>"
      ]
     },
     "execution_count": 138,
     "metadata": {},
     "output_type": "execute_result"
    },
    {
     "data": {
      "image/png": "[encoded data removed]",
      "text/plain": [
       "<Figure size 864x288 with 1 Axes>"
      ]
     },
     "metadata": {
      "needs_background": "light"
     },
     "output_type": "display_data"
    }
   ],
   "source": [
    "plt.figure(figsize=(12, 4))\n",
    "sns.barplot(data=train, x='weekday', y='target')"
   ]
  },
  {
   "cell_type": "code",
   "execution_count": 139,
   "id": "aef85d17",
   "metadata": {},
   "outputs": [
    {
     "data": {
      "text/plain": [
       "<AxesSubplot:xlabel='month', ylabel='target'>"
      ]
     },
     "execution_count": 139,
     "metadata": {},
     "output_type": "execute_result"
    },
    {
     "data": {
      "image/png": "[encoded data removed]",
      "text/plain": [
       "<Figure size 864x288 with 1 Axes>"
      ]
     },
     "metadata": {
      "needs_background": "light"
     },
     "output_type": "display_data"
    }
   ],
   "source": [
    "plt.figure(figsize=(12, 4))\n",
    "sns.barplot(data=train, x='month', y='target')"
   ]
  },
  {
   "cell_type": "code",
   "execution_count": 140,
   "id": "9e7a1321",
   "metadata": {},
   "outputs": [
    {
     "data": {
      "text/plain": [
       "<AxesSubplot:xlabel='weekofyear', ylabel='target'>"
      ]
     },
     "execution_count": 140,
     "metadata": {},
     "output_type": "execute_result"
    },
    {
     "data": {
      "image/png": "[encoded data removed]",
      "text/plain": [
       "<Figure size 864x288 with 1 Axes>"
      ]
     },
     "metadata": {
      "needs_background": "light"
     },
     "output_type": "display_data"
    }
   ],
   "source": [
    "plt.figure(figsize=(12, 4))\n",
    "sns.barplot(data=train, x='weekofyear', y='target')"
   ]
  },
  {
   "cell_type": "markdown",
   "id": "a2095d64",
   "metadata": {},
   "source": [
    "### dayofyear"
   ]
  },
  {
   "cell_type": "code",
   "execution_count": 157,
   "id": "9443e895",
   "metadata": {},
   "outputs": [
    {
     "data": {
      "text/plain": [
       "<AxesSubplot:xlabel='dayofyear', ylabel='target'>"
      ]
     },
     "execution_count": 157,
     "metadata": {},
     "output_type": "execute_result"
    },
    {
     "data": {
      "image/png": "[encoded data removed]",
      "text/plain": [
       "<Figure size 2160x288 with 1 Axes>"
      ]
     },
     "metadata": {
      "needs_background": "light"
     },
     "output_type": "display_data"
    }
   ],
   "source": [
    "plt.figure(figsize=(30, 4))\n",
    "sns.barplot(data=train, x='dayofyear', y='target')"
   ]
  },
  {
   "cell_type": "code",
   "execution_count": 151,
   "id": "20eaad81",
   "metadata": {},
   "outputs": [
    {
     "data": {
      "text/plain": [
       "<AxesSubplot:xlabel='dayofyear', ylabel='temp'>"
      ]
     },
     "execution_count": 151,
     "metadata": {},
     "output_type": "execute_result"
    },
    {
     "data": {
      "image/png": "[encoded data removed]",
      "text/plain": [
       "<Figure size 2160x288 with 1 Axes>"
      ]
     },
     "metadata": {
      "needs_background": "light"
     },
     "output_type": "display_data"
    }
   ],
   "source": [
    "plt.figure(figsize=(30, 4))\n",
    "sns.barplot(data=train, x='dayofyear', y='temp')"
   ]
  },
  {
   "cell_type": "code",
   "execution_count": 152,
   "id": "91f1bbed",
   "metadata": {},
   "outputs": [
    {
     "data": {
      "text/plain": [
       "<AxesSubplot:xlabel='dayofyear', ylabel='wind'>"
      ]
     },
     "execution_count": 152,
     "metadata": {},
     "output_type": "execute_result"
    },
    {
     "data": {
      "image/png": "[encoded data removed]",
      "text/plain": [
       "<Figure size 2160x288 with 1 Axes>"
      ]
     },
     "metadata": {
      "needs_background": "light"
     },
     "output_type": "display_data"
    }
   ],
   "source": [
    "plt.figure(figsize=(30, 4))\n",
    "sns.barplot(data=train, x='dayofyear', y='wind')"
   ]
  },
  {
   "cell_type": "code",
   "execution_count": 153,
   "id": "0ec89773",
   "metadata": {},
   "outputs": [
    {
     "data": {
      "text/plain": [
       "<AxesSubplot:xlabel='dayofyear', ylabel='humid'>"
      ]
     },
     "execution_count": 153,
     "metadata": {},
     "output_type": "execute_result"
    },
    {
     "data": {
      "image/png": "[encoded data removed]",
      "text/plain": [
       "<Figure size 2160x288 with 1 Axes>"
      ]
     },
     "metadata": {
      "needs_background": "light"
     },
     "output_type": "display_data"
    }
   ],
   "source": [
    "plt.figure(figsize=(30, 4))\n",
    "sns.barplot(data=train, x='dayofyear', y='humid')"
   ]
  },
  {
   "cell_type": "code",
   "execution_count": 158,
   "id": "7ac6e859",
   "metadata": {},
   "outputs": [
    {
     "data": {
      "text/plain": [
       "<AxesSubplot:xlabel='dayofyear', ylabel='sunny'>"
      ]
     },
     "execution_count": 158,
     "metadata": {},
     "output_type": "execute_result"
    },
    {
     "data": {
      "image/png": "[encoded data removed]",
      "text/plain": [
       "<Figure size 2160x288 with 1 Axes>"
      ]
     },
     "metadata": {
      "needs_background": "light"
     },
     "output_type": "display_data"
    }
   ],
   "source": [
    "plt.figure(figsize=(30, 4))\n",
    "sns.barplot(data=train, x='dayofyear', y='sunny')"
   ]
  },
  {
   "cell_type": "code",
   "execution_count": null,
   "id": "f9a3c30d",
   "metadata": {},
   "outputs": [],
   "source": []
  }
 ],
 "metadata": {
  "kernelspec": {
   "display_name": "wyatt38",
   "language": "python",
   "name": "wyatt38"
  },
  "language_info": {
   "codemirror_mode": {
    "name": "ipython",
    "version": 3
   },
   "file_extension": ".py",
   "mimetype": "text/x-python",
   "name": "python",
   "nbconvert_exporter": "python",
   "pygments_lexer": "ipython3",
   "version": "3.8.0"
  }
 },
 "nbformat": 4,
 "nbformat_minor": 5
}

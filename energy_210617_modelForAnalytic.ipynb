{
 "cells": [
  {
   "cell_type": "code",
   "execution_count": 48,
   "id": "6dd2f065",
   "metadata": {},
   "outputs": [],
   "source": [
    "import pandas as pd\n",
    "import numpy as np\n",
    "import matplotlib.pyplot as plt\n",
    "import seaborn as sns\n",
    "\n",
    "from sklearn.cluster import KMeans\n",
    "\n",
    "from tqdm import tqdm\n",
    "from sklearn.ensemble import RandomForestRegressor\n",
    "\n",
    "import warnings\n",
    "warnings.filterwarnings(\"ignore\")"
   ]
  },
  {
   "cell_type": "code",
   "execution_count": 49,
   "id": "34ef3684",
   "metadata": {},
   "outputs": [],
   "source": [
    "PATH = r'C:\\Users\\Wyatt\\wyatt37\\data\\energy'"
   ]
  },
  {
   "cell_type": "code",
   "execution_count": 50,
   "id": "0827ebe5",
   "metadata": {},
   "outputs": [],
   "source": [
    "train_col = ['num', 'date_time', 'target', 'temp', 'wind', 'humid', 'rain', 'sunny', 'cooler', 'solar']\n",
    "test_col = ['num', 'date_time', 'temp', 'wind', 'humid', 'rain', 'sunny', 'cooler', 'solar']"
   ]
  },
  {
   "cell_type": "code",
   "execution_count": 51,
   "id": "d49be576",
   "metadata": {},
   "outputs": [],
   "source": [
    "train = pd.read_csv(PATH + '\\\\train.csv', encoding='cp949', names=train_col, header=0)\n",
    "test = pd.read_csv(PATH + '\\\\test.csv', encoding='cp949', names=test_col, header=0)\n",
    "sub = pd.read_csv(PATH + '\\\\sample_submission.csv', encoding='cp949')"
   ]
  },
  {
   "cell_type": "code",
   "execution_count": 52,
   "id": "8d8a771a",
   "metadata": {},
   "outputs": [],
   "source": [
    "def make_time(train):\n",
    "    train['date_time'] = pd.to_datetime(train.date_time)\n",
    "    \n",
    "    # dt.\n",
    "    train['month'] = train.date_time.dt.month                    # 월(숫자)\n",
    "    train['day'] = train.date_time.dt.day                        # 일(숫자)\n",
    "    train['hour'] = train.date_time.dt.hour                      # 시(숫자)\n",
    "    train['weekday'] = train.date_time.dt.weekday                # 요일(숫자)\n",
    "    train['dayofyear'] = train.date_time.dt.dayofyear            # 연 기준 몇일째(숫자)\n",
    "    \n",
    "    return train"
   ]
  },
  {
   "cell_type": "code",
   "execution_count": 55,
   "id": "7f557b82",
   "metadata": {},
   "outputs": [],
   "source": [
    "train = make_time(train)\n",
    "test = make_time(test)"
   ]
  },
  {
   "cell_type": "code",
   "execution_count": 56,
   "id": "0a776d4c",
   "metadata": {
    "tags": []
   },
   "outputs": [],
   "source": [
    "# 6월 6일은 현충일\n",
    "# 8월 15일은 광복절\n",
    "# 8월 17일은 임시공휴일\n",
    "\n",
    "# 휴일이 많지 않으니, 주말에 포함시키자.\n",
    "\n",
    "train.loc[train.weekday >= 5, 'holiday'] = True\n",
    "train.loc[train.weekday < 5, 'holiday'] = False\n",
    "train.loc[(train.month == 8) & (train.day == 17), 'holiday'] = True\n",
    "\n",
    "test.loc[test.weekday >= 5, 'holiday'] = True\n",
    "test.loc[test.weekday < 5, 'holiday'] = False\n",
    "\n",
    "train.holiday = train.holiday.astype('bool')\n",
    "test.holiday = test.holiday.astype('bool')"
   ]
  },
  {
   "cell_type": "code",
   "execution_count": 57,
   "id": "023c9cfc",
   "metadata": {},
   "outputs": [],
   "source": [
    "# test에 cooler와 solar를 넣어주겠습니다.\n",
    "for i in range(1, 61):\n",
    "    test.loc[test.num == i, 'cooler'] = train.loc[train.num == i, 'cooler'].mean()\n",
    "    test.loc[test.num == i, 'solar'] = train.loc[train.num == i, 'solar'].mean()"
   ]
  },
  {
   "cell_type": "code",
   "execution_count": 58,
   "id": "c358bf1c",
   "metadata": {},
   "outputs": [],
   "source": [
    "# test set의 빈 값을 채워줍니다.\n",
    "test[['temp', 'wind', 'humid', 'rain', 'sunny']] = test[['temp', 'wind', 'humid', 'rain', 'sunny']].interpolate(method='values').round(1)"
   ]
  },
  {
   "cell_type": "code",
   "execution_count": 59,
   "id": "0cb643b1",
   "metadata": {},
   "outputs": [],
   "source": [
    "train_origin = train.copy()"
   ]
  },
  {
   "cell_type": "code",
   "execution_count": 60,
   "id": "b9d931a6",
   "metadata": {
    "tags": []
   },
   "outputs": [],
   "source": [
    "# min_max_scaling\n",
    "for i in range(1, 61):\n",
    "    mean_ = train.loc[train.num == i].target.mean()\n",
    "    std_ = train.loc[train.num == i].target.std()\n",
    "    train.loc[train.num == i, 'target'] = ((train.loc[train.num == i, 'target']) - mean_) / std_"
   ]
  },
  {
   "cell_type": "code",
   "execution_count": 61,
   "id": "3800fec8",
   "metadata": {},
   "outputs": [],
   "source": [
    "# 요일에 따른 평균 값 산출\n",
    "weekday_mean = (\n",
    "    train.groupby(['num', 'weekday'])['target'].mean()\n",
    "    .reset_index()\n",
    "    .pivot('num', 'weekday', 'target')\n",
    "    .reset_index()\n",
    ")"
   ]
  },
  {
   "cell_type": "code",
   "execution_count": 62,
   "id": "a641015a",
   "metadata": {},
   "outputs": [],
   "source": [
    "# 시간에 따른 평균 값 산출\n",
    "hour_mean = (\n",
    "    train.groupby(['num', 'hour'])['target'].mean()\n",
    "    .reset_index()\n",
    "    .pivot('num', 'hour', 'target')\n",
    "    .reset_index()\n",
    "    .drop('num', axis=1)\n",
    ")"
   ]
  },
  {
   "cell_type": "code",
   "execution_count": 63,
   "id": "5100b807",
   "metadata": {},
   "outputs": [],
   "source": [
    "# 요일별, 시간별 평균 전력 사용량 테이블 구축\n",
    "cl_df = pd.concat([weekday_mean, hour_mean], axis=1)"
   ]
  },
  {
   "cell_type": "code",
   "execution_count": 64,
   "id": "1d85345b",
   "metadata": {},
   "outputs": [],
   "source": [
    "# 보기 편하게 컬럼 이름 지정\n",
    "columns = (\n",
    "    ['num']\n",
    "    + ['day_mean_' + str(i) for i in range(7)]\n",
    "    + ['hour_mean_' + str(i) for i in range(24)]\n",
    ")\n",
    "\n",
    "cl_df.columns = columns"
   ]
  },
  {
   "cell_type": "code",
   "execution_count": 65,
   "id": "67b91f96",
   "metadata": {},
   "outputs": [],
   "source": [
    "model = KMeans(n_clusters = 4, random_state = 42)\n",
    "pred = model.fit_predict(cl_df.iloc[:, 1:])"
   ]
  },
  {
   "cell_type": "code",
   "execution_count": 66,
   "id": "df3b7c6c",
   "metadata": {},
   "outputs": [],
   "source": [
    "cl_df['km_cluster'] = pred"
   ]
  },
  {
   "cell_type": "code",
   "execution_count": 67,
   "id": "f9b235d0",
   "metadata": {},
   "outputs": [],
   "source": [
    "train_cl = pd.merge(train, cl_df[['num', 'km_cluster']], how='left', on='num')"
   ]
  },
  {
   "cell_type": "code",
   "execution_count": 68,
   "id": "f4ca4707",
   "metadata": {},
   "outputs": [],
   "source": [
    "test_cl = test.copy()"
   ]
  },
  {
   "cell_type": "code",
   "execution_count": 69,
   "id": "24c84972",
   "metadata": {},
   "outputs": [],
   "source": [
    "for i in range(1, 61):\n",
    "    test_cl.loc[test_cl.num == i, 'km_cluster'] = (\n",
    "        train_cl.loc[train_cl.num == i, 'km_cluster'].max()\n",
    "    )"
   ]
  },
  {
   "cell_type": "code",
   "execution_count": 70,
   "id": "31e3daf0",
   "metadata": {},
   "outputs": [],
   "source": [
    "train = pd.merge(train_origin, cl_df[['num', 'km_cluster']], how='left', on='num')"
   ]
  },
  {
   "cell_type": "code",
   "execution_count": 71,
   "id": "2b829069",
   "metadata": {},
   "outputs": [
    {
     "data": {
      "text/html": [
       "<div>\n",
       "<style scoped>\n",
       "    .dataframe tbody tr th:only-of-type {\n",
       "        vertical-align: middle;\n",
       "    }\n",
       "\n",
       "    .dataframe tbody tr th {\n",
       "        vertical-align: top;\n",
       "    }\n",
       "\n",
       "    .dataframe thead th {\n",
       "        text-align: right;\n",
       "    }\n",
       "</style>\n",
       "<table border=\"1\" class=\"dataframe\">\n",
       "  <thead>\n",
       "    <tr style=\"text-align: right;\">\n",
       "      <th></th>\n",
       "      <th>num</th>\n",
       "      <th>date_time</th>\n",
       "      <th>temp</th>\n",
       "      <th>wind</th>\n",
       "      <th>humid</th>\n",
       "      <th>rain</th>\n",
       "      <th>sunny</th>\n",
       "      <th>cooler</th>\n",
       "      <th>solar</th>\n",
       "      <th>month</th>\n",
       "      <th>day</th>\n",
       "      <th>hour</th>\n",
       "      <th>weekday</th>\n",
       "      <th>dayofyear</th>\n",
       "      <th>holiday</th>\n",
       "      <th>km_cluster</th>\n",
       "    </tr>\n",
       "  </thead>\n",
       "  <tbody>\n",
       "    <tr>\n",
       "      <th>0</th>\n",
       "      <td>1</td>\n",
       "      <td>2020-08-25 00:00:00</td>\n",
       "      <td>27.8</td>\n",
       "      <td>1.5</td>\n",
       "      <td>74.0</td>\n",
       "      <td>0.0</td>\n",
       "      <td>0.0</td>\n",
       "      <td>0.0</td>\n",
       "      <td>0.0</td>\n",
       "      <td>8</td>\n",
       "      <td>25</td>\n",
       "      <td>0</td>\n",
       "      <td>1</td>\n",
       "      <td>238</td>\n",
       "      <td>False</td>\n",
       "      <td>1.0</td>\n",
       "    </tr>\n",
       "    <tr>\n",
       "      <th>1</th>\n",
       "      <td>1</td>\n",
       "      <td>2020-08-25 01:00:00</td>\n",
       "      <td>27.6</td>\n",
       "      <td>1.4</td>\n",
       "      <td>75.3</td>\n",
       "      <td>0.0</td>\n",
       "      <td>0.0</td>\n",
       "      <td>0.0</td>\n",
       "      <td>0.0</td>\n",
       "      <td>8</td>\n",
       "      <td>25</td>\n",
       "      <td>1</td>\n",
       "      <td>1</td>\n",
       "      <td>238</td>\n",
       "      <td>False</td>\n",
       "      <td>1.0</td>\n",
       "    </tr>\n",
       "    <tr>\n",
       "      <th>2</th>\n",
       "      <td>1</td>\n",
       "      <td>2020-08-25 02:00:00</td>\n",
       "      <td>27.5</td>\n",
       "      <td>1.2</td>\n",
       "      <td>76.7</td>\n",
       "      <td>0.0</td>\n",
       "      <td>0.0</td>\n",
       "      <td>0.0</td>\n",
       "      <td>0.0</td>\n",
       "      <td>8</td>\n",
       "      <td>25</td>\n",
       "      <td>2</td>\n",
       "      <td>1</td>\n",
       "      <td>238</td>\n",
       "      <td>False</td>\n",
       "      <td>1.0</td>\n",
       "    </tr>\n",
       "    <tr>\n",
       "      <th>3</th>\n",
       "      <td>1</td>\n",
       "      <td>2020-08-25 03:00:00</td>\n",
       "      <td>27.3</td>\n",
       "      <td>1.1</td>\n",
       "      <td>78.0</td>\n",
       "      <td>0.0</td>\n",
       "      <td>0.0</td>\n",
       "      <td>0.0</td>\n",
       "      <td>0.0</td>\n",
       "      <td>8</td>\n",
       "      <td>25</td>\n",
       "      <td>3</td>\n",
       "      <td>1</td>\n",
       "      <td>238</td>\n",
       "      <td>False</td>\n",
       "      <td>1.0</td>\n",
       "    </tr>\n",
       "    <tr>\n",
       "      <th>4</th>\n",
       "      <td>1</td>\n",
       "      <td>2020-08-25 04:00:00</td>\n",
       "      <td>26.9</td>\n",
       "      <td>1.2</td>\n",
       "      <td>79.7</td>\n",
       "      <td>0.0</td>\n",
       "      <td>0.0</td>\n",
       "      <td>0.0</td>\n",
       "      <td>0.0</td>\n",
       "      <td>8</td>\n",
       "      <td>25</td>\n",
       "      <td>4</td>\n",
       "      <td>1</td>\n",
       "      <td>238</td>\n",
       "      <td>False</td>\n",
       "      <td>1.0</td>\n",
       "    </tr>\n",
       "    <tr>\n",
       "      <th>...</th>\n",
       "      <td>...</td>\n",
       "      <td>...</td>\n",
       "      <td>...</td>\n",
       "      <td>...</td>\n",
       "      <td>...</td>\n",
       "      <td>...</td>\n",
       "      <td>...</td>\n",
       "      <td>...</td>\n",
       "      <td>...</td>\n",
       "      <td>...</td>\n",
       "      <td>...</td>\n",
       "      <td>...</td>\n",
       "      <td>...</td>\n",
       "      <td>...</td>\n",
       "      <td>...</td>\n",
       "      <td>...</td>\n",
       "    </tr>\n",
       "    <tr>\n",
       "      <th>10075</th>\n",
       "      <td>60</td>\n",
       "      <td>2020-08-31 19:00:00</td>\n",
       "      <td>28.6</td>\n",
       "      <td>3.6</td>\n",
       "      <td>66.0</td>\n",
       "      <td>0.0</td>\n",
       "      <td>0.5</td>\n",
       "      <td>1.0</td>\n",
       "      <td>1.0</td>\n",
       "      <td>8</td>\n",
       "      <td>31</td>\n",
       "      <td>19</td>\n",
       "      <td>0</td>\n",
       "      <td>244</td>\n",
       "      <td>False</td>\n",
       "      <td>2.0</td>\n",
       "    </tr>\n",
       "    <tr>\n",
       "      <th>10076</th>\n",
       "      <td>60</td>\n",
       "      <td>2020-08-31 20:00:00</td>\n",
       "      <td>28.3</td>\n",
       "      <td>3.8</td>\n",
       "      <td>67.0</td>\n",
       "      <td>0.0</td>\n",
       "      <td>0.3</td>\n",
       "      <td>1.0</td>\n",
       "      <td>1.0</td>\n",
       "      <td>8</td>\n",
       "      <td>31</td>\n",
       "      <td>20</td>\n",
       "      <td>0</td>\n",
       "      <td>244</td>\n",
       "      <td>False</td>\n",
       "      <td>2.0</td>\n",
       "    </tr>\n",
       "    <tr>\n",
       "      <th>10077</th>\n",
       "      <td>60</td>\n",
       "      <td>2020-08-31 21:00:00</td>\n",
       "      <td>27.9</td>\n",
       "      <td>4.1</td>\n",
       "      <td>68.0</td>\n",
       "      <td>0.0</td>\n",
       "      <td>0.0</td>\n",
       "      <td>1.0</td>\n",
       "      <td>1.0</td>\n",
       "      <td>8</td>\n",
       "      <td>31</td>\n",
       "      <td>21</td>\n",
       "      <td>0</td>\n",
       "      <td>244</td>\n",
       "      <td>False</td>\n",
       "      <td>2.0</td>\n",
       "    </tr>\n",
       "    <tr>\n",
       "      <th>10078</th>\n",
       "      <td>60</td>\n",
       "      <td>2020-08-31 22:00:00</td>\n",
       "      <td>27.9</td>\n",
       "      <td>4.1</td>\n",
       "      <td>68.0</td>\n",
       "      <td>0.0</td>\n",
       "      <td>0.0</td>\n",
       "      <td>1.0</td>\n",
       "      <td>1.0</td>\n",
       "      <td>8</td>\n",
       "      <td>31</td>\n",
       "      <td>22</td>\n",
       "      <td>0</td>\n",
       "      <td>244</td>\n",
       "      <td>False</td>\n",
       "      <td>2.0</td>\n",
       "    </tr>\n",
       "    <tr>\n",
       "      <th>10079</th>\n",
       "      <td>60</td>\n",
       "      <td>2020-08-31 23:00:00</td>\n",
       "      <td>27.9</td>\n",
       "      <td>4.1</td>\n",
       "      <td>68.0</td>\n",
       "      <td>0.0</td>\n",
       "      <td>0.0</td>\n",
       "      <td>1.0</td>\n",
       "      <td>1.0</td>\n",
       "      <td>8</td>\n",
       "      <td>31</td>\n",
       "      <td>23</td>\n",
       "      <td>0</td>\n",
       "      <td>244</td>\n",
       "      <td>False</td>\n",
       "      <td>2.0</td>\n",
       "    </tr>\n",
       "  </tbody>\n",
       "</table>\n",
       "<p>10080 rows × 16 columns</p>\n",
       "</div>"
      ],
      "text/plain": [
       "       num           date_time  temp  wind  humid  rain  sunny  cooler  solar  \\\n",
       "0        1 2020-08-25 00:00:00  27.8   1.5   74.0   0.0    0.0     0.0    0.0   \n",
       "1        1 2020-08-25 01:00:00  27.6   1.4   75.3   0.0    0.0     0.0    0.0   \n",
       "2        1 2020-08-25 02:00:00  27.5   1.2   76.7   0.0    0.0     0.0    0.0   \n",
       "3        1 2020-08-25 03:00:00  27.3   1.1   78.0   0.0    0.0     0.0    0.0   \n",
       "4        1 2020-08-25 04:00:00  26.9   1.2   79.7   0.0    0.0     0.0    0.0   \n",
       "...    ...                 ...   ...   ...    ...   ...    ...     ...    ...   \n",
       "10075   60 2020-08-31 19:00:00  28.6   3.6   66.0   0.0    0.5     1.0    1.0   \n",
       "10076   60 2020-08-31 20:00:00  28.3   3.8   67.0   0.0    0.3     1.0    1.0   \n",
       "10077   60 2020-08-31 21:00:00  27.9   4.1   68.0   0.0    0.0     1.0    1.0   \n",
       "10078   60 2020-08-31 22:00:00  27.9   4.1   68.0   0.0    0.0     1.0    1.0   \n",
       "10079   60 2020-08-31 23:00:00  27.9   4.1   68.0   0.0    0.0     1.0    1.0   \n",
       "\n",
       "       month  day  hour  weekday  dayofyear  holiday  km_cluster  \n",
       "0          8   25     0        1        238    False         1.0  \n",
       "1          8   25     1        1        238    False         1.0  \n",
       "2          8   25     2        1        238    False         1.0  \n",
       "3          8   25     3        1        238    False         1.0  \n",
       "4          8   25     4        1        238    False         1.0  \n",
       "...      ...  ...   ...      ...        ...      ...         ...  \n",
       "10075      8   31    19        0        244    False         2.0  \n",
       "10076      8   31    20        0        244    False         2.0  \n",
       "10077      8   31    21        0        244    False         2.0  \n",
       "10078      8   31    22        0        244    False         2.0  \n",
       "10079      8   31    23        0        244    False         2.0  \n",
       "\n",
       "[10080 rows x 16 columns]"
      ]
     },
     "execution_count": 71,
     "metadata": {},
     "output_type": "execute_result"
    }
   ],
   "source": [
    "test_cl"
   ]
  },
  {
   "cell_type": "code",
   "execution_count": null,
   "id": "a7c8677a",
   "metadata": {},
   "outputs": [],
   "source": []
  },
  {
   "cell_type": "code",
   "execution_count": 72,
   "id": "56360e59",
   "metadata": {},
   "outputs": [],
   "source": [
    "train_cl_0 = train.loc[train.km_cluster == 0,\n",
    "                          ~train.columns.isin(['target', 'km_cluster', 'date_time'])].reset_index(drop=True)\n",
    "train_cl_1 = train.loc[train.km_cluster == 1,\n",
    "                          ~train.columns.isin(['target', 'km_cluster', 'date_time'])].reset_index(drop=True)\n",
    "train_cl_2 = train.loc[train.km_cluster == 2,\n",
    "                          ~train.columns.isin(['target', 'km_cluster', 'date_time'])].reset_index(drop=True)\n",
    "train_cl_3 = train.loc[train.km_cluster == 3,\n",
    "                          ~train.columns.isin(['target', 'km_cluster', 'date_time'])].reset_index(drop=True)"
   ]
  },
  {
   "cell_type": "code",
   "execution_count": 73,
   "id": "1194e74e",
   "metadata": {},
   "outputs": [
    {
     "data": {
      "text/plain": [
       "((67320, 14), (10200, 14), (30600, 14), (14280, 14))"
      ]
     },
     "execution_count": 73,
     "metadata": {},
     "output_type": "execute_result"
    }
   ],
   "source": [
    "train_cl_0.shape, train_cl_1.shape, train_cl_2.shape, train_cl_3.shape"
   ]
  },
  {
   "cell_type": "code",
   "execution_count": 74,
   "id": "2514f75c",
   "metadata": {},
   "outputs": [
    {
     "data": {
      "text/html": [
       "<div>\n",
       "<style scoped>\n",
       "    .dataframe tbody tr th:only-of-type {\n",
       "        vertical-align: middle;\n",
       "    }\n",
       "\n",
       "    .dataframe tbody tr th {\n",
       "        vertical-align: top;\n",
       "    }\n",
       "\n",
       "    .dataframe thead th {\n",
       "        text-align: right;\n",
       "    }\n",
       "</style>\n",
       "<table border=\"1\" class=\"dataframe\">\n",
       "  <thead>\n",
       "    <tr style=\"text-align: right;\">\n",
       "      <th></th>\n",
       "      <th>num</th>\n",
       "      <th>temp</th>\n",
       "      <th>wind</th>\n",
       "      <th>humid</th>\n",
       "      <th>rain</th>\n",
       "      <th>sunny</th>\n",
       "      <th>cooler</th>\n",
       "      <th>solar</th>\n",
       "      <th>month</th>\n",
       "      <th>day</th>\n",
       "      <th>hour</th>\n",
       "      <th>weekday</th>\n",
       "      <th>dayofyear</th>\n",
       "      <th>holiday</th>\n",
       "    </tr>\n",
       "  </thead>\n",
       "  <tbody>\n",
       "    <tr>\n",
       "      <th>0</th>\n",
       "      <td>2</td>\n",
       "      <td>18.3</td>\n",
       "      <td>2.5</td>\n",
       "      <td>94.0</td>\n",
       "      <td>0.0</td>\n",
       "      <td>0.0</td>\n",
       "      <td>1.0</td>\n",
       "      <td>0.0</td>\n",
       "      <td>6</td>\n",
       "      <td>1</td>\n",
       "      <td>0</td>\n",
       "      <td>0</td>\n",
       "      <td>153</td>\n",
       "      <td>False</td>\n",
       "    </tr>\n",
       "    <tr>\n",
       "      <th>1</th>\n",
       "      <td>2</td>\n",
       "      <td>18.8</td>\n",
       "      <td>2.3</td>\n",
       "      <td>89.0</td>\n",
       "      <td>0.0</td>\n",
       "      <td>0.0</td>\n",
       "      <td>1.0</td>\n",
       "      <td>0.0</td>\n",
       "      <td>6</td>\n",
       "      <td>1</td>\n",
       "      <td>1</td>\n",
       "      <td>0</td>\n",
       "      <td>153</td>\n",
       "      <td>False</td>\n",
       "    </tr>\n",
       "    <tr>\n",
       "      <th>2</th>\n",
       "      <td>2</td>\n",
       "      <td>19.0</td>\n",
       "      <td>3.2</td>\n",
       "      <td>86.0</td>\n",
       "      <td>0.0</td>\n",
       "      <td>0.0</td>\n",
       "      <td>1.0</td>\n",
       "      <td>0.0</td>\n",
       "      <td>6</td>\n",
       "      <td>1</td>\n",
       "      <td>2</td>\n",
       "      <td>0</td>\n",
       "      <td>153</td>\n",
       "      <td>False</td>\n",
       "    </tr>\n",
       "    <tr>\n",
       "      <th>3</th>\n",
       "      <td>2</td>\n",
       "      <td>19.0</td>\n",
       "      <td>4.1</td>\n",
       "      <td>85.0</td>\n",
       "      <td>0.0</td>\n",
       "      <td>0.0</td>\n",
       "      <td>1.0</td>\n",
       "      <td>0.0</td>\n",
       "      <td>6</td>\n",
       "      <td>1</td>\n",
       "      <td>3</td>\n",
       "      <td>0</td>\n",
       "      <td>153</td>\n",
       "      <td>False</td>\n",
       "    </tr>\n",
       "    <tr>\n",
       "      <th>4</th>\n",
       "      <td>2</td>\n",
       "      <td>18.9</td>\n",
       "      <td>3.9</td>\n",
       "      <td>87.0</td>\n",
       "      <td>0.0</td>\n",
       "      <td>0.0</td>\n",
       "      <td>1.0</td>\n",
       "      <td>0.0</td>\n",
       "      <td>6</td>\n",
       "      <td>1</td>\n",
       "      <td>4</td>\n",
       "      <td>0</td>\n",
       "      <td>153</td>\n",
       "      <td>False</td>\n",
       "    </tr>\n",
       "    <tr>\n",
       "      <th>...</th>\n",
       "      <td>...</td>\n",
       "      <td>...</td>\n",
       "      <td>...</td>\n",
       "      <td>...</td>\n",
       "      <td>...</td>\n",
       "      <td>...</td>\n",
       "      <td>...</td>\n",
       "      <td>...</td>\n",
       "      <td>...</td>\n",
       "      <td>...</td>\n",
       "      <td>...</td>\n",
       "      <td>...</td>\n",
       "      <td>...</td>\n",
       "      <td>...</td>\n",
       "    </tr>\n",
       "    <tr>\n",
       "      <th>67315</th>\n",
       "      <td>58</td>\n",
       "      <td>29.4</td>\n",
       "      <td>3.4</td>\n",
       "      <td>66.0</td>\n",
       "      <td>0.0</td>\n",
       "      <td>0.2</td>\n",
       "      <td>1.0</td>\n",
       "      <td>0.0</td>\n",
       "      <td>8</td>\n",
       "      <td>24</td>\n",
       "      <td>19</td>\n",
       "      <td>0</td>\n",
       "      <td>237</td>\n",
       "      <td>False</td>\n",
       "    </tr>\n",
       "    <tr>\n",
       "      <th>67316</th>\n",
       "      <td>58</td>\n",
       "      <td>28.7</td>\n",
       "      <td>1.9</td>\n",
       "      <td>69.0</td>\n",
       "      <td>0.0</td>\n",
       "      <td>0.0</td>\n",
       "      <td>1.0</td>\n",
       "      <td>0.0</td>\n",
       "      <td>8</td>\n",
       "      <td>24</td>\n",
       "      <td>20</td>\n",
       "      <td>0</td>\n",
       "      <td>237</td>\n",
       "      <td>False</td>\n",
       "    </tr>\n",
       "    <tr>\n",
       "      <th>67317</th>\n",
       "      <td>58</td>\n",
       "      <td>28.3</td>\n",
       "      <td>1.1</td>\n",
       "      <td>71.0</td>\n",
       "      <td>0.0</td>\n",
       "      <td>0.0</td>\n",
       "      <td>1.0</td>\n",
       "      <td>0.0</td>\n",
       "      <td>8</td>\n",
       "      <td>24</td>\n",
       "      <td>21</td>\n",
       "      <td>0</td>\n",
       "      <td>237</td>\n",
       "      <td>False</td>\n",
       "    </tr>\n",
       "    <tr>\n",
       "      <th>67318</th>\n",
       "      <td>58</td>\n",
       "      <td>28.3</td>\n",
       "      <td>2.4</td>\n",
       "      <td>72.0</td>\n",
       "      <td>0.0</td>\n",
       "      <td>0.0</td>\n",
       "      <td>1.0</td>\n",
       "      <td>0.0</td>\n",
       "      <td>8</td>\n",
       "      <td>24</td>\n",
       "      <td>22</td>\n",
       "      <td>0</td>\n",
       "      <td>237</td>\n",
       "      <td>False</td>\n",
       "    </tr>\n",
       "    <tr>\n",
       "      <th>67319</th>\n",
       "      <td>58</td>\n",
       "      <td>28.1</td>\n",
       "      <td>2.3</td>\n",
       "      <td>73.0</td>\n",
       "      <td>0.0</td>\n",
       "      <td>0.0</td>\n",
       "      <td>1.0</td>\n",
       "      <td>0.0</td>\n",
       "      <td>8</td>\n",
       "      <td>24</td>\n",
       "      <td>23</td>\n",
       "      <td>0</td>\n",
       "      <td>237</td>\n",
       "      <td>False</td>\n",
       "    </tr>\n",
       "  </tbody>\n",
       "</table>\n",
       "<p>67320 rows × 14 columns</p>\n",
       "</div>"
      ],
      "text/plain": [
       "       num  temp  wind  humid  rain  sunny  cooler  solar  month  day  hour  \\\n",
       "0        2  18.3   2.5   94.0   0.0    0.0     1.0    0.0      6    1     0   \n",
       "1        2  18.8   2.3   89.0   0.0    0.0     1.0    0.0      6    1     1   \n",
       "2        2  19.0   3.2   86.0   0.0    0.0     1.0    0.0      6    1     2   \n",
       "3        2  19.0   4.1   85.0   0.0    0.0     1.0    0.0      6    1     3   \n",
       "4        2  18.9   3.9   87.0   0.0    0.0     1.0    0.0      6    1     4   \n",
       "...    ...   ...   ...    ...   ...    ...     ...    ...    ...  ...   ...   \n",
       "67315   58  29.4   3.4   66.0   0.0    0.2     1.0    0.0      8   24    19   \n",
       "67316   58  28.7   1.9   69.0   0.0    0.0     1.0    0.0      8   24    20   \n",
       "67317   58  28.3   1.1   71.0   0.0    0.0     1.0    0.0      8   24    21   \n",
       "67318   58  28.3   2.4   72.0   0.0    0.0     1.0    0.0      8   24    22   \n",
       "67319   58  28.1   2.3   73.0   0.0    0.0     1.0    0.0      8   24    23   \n",
       "\n",
       "       weekday  dayofyear  holiday  \n",
       "0            0        153    False  \n",
       "1            0        153    False  \n",
       "2            0        153    False  \n",
       "3            0        153    False  \n",
       "4            0        153    False  \n",
       "...        ...        ...      ...  \n",
       "67315        0        237    False  \n",
       "67316        0        237    False  \n",
       "67317        0        237    False  \n",
       "67318        0        237    False  \n",
       "67319        0        237    False  \n",
       "\n",
       "[67320 rows x 14 columns]"
      ]
     },
     "execution_count": 74,
     "metadata": {},
     "output_type": "execute_result"
    }
   ],
   "source": [
    "train_cl_0"
   ]
  },
  {
   "cell_type": "code",
   "execution_count": 75,
   "id": "6b623e2c",
   "metadata": {},
   "outputs": [],
   "source": [
    "train_cl_0_y = train.loc[train.km_cluster == 0, 'target'].reset_index(drop=True)\n",
    "train_cl_1_y = train.loc[train.km_cluster == 1, 'target'].reset_index(drop=True)\n",
    "train_cl_2_y = train.loc[train.km_cluster == 2, 'target'].reset_index(drop=True)\n",
    "train_cl_3_y = train.loc[train.km_cluster == 3, 'target'].reset_index(drop=True)"
   ]
  },
  {
   "cell_type": "code",
   "execution_count": 76,
   "id": "4e48b403",
   "metadata": {},
   "outputs": [
    {
     "data": {
      "text/plain": [
       "((67320,), (10200,), (30600,), (14280,))"
      ]
     },
     "execution_count": 76,
     "metadata": {},
     "output_type": "execute_result"
    }
   ],
   "source": [
    "train_cl_0_y.shape, train_cl_1_y.shape, train_cl_2_y.shape, train_cl_3_y.shape"
   ]
  },
  {
   "cell_type": "code",
   "execution_count": 77,
   "id": "f6501fdc",
   "metadata": {},
   "outputs": [],
   "source": [
    "test_cl_0 = test_cl.loc[test_cl.km_cluster == 0, ~test_cl.columns.isin(['km_cluster', 'date_time'])]\n",
    "test_cl_1 = test_cl.loc[test_cl.km_cluster == 1, ~test_cl.columns.isin(['km_cluster', 'date_time'])]\n",
    "test_cl_2 = test_cl.loc[test_cl.km_cluster == 2, ~test_cl.columns.isin(['km_cluster', 'date_time'])]\n",
    "test_cl_3 = test_cl.loc[test_cl.km_cluster == 3, ~test_cl.columns.isin(['km_cluster', 'date_time'])]"
   ]
  },
  {
   "cell_type": "code",
   "execution_count": 78,
   "id": "774f68e6",
   "metadata": {},
   "outputs": [
    {
     "data": {
      "text/plain": [
       "((5544, 14), (840, 14), (2520, 14), (1176, 14))"
      ]
     },
     "execution_count": 78,
     "metadata": {},
     "output_type": "execute_result"
    }
   ],
   "source": [
    "test_cl_0.shape, test_cl_1.shape, test_cl_2.shape, test_cl_3.shape"
   ]
  },
  {
   "cell_type": "code",
   "execution_count": 79,
   "id": "31f230b9",
   "metadata": {},
   "outputs": [],
   "source": [
    "train_x_sets = [train_cl_0, train_cl_1, train_cl_2, train_cl_3]\n",
    "train_y_sets = [train_cl_0_y, train_cl_1_y, train_cl_2_y, train_cl_3_y]\n",
    "test_x_sets = [test_cl_0, test_cl_1, test_cl_2, test_cl_3]"
   ]
  },
  {
   "cell_type": "code",
   "execution_count": 80,
   "id": "b71e4416",
   "metadata": {},
   "outputs": [
    {
     "name": "stdout",
     "output_type": "stream",
     "text": [
      "-------training------------------------------------------\n",
      "oob_score_:  0.99720107588476\n",
      "-------training------------------------------------------\n",
      "oob_score_:  0.9981061962199645\n",
      "-------training------------------------------------------\n",
      "oob_score_:  0.9910432994602163\n",
      "-------training------------------------------------------\n",
      "oob_score_:  0.9814139035266749\n"
     ]
    }
   ],
   "source": [
    "preds = []\n",
    "fe = []\n",
    "oob = []\n",
    "for x, y, t in zip(train_x_sets, train_y_sets, test_x_sets):\n",
    "    print(\"-------training------------------------------------------\")\n",
    "    rf = RandomForestRegressor(random_state=42,\n",
    "                               oob_score=True,\n",
    "                               n_estimators=200)\n",
    "    rf.fit(x, y)\n",
    "    pred = rf.predict(t)\n",
    "    preds.append(pred)\n",
    "    fe.append(rf.feature_importances_)\n",
    "    oob.append(rf.oob_score_)\n",
    "    print(\"oob_score_: \", rf.oob_score_)"
   ]
  },
  {
   "cell_type": "code",
   "execution_count": 81,
   "id": "5851625d",
   "metadata": {},
   "outputs": [],
   "source": [
    "pred_set = []\n",
    "for t, p in zip(test_x_sets, preds):\n",
    "    t['pred'] = p\n",
    "    pred_set.append(t)"
   ]
  },
  {
   "cell_type": "code",
   "execution_count": 82,
   "id": "3768c097",
   "metadata": {},
   "outputs": [],
   "source": [
    "pred_set = pd.concat(pred_set).sort_index()"
   ]
  },
  {
   "cell_type": "code",
   "execution_count": 83,
   "id": "72011e6f",
   "metadata": {},
   "outputs": [],
   "source": [
    "sub.answer = pred_set.pred"
   ]
  },
  {
   "cell_type": "code",
   "execution_count": 84,
   "id": "4193182b",
   "metadata": {},
   "outputs": [
    {
     "data": {
      "text/html": [
       "<div>\n",
       "<style scoped>\n",
       "    .dataframe tbody tr th:only-of-type {\n",
       "        vertical-align: middle;\n",
       "    }\n",
       "\n",
       "    .dataframe tbody tr th {\n",
       "        vertical-align: top;\n",
       "    }\n",
       "\n",
       "    .dataframe thead th {\n",
       "        text-align: right;\n",
       "    }\n",
       "</style>\n",
       "<table border=\"1\" class=\"dataframe\">\n",
       "  <thead>\n",
       "    <tr style=\"text-align: right;\">\n",
       "      <th></th>\n",
       "      <th>num_date_time</th>\n",
       "      <th>answer</th>\n",
       "    </tr>\n",
       "  </thead>\n",
       "  <tbody>\n",
       "    <tr>\n",
       "      <th>0</th>\n",
       "      <td>1 2020-08-25 00</td>\n",
       "      <td>8675.965080</td>\n",
       "    </tr>\n",
       "    <tr>\n",
       "      <th>1</th>\n",
       "      <td>1 2020-08-25 01</td>\n",
       "      <td>8670.495960</td>\n",
       "    </tr>\n",
       "    <tr>\n",
       "      <th>2</th>\n",
       "      <td>1 2020-08-25 02</td>\n",
       "      <td>8666.523720</td>\n",
       "    </tr>\n",
       "    <tr>\n",
       "      <th>3</th>\n",
       "      <td>1 2020-08-25 03</td>\n",
       "      <td>8661.521160</td>\n",
       "    </tr>\n",
       "    <tr>\n",
       "      <th>4</th>\n",
       "      <td>1 2020-08-25 04</td>\n",
       "      <td>8652.714840</td>\n",
       "    </tr>\n",
       "    <tr>\n",
       "      <th>...</th>\n",
       "      <td>...</td>\n",
       "      <td>...</td>\n",
       "    </tr>\n",
       "    <tr>\n",
       "      <th>10075</th>\n",
       "      <td>60 2020-08-31 19</td>\n",
       "      <td>4130.038800</td>\n",
       "    </tr>\n",
       "    <tr>\n",
       "      <th>10076</th>\n",
       "      <td>60 2020-08-31 20</td>\n",
       "      <td>3910.812586</td>\n",
       "    </tr>\n",
       "    <tr>\n",
       "      <th>10077</th>\n",
       "      <td>60 2020-08-31 21</td>\n",
       "      <td>3724.859520</td>\n",
       "    </tr>\n",
       "    <tr>\n",
       "      <th>10078</th>\n",
       "      <td>60 2020-08-31 22</td>\n",
       "      <td>3620.788560</td>\n",
       "    </tr>\n",
       "    <tr>\n",
       "      <th>10079</th>\n",
       "      <td>60 2020-08-31 23</td>\n",
       "      <td>3400.254720</td>\n",
       "    </tr>\n",
       "  </tbody>\n",
       "</table>\n",
       "<p>10080 rows × 2 columns</p>\n",
       "</div>"
      ],
      "text/plain": [
       "          num_date_time       answer\n",
       "0       1 2020-08-25 00  8675.965080\n",
       "1       1 2020-08-25 01  8670.495960\n",
       "2       1 2020-08-25 02  8666.523720\n",
       "3       1 2020-08-25 03  8661.521160\n",
       "4       1 2020-08-25 04  8652.714840\n",
       "...                 ...          ...\n",
       "10075  60 2020-08-31 19  4130.038800\n",
       "10076  60 2020-08-31 20  3910.812586\n",
       "10077  60 2020-08-31 21  3724.859520\n",
       "10078  60 2020-08-31 22  3620.788560\n",
       "10079  60 2020-08-31 23  3400.254720\n",
       "\n",
       "[10080 rows x 2 columns]"
      ]
     },
     "execution_count": 84,
     "metadata": {},
     "output_type": "execute_result"
    }
   ],
   "source": [
    "sub.to_csv('submission/210617_modelforanalytic-test2.csv', index=False)\n",
    "sub"
   ]
  },
  {
   "cell_type": "code",
   "execution_count": 91,
   "id": "e45b7a4f",
   "metadata": {},
   "outputs": [],
   "source": [
    "def plot_feature_importance(fe):\n",
    "    warnings.simplefilter(action='ignore', category=FutureWarning)\n",
    "    plt.rcParams[\"font.size\"] = \"14\"\n",
    "\n",
    "    fe_avg = pd.DataFrame(fe,\n",
    "                          index=x.columns, columns=['fe']).sort_values(by=['fe'], ascending=False)\n",
    "\n",
    "    plt.figure(figsize=(16, 8))\n",
    "    plots = sns.barplot(fe_avg.fe, y=fe_avg.index)\n",
    "\n",
    "    # Annotate every single Bar with its value, based on it's width           \n",
    "    for bar in plots.patches:\n",
    "        width = bar.get_width()\n",
    "        plt.text(0.015+ bar.get_width(),\n",
    "                 bar.get_y() + 0.5 * bar.get_height(),\n",
    "                 '{:.3f}'.format(width),\n",
    "                 ha='center', va='center')\n",
    "\n",
    "    plt.show()"
   ]
  },
  {
   "cell_type": "code",
   "execution_count": 92,
   "id": "902cf782",
   "metadata": {},
   "outputs": [
    {
     "data": {
      "image/png": "[encoded data removed]",
      "text/plain": [
       "<Figure size 1152x576 with 1 Axes>"
      ]
     },
     "metadata": {
      "needs_background": "light"
     },
     "output_type": "display_data"
    }
   ],
   "source": [
    "plot_feature_importance(fe[0])"
   ]
  },
  {
   "cell_type": "code",
   "execution_count": 93,
   "id": "5fc0ed89",
   "metadata": {},
   "outputs": [
    {
     "data": {
      "image/png": "[encoded data removed]",
      "text/plain": [
       "<Figure size 1152x576 with 1 Axes>"
      ]
     },
     "metadata": {
      "needs_background": "light"
     },
     "output_type": "display_data"
    }
   ],
   "source": [
    "plot_feature_importance(fe[1])"
   ]
  },
  {
   "cell_type": "code",
   "execution_count": 94,
   "id": "d2906b59",
   "metadata": {},
   "outputs": [
    {
     "data": {
      "image/png": "[encoded data removed]",
      "text/plain": [
       "<Figure size 1152x576 with 1 Axes>"
      ]
     },
     "metadata": {
      "needs_background": "light"
     },
     "output_type": "display_data"
    }
   ],
   "source": [
    "plot_feature_importance(fe[2])"
   ]
  },
  {
   "cell_type": "code",
   "execution_count": 95,
   "id": "f38a72b6",
   "metadata": {},
   "outputs": [
    {
     "data": {
      "image/png": "[encoded data removed]",
      "text/plain": [
       "<Figure size 1152x576 with 1 Axes>"
      ]
     },
     "metadata": {
      "needs_background": "light"
     },
     "output_type": "display_data"
    }
   ],
   "source": [
    "plot_feature_importance(fe[3])"
   ]
  },
  {
   "cell_type": "code",
   "execution_count": null,
   "id": "e9d9750d",
   "metadata": {},
   "outputs": [],
   "source": []
  }
 ],
 "metadata": {
  "kernelspec": {
   "display_name": "wyatt38",
   "language": "python",
   "name": "wyatt38"
  },
  "language_info": {
   "codemirror_mode": {
    "name": "ipython",
    "version": 3
   },
   "file_extension": ".py",
   "mimetype": "text/x-python",
   "name": "python",
   "nbconvert_exporter": "python",
   "pygments_lexer": "ipython3",
   "version": "3.8.0"
  }
 },
 "nbformat": 4,
 "nbformat_minor": 5
}

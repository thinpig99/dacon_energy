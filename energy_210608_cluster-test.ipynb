{
 "cells": [
  {
   "cell_type": "markdown",
   "id": "11bbc41d",
   "metadata": {},
   "source": [
    "클러스터 재분배 테스트"
   ]
  },
  {
   "cell_type": "code",
   "execution_count": 37,
   "id": "b2d0d41a",
   "metadata": {},
   "outputs": [],
   "source": [
    "import pandas as pd\n",
    "import numpy as np\n",
    "import matplotlib.pyplot as plt\n",
    "import seaborn as sns\n",
    "\n",
    "from sklearn.cluster import KMeans\n",
    "\n",
    "from tqdm import tqdm\n",
    "from sklearn.ensemble import RandomForestRegressor\n",
    "from lightgbm import LGBMRegressor\n",
    "\n",
    "import warnings\n",
    "warnings.filterwarnings(\"ignore\")"
   ]
  },
  {
   "cell_type": "code",
   "execution_count": 38,
   "id": "aef67615",
   "metadata": {},
   "outputs": [],
   "source": [
    "PATH = r'C:\\Users\\Wyatt\\wyatt37\\data\\energy'"
   ]
  },
  {
   "cell_type": "code",
   "execution_count": 39,
   "id": "c69a080a",
   "metadata": {},
   "outputs": [],
   "source": [
    "train_col = ['num', 'date_time', 'target', 'temp', 'wind', 'humid', 'rain', 'sunny', 'cooler', 'solar']\n",
    "test_col = ['num', 'date_time', 'temp', 'wind', 'humid', 'rain', 'sunny', 'cooler', 'solar']"
   ]
  },
  {
   "cell_type": "code",
   "execution_count": 40,
   "id": "2e4d56d0",
   "metadata": {},
   "outputs": [],
   "source": [
    "train = pd.read_csv(PATH + '\\\\train.csv', encoding='cp949', names=train_col, header=0)\n",
    "test = pd.read_csv(PATH + '\\\\test.csv', encoding='cp949', names=test_col, header=0)\n",
    "sub = pd.read_csv(PATH + '\\\\sample_submission.csv', encoding='cp949')"
   ]
  },
  {
   "cell_type": "markdown",
   "id": "447b3bc9",
   "metadata": {},
   "source": [
    "## Preprocessing"
   ]
  },
  {
   "cell_type": "markdown",
   "id": "67ed57bd",
   "metadata": {},
   "source": [
    "### datetime"
   ]
  },
  {
   "cell_type": "markdown",
   "id": "67c1c48a",
   "metadata": {},
   "source": [
    "datetime 과 관련된 컬럼을 만들어 줍니다."
   ]
  },
  {
   "cell_type": "code",
   "execution_count": 41,
   "id": "7bf03905",
   "metadata": {},
   "outputs": [],
   "source": [
    "def make_time(train):\n",
    "    train['date_time'] = pd.to_datetime(train.date_time)\n",
    "    \n",
    "    # dt.\n",
    "    train['month'] = train.date_time.dt.month                    # 월(숫자)\n",
    "    train['day'] = train.date_time.dt.day                        # 일(숫자)\n",
    "    train['hour'] = train.date_time.dt.hour                      # 시(숫자)\n",
    "    train['weekday'] = train.date_time.dt.weekday                # 시(숫자)\n",
    "    train['dayofyear'] = train.date_time.dt.dayofyear            # 연 기준 몇일째(숫자)\n",
    "    train['weekofyear'] = train.date_time.dt.isocalendar().week  # 연 기준 몇주째(숫자) (=week)\n",
    "    train['month_start'] = train.date_time.dt.is_month_start     # 월 시작 일\n",
    "    train['month_end'] = train.date_time.dt.is_month_end         # 월 마감 일\n",
    "    \n",
    "    # astype\n",
    "    train.weekofyear = train.weekofyear.astype(int)\n",
    "    \n",
    "    # drop datetime\n",
    "    train.drop(['date_time'], axis=1, inplace=True)\n",
    "    \n",
    "    return train"
   ]
  },
  {
   "cell_type": "code",
   "execution_count": 42,
   "id": "83c815fd",
   "metadata": {},
   "outputs": [],
   "source": [
    "train = make_time(train)\n",
    "test = make_time(test)"
   ]
  },
  {
   "cell_type": "markdown",
   "id": "204090a7",
   "metadata": {},
   "source": [
    "### holiday"
   ]
  },
  {
   "cell_type": "markdown",
   "id": "7c91b9ce",
   "metadata": {},
   "source": [
    "2020년 6~8월에는 공휴일이 많지는 않았습니다. 주말과 함께 구분해줍니다."
   ]
  },
  {
   "cell_type": "code",
   "execution_count": 43,
   "id": "2a53a371",
   "metadata": {},
   "outputs": [],
   "source": [
    "# 6월 6일은 현충일\n",
    "# 8월 15일은 광복절\n",
    "# 8월 17일은 임시공휴일\n",
    "\n",
    "# 휴일이 많지 않으니, 주말에 포함시키자.\n",
    "\n",
    "train.loc[train.weekday >= 5, 'holiday'] = True\n",
    "train.loc[train.weekday < 5, 'holiday'] = False\n",
    "train.loc[(train.month == 8) & (train.day == 17), 'holiday'] = True\n",
    "\n",
    "test.loc[test.weekday >= 5, 'holiday'] = True\n",
    "test.loc[test.weekday < 5, 'holiday'] = False"
   ]
  },
  {
   "cell_type": "markdown",
   "id": "f0677ab4",
   "metadata": {},
   "source": [
    "### Cooler & Solar"
   ]
  },
  {
   "cell_type": "markdown",
   "id": "e494e54c",
   "metadata": {},
   "source": [
    "테스트 셋에는 Cooler와 Solar가 비어 있습니다. 다른 데이터와 함께 채워줍니다."
   ]
  },
  {
   "cell_type": "code",
   "execution_count": 44,
   "id": "479a8bc3",
   "metadata": {},
   "outputs": [],
   "source": [
    "# test에 cooler와 solar를 넣어주겠습니다.\n",
    "for i in range(1, 61):\n",
    "    test.loc[test.num == i, 'cooler'] = train.loc[train.num == i, 'cooler'].mean()\n",
    "    test.loc[test.num == i, 'solar'] = train.loc[train.num == i, 'solar'].mean()"
   ]
  },
  {
   "cell_type": "code",
   "execution_count": 45,
   "id": "a767e5ee",
   "metadata": {},
   "outputs": [],
   "source": [
    "# test set의 빈 값을 채워줍니다.\n",
    "test[['temp', 'wind', 'humid', 'rain', 'sunny']] = test[['temp', 'wind', 'humid', 'rain', 'sunny']].interpolate(method='values').round(1)"
   ]
  },
  {
   "cell_type": "markdown",
   "id": "c63ff4c8",
   "metadata": {},
   "source": [
    "### Clustering"
   ]
  },
  {
   "cell_type": "code",
   "execution_count": 46,
   "id": "ed9d05e8",
   "metadata": {},
   "outputs": [],
   "source": [
    "from sklearn.cluster import KMeans"
   ]
  },
  {
   "cell_type": "code",
   "execution_count": 47,
   "id": "0e94ccf9",
   "metadata": {},
   "outputs": [],
   "source": [
    "weekday_mean = (\n",
    "    train.groupby(['num', 'weekday'])['target'].mean()\n",
    "    .reset_index()\n",
    "    .pivot('num', 'weekday', 'target')\n",
    "    .reset_index()\n",
    ")"
   ]
  },
  {
   "cell_type": "code",
   "execution_count": 48,
   "id": "a20ab6f0",
   "metadata": {},
   "outputs": [],
   "source": [
    "weekday_std = (\n",
    "    train.groupby(['num', 'weekday'])['target'].std()\n",
    "    .reset_index()\n",
    "    .pivot('num', 'weekday', 'target')\n",
    "    .reset_index()\n",
    "    .drop('num', axis=1)\n",
    ")"
   ]
  },
  {
   "cell_type": "code",
   "execution_count": 49,
   "id": "a7f8d040",
   "metadata": {},
   "outputs": [],
   "source": [
    "hour_mean = (\n",
    "    train.groupby(['num', 'hour'])['target'].mean()\n",
    "    .reset_index()\n",
    "    .pivot('num', 'hour', 'target')\n",
    "    .reset_index()\n",
    "    .drop('num', axis=1)\n",
    ")"
   ]
  },
  {
   "cell_type": "code",
   "execution_count": 50,
   "id": "64d2e5e8",
   "metadata": {},
   "outputs": [],
   "source": [
    "hour_std = (\n",
    "    train.groupby(['num', 'hour'])['target'].std()\n",
    "    .reset_index()\n",
    "    .pivot('num', 'hour', 'target')\n",
    "    .reset_index()\n",
    "    .drop('num', axis=1)\n",
    ")"
   ]
  },
  {
   "cell_type": "code",
   "execution_count": 51,
   "id": "80772999",
   "metadata": {},
   "outputs": [],
   "source": [
    "cl_df = pd.concat([weekday_mean, hour_mean, weekday_std, hour_std], axis=1)"
   ]
  },
  {
   "cell_type": "code",
   "execution_count": 52,
   "id": "3c79f0f3",
   "metadata": {},
   "outputs": [],
   "source": [
    "columns = (\n",
    "    ['num']\n",
    "    + ['day_mean_' + str(i) for i in range(7)]\n",
    "    + ['hour_mean_' + str(i) for i in range(24)]\n",
    "    + ['day_std_' + str(i) for i in range(7)]\n",
    "    + ['hour_std_' + str(i) for i in range(24)]\n",
    ")"
   ]
  },
  {
   "cell_type": "code",
   "execution_count": 53,
   "id": "bb862713",
   "metadata": {
    "tags": []
   },
   "outputs": [],
   "source": [
    "cl_df.columns = columns"
   ]
  },
  {
   "cell_type": "code",
   "execution_count": 54,
   "id": "75b76288",
   "metadata": {},
   "outputs": [],
   "source": [
    "for i in range(len(cl_df)):\n",
    "    cl_df.iloc[i, 1:8] = (cl_df.iloc[i, 1:8] - cl_df.iloc[i, 1:8].mean()) / cl_df.iloc[i, 1:8].std()\n",
    "    cl_df.iloc[i, 8:32] = (cl_df.iloc[i, 8:32] - cl_df.iloc[i, 8:32].mean()) / cl_df.iloc[i, 8:32].std()\n",
    "    cl_df.iloc[i, 32:39] = (cl_df.iloc[i, 32:39] - cl_df.iloc[i, 32:39].mean()) / cl_df.iloc[i, 32:39].std()\n",
    "    cl_df.iloc[i, 39:] = (cl_df.iloc[i, 39:] - cl_df.iloc[i, 39:].mean()) / cl_df.iloc[i, 39:].std()"
   ]
  },
  {
   "cell_type": "code",
   "execution_count": 55,
   "id": "c18bbe02",
   "metadata": {},
   "outputs": [],
   "source": [
    "model = KMeans(n_clusters = 4, random_state = 42)\n",
    "pred = model.fit_predict(cl_df.iloc[:, 1:])"
   ]
  },
  {
   "cell_type": "code",
   "execution_count": 56,
   "id": "78f31652",
   "metadata": {},
   "outputs": [],
   "source": [
    "cl_df['km_cluster'] = pred"
   ]
  },
  {
   "cell_type": "code",
   "execution_count": 57,
   "id": "44c64eaa",
   "metadata": {},
   "outputs": [],
   "source": [
    "train_cl = pd.merge(train, cl_df[['num', 'km_cluster']], how='left', on='num')"
   ]
  },
  {
   "cell_type": "code",
   "execution_count": 58,
   "id": "72181aed",
   "metadata": {},
   "outputs": [],
   "source": [
    "test_cl = test.copy()"
   ]
  },
  {
   "cell_type": "code",
   "execution_count": 59,
   "id": "5157b80c",
   "metadata": {},
   "outputs": [],
   "source": [
    "# cooler와 solar를 넣어주겠습니다.\n",
    "for i in range(1, 61):\n",
    "    test_cl.loc[test_cl.num == i, 'km_cluster'] = (\n",
    "        train_cl.loc[train_cl.num == i, 'km_cluster'].max()\n",
    "    )"
   ]
  },
  {
   "cell_type": "markdown",
   "id": "8044e518",
   "metadata": {},
   "source": [
    "육안으로 확인한 조금 다른 건물들을 따로 빼주겠습니다."
   ]
  },
  {
   "cell_type": "markdown",
   "id": "d90595b2",
   "metadata": {},
   "source": [
    "- 4:7, 15, 18, 57\n",
    "- 5:38, 58\n",
    "- 6:34"
   ]
  },
  {
   "cell_type": "code",
   "execution_count": 60,
   "id": "b9129381",
   "metadata": {},
   "outputs": [],
   "source": [
    "train_cl.loc[train_cl.num == 7, 'km_cluster'] = 4\n",
    "train_cl.loc[train_cl.num == 15, 'km_cluster'] = 4\n",
    "train_cl.loc[train_cl.num == 18, 'km_cluster'] = 4\n",
    "train_cl.loc[train_cl.num == 57, 'km_cluster'] = 4\n",
    "\n",
    "test_cl.loc[test_cl.num == 7, 'km_cluster'] = 4\n",
    "test_cl.loc[test_cl.num == 15, 'km_cluster'] = 4\n",
    "test_cl.loc[test_cl.num == 18, 'km_cluster'] = 4\n",
    "test_cl.loc[test_cl.num == 57, 'km_cluster'] = 4"
   ]
  },
  {
   "cell_type": "code",
   "execution_count": 61,
   "id": "97703a26",
   "metadata": {},
   "outputs": [],
   "source": [
    "train_cl.loc[train_cl.num == 38, 'km_cluster'] = 5\n",
    "train_cl.loc[train_cl.num == 58, 'km_cluster'] = 5\n",
    "\n",
    "test_cl.loc[test_cl.num == 38, 'km_cluster'] = 5\n",
    "test_cl.loc[test_cl.num == 58, 'km_cluster'] = 5"
   ]
  },
  {
   "cell_type": "code",
   "execution_count": 62,
   "id": "1ba5195b",
   "metadata": {},
   "outputs": [],
   "source": [
    "train_cl.loc[train_cl.num == 34, 'km_cluster'] = 6\n",
    "\n",
    "test_cl.loc[test_cl.num == 34, 'km_cluster'] = 6"
   ]
  },
  {
   "cell_type": "markdown",
   "id": "5c734763",
   "metadata": {},
   "source": [
    "#### train, test 찢기"
   ]
  },
  {
   "cell_type": "code",
   "execution_count": 63,
   "id": "25a1c5fb",
   "metadata": {},
   "outputs": [],
   "source": [
    "train_cl_0 = train_cl.loc[train_cl.km_cluster == 0,\n",
    "                          ~train_cl.columns.isin(['target', 'km_cluster'])].reset_index(drop=True)\n",
    "train_cl_1 = train_cl.loc[train_cl.km_cluster == 1,\n",
    "                          ~train_cl.columns.isin(['target', 'km_cluster'])].reset_index(drop=True)\n",
    "train_cl_2 = train_cl.loc[train_cl.km_cluster == 2,\n",
    "                          ~train_cl.columns.isin(['target', 'km_cluster'])].reset_index(drop=True)\n",
    "train_cl_3 = train_cl.loc[train_cl.km_cluster == 3,\n",
    "                          ~train_cl.columns.isin(['target', 'km_cluster'])].reset_index(drop=True)\n",
    "train_cl_4 = train_cl.loc[train_cl.km_cluster == 4,\n",
    "                          ~train_cl.columns.isin(['target', 'km_cluster'])].reset_index(drop=True)\n",
    "train_cl_5 = train_cl.loc[train_cl.km_cluster == 5,\n",
    "                          ~train_cl.columns.isin(['target', 'km_cluster'])].reset_index(drop=True)\n",
    "train_cl_6 = train_cl.loc[train_cl.km_cluster == 6,\n",
    "                          ~train_cl.columns.isin(['target', 'km_cluster'])].reset_index(drop=True)"
   ]
  },
  {
   "cell_type": "code",
   "execution_count": 64,
   "id": "16770f76",
   "metadata": {},
   "outputs": [
    {
     "data": {
      "text/plain": [
       "((61200, 17),\n",
       " (20400, 17),\n",
       " (8160, 17),\n",
       " (18360, 17),\n",
       " (8160, 17),\n",
       " (4080, 17),\n",
       " (2040, 17))"
      ]
     },
     "execution_count": 64,
     "metadata": {},
     "output_type": "execute_result"
    }
   ],
   "source": [
    "train_cl_0.shape, train_cl_1.shape, train_cl_2.shape, train_cl_3.shape, train_cl_4.shape, train_cl_5.shape, train_cl_6.shape"
   ]
  },
  {
   "cell_type": "code",
   "execution_count": 65,
   "id": "62ab7782",
   "metadata": {},
   "outputs": [],
   "source": [
    "train_cl_0_y = train_cl.loc[train_cl.km_cluster == 0, 'target'].reset_index(drop=True)\n",
    "train_cl_1_y = train_cl.loc[train_cl.km_cluster == 1, 'target'].reset_index(drop=True)\n",
    "train_cl_2_y = train_cl.loc[train_cl.km_cluster == 2, 'target'].reset_index(drop=True)\n",
    "train_cl_3_y = train_cl.loc[train_cl.km_cluster == 3, 'target'].reset_index(drop=True)\n",
    "train_cl_4_y = train_cl.loc[train_cl.km_cluster == 4, 'target'].reset_index(drop=True)\n",
    "train_cl_5_y = train_cl.loc[train_cl.km_cluster == 5, 'target'].reset_index(drop=True)\n",
    "train_cl_6_y = train_cl.loc[train_cl.km_cluster == 6, 'target'].reset_index(drop=True)"
   ]
  },
  {
   "cell_type": "code",
   "execution_count": 66,
   "id": "cb79343d",
   "metadata": {},
   "outputs": [
    {
     "data": {
      "text/plain": [
       "((61200,), (20400,), (8160,), (18360,), (8160,), (4080,), (2040,))"
      ]
     },
     "execution_count": 66,
     "metadata": {},
     "output_type": "execute_result"
    }
   ],
   "source": [
    "train_cl_0_y.shape, train_cl_1_y.shape, train_cl_2_y.shape, train_cl_3_y.shape, train_cl_4_y.shape, train_cl_5_y.shape, train_cl_6_y.shape"
   ]
  },
  {
   "cell_type": "code",
   "execution_count": 67,
   "id": "03977425",
   "metadata": {},
   "outputs": [],
   "source": [
    "test_cl_0 = test_cl.loc[test_cl.km_cluster == 0, ~test_cl.columns.isin(['km_cluster'])]\n",
    "test_cl_1 = test_cl.loc[test_cl.km_cluster == 1, ~test_cl.columns.isin(['km_cluster'])]\n",
    "test_cl_2 = test_cl.loc[test_cl.km_cluster == 2, ~test_cl.columns.isin(['km_cluster'])]\n",
    "test_cl_3 = test_cl.loc[test_cl.km_cluster == 3, ~test_cl.columns.isin(['km_cluster'])]\n",
    "test_cl_4 = test_cl.loc[test_cl.km_cluster == 4, ~test_cl.columns.isin(['km_cluster'])]\n",
    "test_cl_5 = test_cl.loc[test_cl.km_cluster == 5, ~test_cl.columns.isin(['km_cluster'])]\n",
    "test_cl_6 = test_cl.loc[test_cl.km_cluster == 6, ~test_cl.columns.isin(['km_cluster'])]"
   ]
  },
  {
   "cell_type": "code",
   "execution_count": 68,
   "id": "4aad6dab",
   "metadata": {},
   "outputs": [
    {
     "data": {
      "text/plain": [
       "((5040, 17),\n",
       " (1680, 17),\n",
       " (672, 17),\n",
       " (1512, 17),\n",
       " (672, 17),\n",
       " (336, 17),\n",
       " (168, 17))"
      ]
     },
     "execution_count": 68,
     "metadata": {},
     "output_type": "execute_result"
    }
   ],
   "source": [
    "test_cl_0.shape, test_cl_1.shape, test_cl_2.shape, test_cl_3.shape, test_cl_4.shape, test_cl_5.shape, test_cl_6.shape"
   ]
  },
  {
   "cell_type": "code",
   "execution_count": 69,
   "id": "b3979d51",
   "metadata": {},
   "outputs": [],
   "source": [
    "train_x_sets = [train_cl_0, train_cl_1, train_cl_2, train_cl_3, train_cl_4, train_cl_5, train_cl_6]\n",
    "train_y_sets = [train_cl_0_y, train_cl_1_y, train_cl_2_y, train_cl_3_y, train_cl_4_y, train_cl_5_y, train_cl_6_y]\n",
    "test_x_sets = [test_cl_0, test_cl_1, test_cl_2, test_cl_3, test_cl_4, test_cl_5, test_cl_6]"
   ]
  },
  {
   "cell_type": "code",
   "execution_count": 70,
   "id": "9638a7e0",
   "metadata": {},
   "outputs": [
    {
     "name": "stderr",
     "output_type": "stream",
     "text": [
      "7it [00:43,  6.25s/it]\n"
     ]
    }
   ],
   "source": [
    "preds = []\n",
    "fe = []\n",
    "for x, y, t in tqdm(zip(train_x_sets, train_y_sets, test_x_sets)):\n",
    "    rf = RandomForestRegressor(random_state=42)\n",
    "    rf.fit(x, y)\n",
    "    pred = rf.predict(t)\n",
    "    preds.append(pred)\n",
    "    fe.append(rf.feature_importances_)"
   ]
  },
  {
   "cell_type": "code",
   "execution_count": 71,
   "id": "7485af9e",
   "metadata": {},
   "outputs": [],
   "source": [
    "pred_set = []\n",
    "for t, p in zip(test_x_sets, preds):\n",
    "    t['pred'] = p\n",
    "    pred_set.append(t)"
   ]
  },
  {
   "cell_type": "code",
   "execution_count": 72,
   "id": "28befee9",
   "metadata": {},
   "outputs": [],
   "source": [
    "pred_set = pd.concat(pred_set).sort_index()"
   ]
  },
  {
   "cell_type": "code",
   "execution_count": 73,
   "id": "317a5622",
   "metadata": {},
   "outputs": [],
   "source": [
    "sub.answer = pred_set.pred"
   ]
  },
  {
   "cell_type": "code",
   "execution_count": 922,
   "id": "f2afe0ba",
   "metadata": {},
   "outputs": [
    {
     "data": {
      "text/html": [
       "<div>\n",
       "<style scoped>\n",
       "    .dataframe tbody tr th:only-of-type {\n",
       "        vertical-align: middle;\n",
       "    }\n",
       "\n",
       "    .dataframe tbody tr th {\n",
       "        vertical-align: top;\n",
       "    }\n",
       "\n",
       "    .dataframe thead th {\n",
       "        text-align: right;\n",
       "    }\n",
       "</style>\n",
       "<table border=\"1\" class=\"dataframe\">\n",
       "  <thead>\n",
       "    <tr style=\"text-align: right;\">\n",
       "      <th></th>\n",
       "      <th>num_date_time</th>\n",
       "      <th>answer</th>\n",
       "    </tr>\n",
       "  </thead>\n",
       "  <tbody>\n",
       "    <tr>\n",
       "      <th>0</th>\n",
       "      <td>1 2020-08-25 00</td>\n",
       "      <td>8671.87296</td>\n",
       "    </tr>\n",
       "    <tr>\n",
       "      <th>1</th>\n",
       "      <td>1 2020-08-25 01</td>\n",
       "      <td>8669.97432</td>\n",
       "    </tr>\n",
       "    <tr>\n",
       "      <th>2</th>\n",
       "      <td>1 2020-08-25 02</td>\n",
       "      <td>8669.09304</td>\n",
       "    </tr>\n",
       "    <tr>\n",
       "      <th>3</th>\n",
       "      <td>1 2020-08-25 03</td>\n",
       "      <td>8666.65656</td>\n",
       "    </tr>\n",
       "    <tr>\n",
       "      <th>4</th>\n",
       "      <td>1 2020-08-25 04</td>\n",
       "      <td>8656.40520</td>\n",
       "    </tr>\n",
       "    <tr>\n",
       "      <th>...</th>\n",
       "      <td>...</td>\n",
       "      <td>...</td>\n",
       "    </tr>\n",
       "    <tr>\n",
       "      <th>10075</th>\n",
       "      <td>60 2020-08-31 19</td>\n",
       "      <td>4089.12192</td>\n",
       "    </tr>\n",
       "    <tr>\n",
       "      <th>10076</th>\n",
       "      <td>60 2020-08-31 20</td>\n",
       "      <td>3981.68352</td>\n",
       "    </tr>\n",
       "    <tr>\n",
       "      <th>10077</th>\n",
       "      <td>60 2020-08-31 21</td>\n",
       "      <td>3786.92928</td>\n",
       "    </tr>\n",
       "    <tr>\n",
       "      <th>10078</th>\n",
       "      <td>60 2020-08-31 22</td>\n",
       "      <td>3510.26352</td>\n",
       "    </tr>\n",
       "    <tr>\n",
       "      <th>10079</th>\n",
       "      <td>60 2020-08-31 23</td>\n",
       "      <td>3418.48512</td>\n",
       "    </tr>\n",
       "  </tbody>\n",
       "</table>\n",
       "<p>10080 rows × 2 columns</p>\n",
       "</div>"
      ],
      "text/plain": [
       "          num_date_time      answer\n",
       "0       1 2020-08-25 00  8671.87296\n",
       "1       1 2020-08-25 01  8669.97432\n",
       "2       1 2020-08-25 02  8669.09304\n",
       "3       1 2020-08-25 03  8666.65656\n",
       "4       1 2020-08-25 04  8656.40520\n",
       "...                 ...         ...\n",
       "10075  60 2020-08-31 19  4089.12192\n",
       "10076  60 2020-08-31 20  3981.68352\n",
       "10077  60 2020-08-31 21  3786.92928\n",
       "10078  60 2020-08-31 22  3510.26352\n",
       "10079  60 2020-08-31 23  3418.48512\n",
       "\n",
       "[10080 rows x 2 columns]"
      ]
     },
     "execution_count": 922,
     "metadata": {},
     "output_type": "execute_result"
    }
   ],
   "source": [
    "sub.to_csv('submission/210608_rf-vanila_clusters-and-buildings.csv', index=False)\n",
    "sub"
   ]
  },
  {
   "cell_type": "code",
   "execution_count": 74,
   "id": "3ccf284e",
   "metadata": {},
   "outputs": [
    {
     "data": {
      "text/html": [
       "<div>\n",
       "<style scoped>\n",
       "    .dataframe tbody tr th:only-of-type {\n",
       "        vertical-align: middle;\n",
       "    }\n",
       "\n",
       "    .dataframe tbody tr th {\n",
       "        vertical-align: top;\n",
       "    }\n",
       "\n",
       "    .dataframe thead th {\n",
       "        text-align: right;\n",
       "    }\n",
       "</style>\n",
       "<table border=\"1\" class=\"dataframe\">\n",
       "  <thead>\n",
       "    <tr style=\"text-align: right;\">\n",
       "      <th></th>\n",
       "      <th>num_date_time</th>\n",
       "      <th>answer</th>\n",
       "    </tr>\n",
       "  </thead>\n",
       "  <tbody>\n",
       "    <tr>\n",
       "      <th>0</th>\n",
       "      <td>1 2020-08-25 00</td>\n",
       "      <td>8675.19720</td>\n",
       "    </tr>\n",
       "    <tr>\n",
       "      <th>1</th>\n",
       "      <td>1 2020-08-25 01</td>\n",
       "      <td>8671.44528</td>\n",
       "    </tr>\n",
       "    <tr>\n",
       "      <th>2</th>\n",
       "      <td>1 2020-08-25 02</td>\n",
       "      <td>8670.75192</td>\n",
       "    </tr>\n",
       "    <tr>\n",
       "      <th>3</th>\n",
       "      <td>1 2020-08-25 03</td>\n",
       "      <td>8666.96760</td>\n",
       "    </tr>\n",
       "    <tr>\n",
       "      <th>4</th>\n",
       "      <td>1 2020-08-25 04</td>\n",
       "      <td>8657.15040</td>\n",
       "    </tr>\n",
       "    <tr>\n",
       "      <th>...</th>\n",
       "      <td>...</td>\n",
       "      <td>...</td>\n",
       "    </tr>\n",
       "    <tr>\n",
       "      <th>10075</th>\n",
       "      <td>60 2020-08-31 19</td>\n",
       "      <td>4091.33808</td>\n",
       "    </tr>\n",
       "    <tr>\n",
       "      <th>10076</th>\n",
       "      <td>60 2020-08-31 20</td>\n",
       "      <td>3979.33344</td>\n",
       "    </tr>\n",
       "    <tr>\n",
       "      <th>10077</th>\n",
       "      <td>60 2020-08-31 21</td>\n",
       "      <td>3789.91440</td>\n",
       "    </tr>\n",
       "    <tr>\n",
       "      <th>10078</th>\n",
       "      <td>60 2020-08-31 22</td>\n",
       "      <td>3534.15744</td>\n",
       "    </tr>\n",
       "    <tr>\n",
       "      <th>10079</th>\n",
       "      <td>60 2020-08-31 23</td>\n",
       "      <td>3413.03760</td>\n",
       "    </tr>\n",
       "  </tbody>\n",
       "</table>\n",
       "<p>10080 rows × 2 columns</p>\n",
       "</div>"
      ],
      "text/plain": [
       "          num_date_time      answer\n",
       "0       1 2020-08-25 00  8675.19720\n",
       "1       1 2020-08-25 01  8671.44528\n",
       "2       1 2020-08-25 02  8670.75192\n",
       "3       1 2020-08-25 03  8666.96760\n",
       "4       1 2020-08-25 04  8657.15040\n",
       "...                 ...         ...\n",
       "10075  60 2020-08-31 19  4091.33808\n",
       "10076  60 2020-08-31 20  3979.33344\n",
       "10077  60 2020-08-31 21  3789.91440\n",
       "10078  60 2020-08-31 22  3534.15744\n",
       "10079  60 2020-08-31 23  3413.03760\n",
       "\n",
       "[10080 rows x 2 columns]"
      ]
     },
     "execution_count": 74,
     "metadata": {},
     "output_type": "execute_result"
    }
   ],
   "source": [
    "sub.to_csv('submission/210609_rf-vanila_clusters-and-buildings+holiday.csv', index=False)\n",
    "sub"
   ]
  },
  {
   "cell_type": "code",
   "execution_count": 76,
   "id": "b28aa032",
   "metadata": {},
   "outputs": [
    {
     "data": {
      "image/png": "[encoded data removed]",
      "text/plain": [
       "<Figure size 1152x576 with 1 Axes>"
      ]
     },
     "metadata": {
      "needs_background": "light"
     },
     "output_type": "display_data"
    }
   ],
   "source": [
    "warnings.simplefilter(action='ignore', category=FutureWarning)\n",
    "plt.rcParams[\"font.size\"] = \"14\"\n",
    "\n",
    "fe_avg = pd.DataFrame(np.mean(fe, axis=0),\n",
    "                      index=x.columns, columns=['fe']).sort_values(by=['fe'], ascending=False)\n",
    "\n",
    "plt.figure(figsize=(16, 8))\n",
    "plots = sns.barplot(fe_avg.fe, y=fe_avg.index)\n",
    "\n",
    "# Annotate every single Bar with its value, based on it's width           \n",
    "for bar in plots.patches:\n",
    "    width = bar.get_width()\n",
    "    plt.text(0.015+ bar.get_width(),\n",
    "             bar.get_y() + 0.5 * bar.get_height(),\n",
    "             '{:.3f}'.format(width),\n",
    "             ha='center', va='center')\n",
    "\n",
    "plt.show()"
   ]
  },
  {
   "cell_type": "code",
   "execution_count": null,
   "id": "2a41ff81",
   "metadata": {},
   "outputs": [],
   "source": []
  }
 ],
 "metadata": {
  "kernelspec": {
   "display_name": "wyatt38",
   "language": "python",
   "name": "wyatt38"
  },
  "language_info": {
   "codemirror_mode": {
    "name": "ipython",
    "version": 3
   },
   "file_extension": ".py",
   "mimetype": "text/x-python",
   "name": "python",
   "nbconvert_exporter": "python",
   "pygments_lexer": "ipython3",
   "version": "3.8.0"
  }
 },
 "nbformat": 4,
 "nbformat_minor": 5
}
